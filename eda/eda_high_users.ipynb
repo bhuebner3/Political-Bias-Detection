{
 "cells": [
  {
   "cell_type": "markdown",
   "metadata": {},
   "source": [
    "This notebook is not used, but if I wanted to use it I'll need to import data_full"
   ]
  },
  {
   "cell_type": "code",
   "execution_count": 1,
   "metadata": {},
   "outputs": [],
   "source": [
    "import pandas as pd"
   ]
  },
  {
   "cell_type": "code",
   "execution_count": null,
   "metadata": {},
   "outputs": [
    {
     "data": {
      "text/plain": [
       "Index(['views'], dtype='object')"
      ]
     },
     "metadata": {},
     "output_type": "display_data"
    }
   ],
   "source": [
    "# This view part is now irrelvant because I only kept one article view per user\n",
    "views = df_full.ID_User.value_counts()\n",
    "view_df = pd.DataFrame({'views' : views})\n",
    "view_df.index.name = 'ID_User'\n",
    "view_df.columns"
   ]
  },
  {
   "cell_type": "code",
   "execution_count": null,
   "metadata": {},
   "outputs": [
    {
     "data": {
      "text/plain": [
       "count   138306.00\n",
       "mean        65.75\n",
       "std         85.11\n",
       "min          1.00\n",
       "1%           1.00\n",
       "10%          3.00\n",
       "25%         10.00\n",
       "50%         35.00\n",
       "75%         89.00\n",
       "90%        170.00\n",
       "95%        234.00\n",
       "96%        255.00\n",
       "97%        282.00\n",
       "98%        321.00\n",
       "99%        389.00\n",
       "99.8%      553.00\n",
       "99.9%      631.00\n",
       "max       2246.00\n",
       "Name: ID_User, dtype: float64"
      ]
     },
     "metadata": {},
     "output_type": "display_data"
    }
   ],
   "source": [
    "views.describe(percentiles = [.01, .10, .25, .5, .75, .90, .95, .96, .97, .98, .99, .998, .999])"
   ]
  },
  {
   "cell_type": "code",
   "execution_count": null,
   "metadata": {},
   "outputs": [
    {
     "name": "stderr",
     "output_type": "stream",
     "text": [
      "<frozen importlib._bootstrap>:228: RuntimeWarning: scipy._lib.messagestream.MessageStream size changed, may indicate binary incompatibility. Expected 56 from C header, got 64 from PyObject\n"
     ]
    },
    {
     "data": {
      "image/png": "[encoded data removed]",
      "text/plain": [
       "<Figure size 640x480 with 1 Axes>"
      ]
     },
     "metadata": {},
     "output_type": "display_data"
    }
   ],
   "source": [
    "# box-cox transform\n",
    "from numpy.random import seed\n",
    "from numpy.random import randn\n",
    "from numpy import exp\n",
    "from scipy.stats import boxcox\n",
    "from matplotlib import pyplot\n",
    "# seed the random number generator\n",
    "seed(1)\n",
    "# power transform\n",
    "views_trans = pd.Series(boxcox(views, 0))\n",
    "# histogram\n",
    "pyplot.hist(views_trans, edgecolor = 'black', bins = 20)\n",
    "pyplot.show()"
   ]
  },
  {
   "cell_type": "code",
   "execution_count": null,
   "metadata": {},
   "outputs": [
    {
     "data": {
      "text/plain": [
       "count    138306.000000\n",
       "mean          4.356284\n",
       "std           1.854183\n",
       "min           0.000000\n",
       "25%           3.135494\n",
       "50%           4.488636\n",
       "75%           5.666427\n",
       "max          11.101130\n",
       "dtype: float64"
      ]
     },
     "metadata": {},
     "output_type": "display_data"
    }
   ],
   "source": [
    "views_trans.describe()"
   ]
  },
  {
   "cell_type": "code",
   "execution_count": null,
   "metadata": {},
   "outputs": [
    {
     "data": {
      "text/plain": [
       "8036.450341424565"
      ]
     },
     "metadata": {},
     "output_type": "display_data"
    }
   ],
   "source": [
    "math.exp(views_trans.mean() + 2.5*views_trans.std())"
   ]
  },
  {
   "cell_type": "code",
   "execution_count": null,
   "metadata": {},
   "outputs": [],
   "source": [
    "highest_user = view_df.loc[view_df.views >= 66246,].index"
   ]
  },
  {
   "cell_type": "code",
   "execution_count": null,
   "metadata": {},
   "outputs": [],
   "source": [
    "highest_user_clicks = df_full.loc[df_full.ID_User.isin(highest_user),]"
   ]
  },
  {
   "cell_type": "code",
   "execution_count": null,
   "metadata": {},
   "outputs": [
    {
     "name": "stdout",
     "output_type": "stream",
     "text": [
      "131\n",
      "          ID_Day  ID_Visit  PiNr  ID_Click                 ID  ID_Time  \\\n",
      "15113453    7980      1322   407     28115  20211106003345030      848   \n",
      "15113454    7979       612   160     14366  20211105007328748     1362   \n",
      "15113455    7979       612   176     14382  20211105007341199     1364   \n",
      "15113456    7979       612   177     14383  20211105007341292     1364   \n",
      "15113457    7979       612   178     14384  20211105007341474     1364   \n",
      "\n",
      "                       Cookie  SID_Content  SID_Produkt  SID_ObjectType  \\\n",
      "15113453 -3239852258164323768      3365729            2               8   \n",
      "15113454 -3239852258164323768      3365729            7               8   \n",
      "15113455 -3239852258164323768      3365729            7               8   \n",
      "15113456 -3239852258164323768      3365729            7               8   \n",
      "15113457 -3239852258164323768      3365729            7               8   \n",
      "\n",
      "          SID_MediaType  IsBounce  IsExit  IsPosting  IsUser  IsReload  \\\n",
      "15113453              2     False   False      False    True     False   \n",
      "15113454              2     False   False      False    True     False   \n",
      "15113455              2     False   False      False    True     False   \n",
      "15113456              2     False   False      False    True     False   \n",
      "15113457              2     False   False      False    True     False   \n",
      "\n",
      "          TimeOnPageMsec   ID_User  SID_Browser  SID_OS  SID_Geo  \\\n",
      "15113453            4412  157712.0          715      88  2761369   \n",
      "15113454            2518  157712.0          715      88  2782113   \n",
      "15113455             951  157712.0          715      88  2782113   \n",
      "15113456            1899  157712.0          715      88  2782113   \n",
      "15113457            1277  157712.0          715      88  2782113   \n",
      "\n",
      "          SID_RefererCategory  SID_Domain  ID_GodotObject ChannelTopRessort  \\\n",
      "15113453                    8           1   2000130919062        (Panorama)   \n",
      "15113454                    7           1   2000130919062        (Panorama)   \n",
      "15113455                    7           1   2000130919062        (Panorama)   \n",
      "15113456                    7           1   2000130919062        (Panorama)   \n",
      "15113457                    7           1   2000130919062        (Panorama)   \n",
      "\n",
      "           ObjectType  UserIsActive Gender           UserCreatedAt  year  \n",
      "15113453  LiveBericht          True     NS 2017-12-14 10:02:11.123  2017  \n",
      "15113454  LiveBericht          True     NS 2017-12-14 10:02:11.123  2017  \n",
      "15113455  LiveBericht          True     NS 2017-12-14 10:02:11.123  2017  \n",
      "15113456  LiveBericht          True     NS 2017-12-14 10:02:11.123  2017  \n",
      "15113457  LiveBericht          True     NS 2017-12-14 10:02:11.123  2017  \n"
     ]
    }
   ],
   "source": [
    "print(highest_user_clicks.SID_Content.nunique())\n",
    "print(highest_user_clicks.head())"
   ]
  },
  {
   "cell_type": "markdown",
   "metadata": {},
   "source": [
    "Remove 1% of users which represents users with more than 3873 total views (129 views per day)"
   ]
  },
  {
   "cell_type": "code",
   "execution_count": null,
   "metadata": {},
   "outputs": [],
   "source": [
    "high_users = view_df.loc[view_df.views > 3873,].index"
   ]
  },
  {
   "cell_type": "code",
   "execution_count": null,
   "metadata": {},
   "outputs": [
    {
     "name": "stdout",
     "output_type": "stream",
     "text": [
      "views    10212785\n",
      "dtype: int64\n",
      "views    0.21814\n",
      "dtype: float64\n"
     ]
    }
   ],
   "source": [
    "print(view_df.loc[view_df.views > 3873,].sum())\n",
    "print((view_df.loc[view_df.views > 3873,].sum())/len(df_full))"
   ]
  },
  {
   "cell_type": "code",
   "execution_count": null,
   "metadata": {},
   "outputs": [
    {
     "data": {
      "text/plain": [
       "(10216658, 29)"
      ]
     },
     "metadata": {},
     "output_type": "display_data"
    }
   ],
   "source": [
    "df_full = df_full.loc[-df_full.ID_User.isin(high_users),]\n",
    "df_full.shape"
   ]
  }
 ],
 "metadata": {
  "interpreter": {
   "hash": "51ff47f0dacf2fb2da9303db8ac9b14c37317ddba727b462e1272899e66bda23"
  },
  "kernelspec": {
   "display_name": "Python 3.9.13 ('Blake_Thesis')",
   "language": "python",
   "name": "python3"
  },
  "language_info": {
   "codemirror_mode": {
    "name": "ipython",
    "version": 3
   },
   "file_extension": ".py",
   "mimetype": "text/x-python",
   "name": "python",
   "nbconvert_exporter": "python",
   "pygments_lexer": "ipython3",
   "version": "3.9.13"
  },
  "orig_nbformat": 4
 },
 "nbformat": 4,
 "nbformat_minor": 2
}
