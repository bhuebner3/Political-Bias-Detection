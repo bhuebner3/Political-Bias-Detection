{
 "cells": [
  {
   "cell_type": "code",
   "execution_count": 1,
   "metadata": {},
   "outputs": [],
   "source": [
    "import pandas as pd\n",
    "pd.set_option(\"display.max_rows\", 50)\n",
    "pd.set_option(\"display.max_columns\", 50)"
   ]
  },
  {
   "cell_type": "markdown",
   "metadata": {},
   "source": [
    "### List of steps to obtain click data (drop clicks that are not connected to articles)\n",
    "1. Import cleaned click data (already removed TimeOnPageMsec = 0, no UserID, and two SID_Content codes that do not link to articles)\n",
    "2. Inner merge ChannelTopRessort and ID_GodotObject from dimcontent onto clicks. This will drop data that is not connected to articles"
   ]
  },
  {
   "cell_type": "code",
   "execution_count": 2,
   "metadata": {},
   "outputs": [
    {
     "name": "stdout",
     "output_type": "stream",
     "text": [
      "(47664284, 23)\n"
     ]
    }
   ],
   "source": [
    "df_clicks = pd.read_pickle(\"df_clicks_clean_7955_7984.pkl\")\n",
    "print(df_clicks.shape)\n",
    "df_dimcontent = pd.read_pickle(\"df_dimcontent.pkl\")\n",
    "df_dimcontent = df_dimcontent.loc[:,['SID_Content','ID_GodotObject', 'ChannelTopRessort', 'ObjectType', 'Channel']]"
   ]
  },
  {
   "cell_type": "code",
   "execution_count": 3,
   "metadata": {},
   "outputs": [
    {
     "name": "stdout",
     "output_type": "stream",
     "text": [
      "1558554\n",
      "1558554\n"
     ]
    }
   ],
   "source": [
    "print(df_dimcontent.SID_Content.nunique())\n",
    "print(df_dimcontent.ID_GodotObject.nunique())"
   ]
  },
  {
   "cell_type": "code",
   "execution_count": 4,
   "metadata": {},
   "outputs": [
    {
     "data": {
      "text/plain": [
       "(9304992, 23)"
      ]
     },
     "execution_count": 4,
     "metadata": {},
     "output_type": "execute_result"
    }
   ],
   "source": [
    "# Next step, flatten df_clicks file so it only keeps the first click of user on article.\n",
    "df_article_clicks = df_clicks.drop_duplicates(subset=['ID_User', 'SID_Content'], keep = 'first')\n",
    "df_article_clicks.shape"
   ]
  },
  {
   "cell_type": "code",
   "execution_count": 5,
   "metadata": {},
   "outputs": [
    {
     "data": {
      "text/plain": [
       "(9093868, 27)"
      ]
     },
     "execution_count": 5,
     "metadata": {},
     "output_type": "execute_result"
    }
   ],
   "source": [
    "df_full = pd.merge(df_article_clicks, df_dimcontent, how = 'inner', on= 'SID_Content')\n",
    "df_full.shape"
   ]
  },
  {
   "cell_type": "markdown",
   "metadata": {},
   "source": [
    "1. Merge onto user file, drops clicks that do not come from user ID\n",
    "2. Remove users with too many views"
   ]
  },
  {
   "cell_type": "code",
   "execution_count": 6,
   "metadata": {},
   "outputs": [
    {
     "data": {
      "text/plain": [
       "(858926, 4)"
      ]
     },
     "execution_count": 6,
     "metadata": {},
     "output_type": "execute_result"
    }
   ],
   "source": [
    "df_user = pd.read_pickle(\"df_user.pkl\")\n",
    "df_user.shape"
   ]
  },
  {
   "cell_type": "code",
   "execution_count": 7,
   "metadata": {},
   "outputs": [
    {
     "data": {
      "text/html": [
       "<div>\n",
       "<style scoped>\n",
       "    .dataframe tbody tr th:only-of-type {\n",
       "        vertical-align: middle;\n",
       "    }\n",
       "\n",
       "    .dataframe tbody tr th {\n",
       "        vertical-align: top;\n",
       "    }\n",
       "\n",
       "    .dataframe thead th {\n",
       "        text-align: right;\n",
       "    }\n",
       "</style>\n",
       "<table border=\"1\" class=\"dataframe\">\n",
       "  <thead>\n",
       "    <tr style=\"text-align: right;\">\n",
       "      <th></th>\n",
       "      <th>ID_User</th>\n",
       "      <th>UserIsActive</th>\n",
       "      <th>Gender</th>\n",
       "      <th>UserCreatedAt</th>\n",
       "    </tr>\n",
       "  </thead>\n",
       "  <tbody>\n",
       "    <tr>\n",
       "      <th>0</th>\n",
       "      <td>1</td>\n",
       "      <td>False</td>\n",
       "      <td>m</td>\n",
       "      <td>2012-10-25 20:22:21.863</td>\n",
       "    </tr>\n",
       "    <tr>\n",
       "      <th>4</th>\n",
       "      <td>5</td>\n",
       "      <td>False</td>\n",
       "      <td>m</td>\n",
       "      <td>2017-01-12 22:30:02.497</td>\n",
       "    </tr>\n",
       "    <tr>\n",
       "      <th>5</th>\n",
       "      <td>6</td>\n",
       "      <td>True</td>\n",
       "      <td>w</td>\n",
       "      <td>2015-02-21 22:48:58.280</td>\n",
       "    </tr>\n",
       "    <tr>\n",
       "      <th>7</th>\n",
       "      <td>8</td>\n",
       "      <td>False</td>\n",
       "      <td>w</td>\n",
       "      <td>2014-01-03 09:52:31.927</td>\n",
       "    </tr>\n",
       "    <tr>\n",
       "      <th>8</th>\n",
       "      <td>9</td>\n",
       "      <td>False</td>\n",
       "      <td>m</td>\n",
       "      <td>2011-11-20 14:42:01.877</td>\n",
       "    </tr>\n",
       "  </tbody>\n",
       "</table>\n",
       "</div>"
      ],
      "text/plain": [
       "   ID_User  UserIsActive Gender           UserCreatedAt\n",
       "0        1         False      m 2012-10-25 20:22:21.863\n",
       "4        5         False      m 2017-01-12 22:30:02.497\n",
       "5        6          True      w 2015-02-21 22:48:58.280\n",
       "7        8         False      w 2014-01-03 09:52:31.927\n",
       "8        9         False      m 2011-11-20 14:42:01.877"
      ]
     },
     "execution_count": 7,
     "metadata": {},
     "output_type": "execute_result"
    }
   ],
   "source": [
    "df_user.dropna(subset='Gender', inplace = True)\n",
    "df_user.head()"
   ]
  },
  {
   "cell_type": "code",
   "execution_count": 8,
   "metadata": {},
   "outputs": [
    {
     "data": {
      "text/html": [
       "<style type=\"text/css\">\n",
       "</style>\n",
       "<table id=\"T_132e4\">\n",
       "  <thead>\n",
       "    <tr>\n",
       "      <th class=\"blank level0\" >&nbsp;</th>\n",
       "      <th id=\"T_132e4_level0_col0\" class=\"col_heading level0 col0\" >count</th>\n",
       "      <th id=\"T_132e4_level0_col1\" class=\"col_heading level0 col1\" >percentage</th>\n",
       "    </tr>\n",
       "  </thead>\n",
       "  <tbody>\n",
       "    <tr>\n",
       "      <th id=\"T_132e4_level0_row0\" class=\"row_heading level0 row0\" >m</th>\n",
       "      <td id=\"T_132e4_row0_col0\" class=\"data row0 col0\" >306,196</td>\n",
       "      <td id=\"T_132e4_row0_col1\" class=\"data row0 col1\" >0.6380292930534747</td>\n",
       "    </tr>\n",
       "    <tr>\n",
       "      <th id=\"T_132e4_level0_row1\" class=\"row_heading level0 row1\" >w</th>\n",
       "      <td id=\"T_132e4_row1_col0\" class=\"data row1 col0\" >173,713</td>\n",
       "      <td id=\"T_132e4_row1_col1\" class=\"data row1 col1\" >0.3619707069465253</td>\n",
       "    </tr>\n",
       "  </tbody>\n",
       "</table>\n"
      ],
      "text/plain": [
       "<pandas.io.formats.style.Styler at 0x2b27f075d30>"
      ]
     },
     "execution_count": 8,
     "metadata": {},
     "output_type": "execute_result"
    }
   ],
   "source": [
    "pd.DataFrame({'count':df_user.Gender.value_counts(), 'percentage':df_user.Gender.value_counts(normalize=True)}).style.format('{:,}')"
   ]
  },
  {
   "cell_type": "code",
   "execution_count": 9,
   "metadata": {},
   "outputs": [
    {
     "data": {
      "text/plain": [
       "(3497408, 30)"
      ]
     },
     "execution_count": 9,
     "metadata": {},
     "output_type": "execute_result"
    }
   ],
   "source": [
    "df_full = pd.merge(df_full, df_user, how = 'inner', on = 'ID_User')\n",
    "df_full.shape"
   ]
  },
  {
   "cell_type": "code",
   "execution_count": 10,
   "metadata": {},
   "outputs": [],
   "source": [
    "df_full['year'] = df_full['UserCreatedAt'].dt.year\n",
    "df_full[\"Gender\"] = df_full[\"Gender\"].fillna(\"NS\")"
   ]
  },
  {
   "cell_type": "code",
   "execution_count": 11,
   "metadata": {},
   "outputs": [],
   "source": [
    "# how many days are the users active?\n",
    "df_by_user = df_full.groupby('ID_User')\n",
    "user_days_active = df_by_user.ID_Day.nunique()\n",
    "user_articles_read = df_by_user.SID_Content.nunique()\n",
    "user_days_active_df = pd.DataFrame({'ID_User':user_days_active.index, 'Days_Active': user_days_active.values, 'Article_Count':user_articles_read.values})\n",
    "user_days_active_df = pd.merge(user_days_active_df, df_user, on = 'ID_User')\n",
    "user_days_active_df.head()\n",
    "user_days_active_df['Articles_per_day'] = user_days_active_df.Article_Count / user_days_active_df.Days_Active\n"
   ]
  },
  {
   "cell_type": "code",
   "execution_count": 12,
   "metadata": {},
   "outputs": [
    {
     "name": "stdout",
     "output_type": "stream",
     "text": [
      "Number of users by gender\n",
      "m    31683\n",
      "w     7653\n",
      "Name: Gender, dtype: int64\n",
      "m    0.805445\n",
      "w    0.194555\n",
      "Name: Gender, dtype: float64\n",
      "Number of active days by gender\n",
      "Gender\n",
      "m    17.216741\n",
      "w    14.366262\n",
      "Name: Days_Active, dtype: float64\n",
      "Number of articles read by gender\n",
      "Gender\n",
      "m    93.897169\n",
      "w    68.269175\n",
      "Name: Article_Count, dtype: float64\n",
      "Number of articles read per day by gender\n",
      "Gender\n",
      "m    4.446395\n",
      "w    3.704062\n",
      "Name: Articles_per_day, dtype: float64\n"
     ]
    }
   ],
   "source": [
    "# Number of users by gender\n",
    "print('Number of users by gender')\n",
    "print(user_days_active_df.Gender.value_counts())\n",
    "print(user_days_active_df.Gender.value_counts(normalize=True))\n",
    "# Number of active days by gender\n",
    "print('Number of active days by gender')\n",
    "print(user_days_active_df.groupby('Gender').Days_Active.mean())\n",
    "# Number of articles read by gender\n",
    "print('Number of articles read by gender')\n",
    "print(user_days_active_df.groupby('Gender').Article_Count.mean())\n",
    "# Number of articles read by gender per day\n",
    "print('Number of articles read per day by gender')\n",
    "print(user_days_active_df.groupby('Gender').Articles_per_day.mean())"
   ]
  },
  {
   "cell_type": "markdown",
   "metadata": {},
   "source": [
    "Reading Behaviors"
   ]
  },
  {
   "cell_type": "code",
   "execution_count": 13,
   "metadata": {},
   "outputs": [
    {
     "data": {
      "text/html": [
       "<style type=\"text/css\">\n",
       "</style>\n",
       "<table id=\"T_b1098\">\n",
       "  <thead>\n",
       "    <tr>\n",
       "      <th class=\"blank level0\" >&nbsp;</th>\n",
       "      <th id=\"T_b1098_level0_col0\" class=\"col_heading level0 col0\" >ChannelTopRessort</th>\n",
       "    </tr>\n",
       "  </thead>\n",
       "  <tbody>\n",
       "    <tr>\n",
       "      <th id=\"T_b1098_level0_row0\" class=\"row_heading level0 row0\" >(Inland)</th>\n",
       "      <td id=\"T_b1098_row0_col0\" class=\"data row0 col0\" >448,162</td>\n",
       "    </tr>\n",
       "    <tr>\n",
       "      <th id=\"T_b1098_level0_row1\" class=\"row_heading level0 row1\" >(Panorama)</th>\n",
       "      <td id=\"T_b1098_row1_col0\" class=\"data row1 col0\" >257,744</td>\n",
       "    </tr>\n",
       "    <tr>\n",
       "      <th id=\"T_b1098_level0_row2\" class=\"row_heading level0 row2\" >Fußball</th>\n",
       "      <td id=\"T_b1098_row2_col0\" class=\"data row2 col0\" >175,874</td>\n",
       "    </tr>\n",
       "    <tr>\n",
       "      <th id=\"T_b1098_level0_row3\" class=\"row_heading level0 row3\" >Kommentare</th>\n",
       "      <td id=\"T_b1098_row3_col0\" class=\"data row3 col0\" >114,564</td>\n",
       "    </tr>\n",
       "    <tr>\n",
       "      <th id=\"T_b1098_level0_row4\" class=\"row_heading level0 row4\" >Europa</th>\n",
       "      <td id=\"T_b1098_row4_col0\" class=\"data row4 col0\" >98,298</td>\n",
       "    </tr>\n",
       "    <tr>\n",
       "      <th id=\"T_b1098_level0_row5\" class=\"row_heading level0 row5\" >Wirtschaftspolitik</th>\n",
       "      <td id=\"T_b1098_row5_col0\" class=\"data row5 col0\" >95,946</td>\n",
       "    </tr>\n",
       "    <tr>\n",
       "      <th id=\"T_b1098_level0_row6\" class=\"row_heading level0 row6\" >Österreich-Chronik</th>\n",
       "      <td id=\"T_b1098_row6_col0\" class=\"data row6 col0\" >85,782</td>\n",
       "    </tr>\n",
       "    <tr>\n",
       "      <th id=\"T_b1098_level0_row7\" class=\"row_heading level0 row7\" >Netzpolitik</th>\n",
       "      <td id=\"T_b1098_row7_col0\" class=\"data row7 col0\" >81,779</td>\n",
       "    </tr>\n",
       "    <tr>\n",
       "      <th id=\"T_b1098_level0_row8\" class=\"row_heading level0 row8\" >Innovationen</th>\n",
       "      <td id=\"T_b1098_row8_col0\" class=\"data row8 col0\" >76,853</td>\n",
       "    </tr>\n",
       "    <tr>\n",
       "      <th id=\"T_b1098_level0_row9\" class=\"row_heading level0 row9\" >(Diverses)</th>\n",
       "      <td id=\"T_b1098_row9_col0\" class=\"data row9 col0\" >76,770</td>\n",
       "    </tr>\n",
       "  </tbody>\n",
       "</table>\n"
      ],
      "text/plain": [
       "<pandas.io.formats.style.Styler at 0x2b0fa06b280>"
      ]
     },
     "execution_count": 13,
     "metadata": {},
     "output_type": "execute_result"
    }
   ],
   "source": [
    "#pd.set_option('display.float_format', lambda x: '%.2f' % x)\n",
    "pd.DataFrame(df_full.loc[df_full.Gender == 'm', 'ChannelTopRessort'].value_counts()[0:10]).style.format('{:,}')"
   ]
  },
  {
   "cell_type": "code",
   "execution_count": 139,
   "metadata": {},
   "outputs": [
    {
     "data": {
      "text/html": [
       "<style type=\"text/css\">\n",
       "</style>\n",
       "<table id=\"T_d4f9b\">\n",
       "  <thead>\n",
       "    <tr>\n",
       "      <th class=\"blank level0\" >&nbsp;</th>\n",
       "      <th id=\"T_d4f9b_level0_col0\" class=\"col_heading level0 col0\" >ChannelTopRessort</th>\n",
       "    </tr>\n",
       "  </thead>\n",
       "  <tbody>\n",
       "    <tr>\n",
       "      <th id=\"T_d4f9b_level0_row0\" class=\"row_heading level0 row0\" >(Inland)</th>\n",
       "      <td id=\"T_d4f9b_row0_col0\" class=\"data row0 col0\" >82,153</td>\n",
       "    </tr>\n",
       "    <tr>\n",
       "      <th id=\"T_d4f9b_level0_row1\" class=\"row_heading level0 row1\" >(Panorama)</th>\n",
       "      <td id=\"T_d4f9b_row1_col0\" class=\"data row1 col0\" >63,568</td>\n",
       "    </tr>\n",
       "    <tr>\n",
       "      <th id=\"T_d4f9b_level0_row2\" class=\"row_heading level0 row2\" >Kommentare</th>\n",
       "      <td id=\"T_d4f9b_row2_col0\" class=\"data row2 col0\" >22,150</td>\n",
       "    </tr>\n",
       "    <tr>\n",
       "      <th id=\"T_d4f9b_level0_row3\" class=\"row_heading level0 row3\" >(Diverses)</th>\n",
       "      <td id=\"T_d4f9b_row3_col0\" class=\"data row3 col0\" >18,138</td>\n",
       "    </tr>\n",
       "    <tr>\n",
       "      <th id=\"T_d4f9b_level0_row4\" class=\"row_heading level0 row4\" >Österreich-Chronik</th>\n",
       "      <td id=\"T_d4f9b_row4_col0\" class=\"data row4 col0\" >17,844</td>\n",
       "    </tr>\n",
       "    <tr>\n",
       "      <th id=\"T_d4f9b_level0_row5\" class=\"row_heading level0 row5\" >Welt-Chronik</th>\n",
       "      <td id=\"T_d4f9b_row5_col0\" class=\"data row5 col0\" >15,388</td>\n",
       "    </tr>\n",
       "    <tr>\n",
       "      <th id=\"T_d4f9b_level0_row6\" class=\"row_heading level0 row6\" >Kolumnen</th>\n",
       "      <td id=\"T_d4f9b_row6_col0\" class=\"data row6 col0\" >14,383</td>\n",
       "    </tr>\n",
       "    <tr>\n",
       "      <th id=\"T_d4f9b_level0_row7\" class=\"row_heading level0 row7\" >Europa</th>\n",
       "      <td id=\"T_d4f9b_row7_col0\" class=\"data row7 col0\" >14,281</td>\n",
       "    </tr>\n",
       "    <tr>\n",
       "      <th id=\"T_d4f9b_level0_row8\" class=\"row_heading level0 row8\" >Wirtschaftspolitik</th>\n",
       "      <td id=\"T_d4f9b_row8_col0\" class=\"data row8 col0\" >13,620</td>\n",
       "    </tr>\n",
       "    <tr>\n",
       "      <th id=\"T_d4f9b_level0_row9\" class=\"row_heading level0 row9\" >(Gesundheit)</th>\n",
       "      <td id=\"T_d4f9b_row9_col0\" class=\"data row9 col0\" >12,860</td>\n",
       "    </tr>\n",
       "  </tbody>\n",
       "</table>\n"
      ],
      "text/plain": [
       "<pandas.io.formats.style.Styler at 0x13c95034340>"
      ]
     },
     "execution_count": 139,
     "metadata": {},
     "output_type": "execute_result"
    }
   ],
   "source": [
    "pd.DataFrame(df_full.loc[df_full.Gender == 'w', 'ChannelTopRessort'].value_counts()[0:10]).style.format('{:,}')"
   ]
  },
  {
   "cell_type": "code",
   "execution_count": 14,
   "metadata": {},
   "outputs": [
    {
     "data": {
      "text/html": [
       "<style type=\"text/css\">\n",
       "</style>\n",
       "<table id=\"T_e9cb3\">\n",
       "  <thead>\n",
       "    <tr>\n",
       "      <th class=\"blank level0\" >&nbsp;</th>\n",
       "      <th id=\"T_e9cb3_level0_col0\" class=\"col_heading level0 col0\" >Channel</th>\n",
       "    </tr>\n",
       "  </thead>\n",
       "  <tbody>\n",
       "    <tr>\n",
       "      <th id=\"T_e9cb3_level0_row0\" class=\"row_heading level0 row0\" >Inland</th>\n",
       "      <td id=\"T_e9cb3_row0_col0\" class=\"data row0 col0\" >448,162</td>\n",
       "    </tr>\n",
       "    <tr>\n",
       "      <th id=\"T_e9cb3_level0_row1\" class=\"row_heading level0 row1\" >Panorama</th>\n",
       "      <td id=\"T_e9cb3_row1_col0\" class=\"data row1 col0\" >442,340</td>\n",
       "    </tr>\n",
       "    <tr>\n",
       "      <th id=\"T_e9cb3_level0_row2\" class=\"row_heading level0 row2\" >Web</th>\n",
       "      <td id=\"T_e9cb3_row2_col0\" class=\"data row2 col0\" >332,498</td>\n",
       "    </tr>\n",
       "    <tr>\n",
       "      <th id=\"T_e9cb3_level0_row3\" class=\"row_heading level0 row3\" >Sport</th>\n",
       "      <td id=\"T_e9cb3_row3_col0\" class=\"data row3 col0\" >282,927</td>\n",
       "    </tr>\n",
       "    <tr>\n",
       "      <th id=\"T_e9cb3_level0_row4\" class=\"row_heading level0 row4\" >Meinung</th>\n",
       "      <td id=\"T_e9cb3_row4_col0\" class=\"data row4 col0\" >232,751</td>\n",
       "    </tr>\n",
       "    <tr>\n",
       "      <th id=\"T_e9cb3_level0_row5\" class=\"row_heading level0 row5\" >International</th>\n",
       "      <td id=\"T_e9cb3_row5_col0\" class=\"data row5 col0\" >203,288</td>\n",
       "    </tr>\n",
       "    <tr>\n",
       "      <th id=\"T_e9cb3_level0_row6\" class=\"row_heading level0 row6\" >Wirtschaft</th>\n",
       "      <td id=\"T_e9cb3_row6_col0\" class=\"data row6 col0\" >176,042</td>\n",
       "    </tr>\n",
       "    <tr>\n",
       "      <th id=\"T_e9cb3_level0_row7\" class=\"row_heading level0 row7\" >Etat</th>\n",
       "      <td id=\"T_e9cb3_row7_col0\" class=\"data row7 col0\" >119,944</td>\n",
       "    </tr>\n",
       "    <tr>\n",
       "      <th id=\"T_e9cb3_level0_row8\" class=\"row_heading level0 row8\" >Lifestyle</th>\n",
       "      <td id=\"T_e9cb3_row8_col0\" class=\"data row8 col0\" >103,362</td>\n",
       "    </tr>\n",
       "    <tr>\n",
       "      <th id=\"T_e9cb3_level0_row9\" class=\"row_heading level0 row9\" >Wissenschaft</th>\n",
       "      <td id=\"T_e9cb3_row9_col0\" class=\"data row9 col0\" >92,051</td>\n",
       "    </tr>\n",
       "  </tbody>\n",
       "</table>\n"
      ],
      "text/plain": [
       "<pandas.io.formats.style.Styler at 0x2b0a87d8be0>"
      ]
     },
     "execution_count": 14,
     "metadata": {},
     "output_type": "execute_result"
    }
   ],
   "source": [
    "pd.DataFrame(df_full.loc[df_full.Gender == 'm', 'Channel'].value_counts()[0:10]).style.format('{:,}')"
   ]
  },
  {
   "cell_type": "code",
   "execution_count": 15,
   "metadata": {},
   "outputs": [
    {
     "data": {
      "text/html": [
       "<style type=\"text/css\">\n",
       "</style>\n",
       "<table id=\"T_2bfab\">\n",
       "  <thead>\n",
       "    <tr>\n",
       "      <th class=\"blank level0\" >&nbsp;</th>\n",
       "      <th id=\"T_2bfab_level0_col0\" class=\"col_heading level0 col0\" >Channel</th>\n",
       "    </tr>\n",
       "  </thead>\n",
       "  <tbody>\n",
       "    <tr>\n",
       "      <th id=\"T_2bfab_level0_row0\" class=\"row_heading level0 row0\" >Panorama</th>\n",
       "      <td id=\"T_2bfab_row0_col0\" class=\"data row0 col0\" >102,959</td>\n",
       "    </tr>\n",
       "    <tr>\n",
       "      <th id=\"T_2bfab_level0_row1\" class=\"row_heading level0 row1\" >Inland</th>\n",
       "      <td id=\"T_2bfab_row1_col0\" class=\"data row1 col0\" >82,153</td>\n",
       "    </tr>\n",
       "    <tr>\n",
       "      <th id=\"T_2bfab_level0_row2\" class=\"row_heading level0 row2\" >Meinung</th>\n",
       "      <td id=\"T_2bfab_row2_col0\" class=\"data row2 col0\" >45,577</td>\n",
       "    </tr>\n",
       "    <tr>\n",
       "      <th id=\"T_2bfab_level0_row3\" class=\"row_heading level0 row3\" >Web</th>\n",
       "      <td id=\"T_2bfab_row3_col0\" class=\"data row3 col0\" >29,413</td>\n",
       "    </tr>\n",
       "    <tr>\n",
       "      <th id=\"T_2bfab_level0_row4\" class=\"row_heading level0 row4\" >International</th>\n",
       "      <td id=\"T_2bfab_row4_col0\" class=\"data row4 col0\" >29,277</td>\n",
       "    </tr>\n",
       "    <tr>\n",
       "      <th id=\"T_2bfab_level0_row5\" class=\"row_heading level0 row5\" >Lifestyle</th>\n",
       "      <td id=\"T_2bfab_row5_col0\" class=\"data row5 col0\" >28,200</td>\n",
       "    </tr>\n",
       "    <tr>\n",
       "      <th id=\"T_2bfab_level0_row6\" class=\"row_heading level0 row6\" >Wirtschaft</th>\n",
       "      <td id=\"T_2bfab_row6_col0\" class=\"data row6 col0\" >25,123</td>\n",
       "    </tr>\n",
       "    <tr>\n",
       "      <th id=\"T_2bfab_level0_row7\" class=\"row_heading level0 row7\" >Etat</th>\n",
       "      <td id=\"T_2bfab_row7_col0\" class=\"data row7 col0\" >22,428</td>\n",
       "    </tr>\n",
       "    <tr>\n",
       "      <th id=\"T_2bfab_level0_row8\" class=\"row_heading level0 row8\" >Kultur</th>\n",
       "      <td id=\"T_2bfab_row8_col0\" class=\"data row8 col0\" >19,002</td>\n",
       "    </tr>\n",
       "    <tr>\n",
       "      <th id=\"T_2bfab_level0_row9\" class=\"row_heading level0 row9\" >Diverses</th>\n",
       "      <td id=\"T_2bfab_row9_col0\" class=\"data row9 col0\" >18,138</td>\n",
       "    </tr>\n",
       "  </tbody>\n",
       "</table>\n"
      ],
      "text/plain": [
       "<pandas.io.formats.style.Styler at 0x2b0ca5b51f0>"
      ]
     },
     "execution_count": 15,
     "metadata": {},
     "output_type": "execute_result"
    }
   ],
   "source": [
    "pd.DataFrame(df_full.loc[df_full.Gender == 'w', 'Channel'].value_counts()[0:10]).style.format('{:,}')"
   ]
  },
  {
   "cell_type": "code",
   "execution_count": 140,
   "metadata": {},
   "outputs": [],
   "source": [
    "political_lean = pd.read_pickle('political_lean_final.pkl')"
   ]
  },
  {
   "cell_type": "code",
   "execution_count": 141,
   "metadata": {},
   "outputs": [],
   "source": [
    "df_full.ID_GodotObject = df_full.ID_GodotObject.astype(str)\n",
    "political_lean.document_id = political_lean.document_id.astype(str)"
   ]
  },
  {
   "cell_type": "code",
   "execution_count": 142,
   "metadata": {},
   "outputs": [
    {
     "data": {
      "text/plain": [
       "(3497426, 34)"
      ]
     },
     "execution_count": 142,
     "metadata": {},
     "output_type": "execute_result"
    }
   ],
   "source": [
    "df_full = pd.merge(df_full, political_lean, how = 'left', left_on='ID_GodotObject', right_on='document_id')\n",
    "df_full.shape"
   ]
  },
  {
   "cell_type": "code",
   "execution_count": 144,
   "metadata": {},
   "outputs": [
    {
     "data": {
      "text/html": [
       "<div>\n",
       "<style scoped>\n",
       "    .dataframe tbody tr th:only-of-type {\n",
       "        vertical-align: middle;\n",
       "    }\n",
       "\n",
       "    .dataframe tbody tr th {\n",
       "        vertical-align: top;\n",
       "    }\n",
       "\n",
       "    .dataframe thead th {\n",
       "        text-align: right;\n",
       "    }\n",
       "</style>\n",
       "<table border=\"1\" class=\"dataframe\">\n",
       "  <thead>\n",
       "    <tr style=\"text-align: right;\">\n",
       "      <th>pol_label</th>\n",
       "      <th>extremeright</th>\n",
       "      <th>leastbiased</th>\n",
       "      <th>left</th>\n",
       "      <th>leftcenter</th>\n",
       "      <th>right</th>\n",
       "      <th>rightcenter</th>\n",
       "      <th>unknown</th>\n",
       "    </tr>\n",
       "    <tr>\n",
       "      <th>Gender</th>\n",
       "      <th></th>\n",
       "      <th></th>\n",
       "      <th></th>\n",
       "      <th></th>\n",
       "      <th></th>\n",
       "      <th></th>\n",
       "      <th></th>\n",
       "    </tr>\n",
       "  </thead>\n",
       "  <tbody>\n",
       "    <tr>\n",
       "      <th>m</th>\n",
       "      <td>0.001858</td>\n",
       "      <td>0.049274</td>\n",
       "      <td>0.003592</td>\n",
       "      <td>0.089870</td>\n",
       "      <td>0.085738</td>\n",
       "      <td>0.002323</td>\n",
       "      <td>0.767343</td>\n",
       "    </tr>\n",
       "    <tr>\n",
       "      <th>w</th>\n",
       "      <td>0.000986</td>\n",
       "      <td>0.052096</td>\n",
       "      <td>0.002539</td>\n",
       "      <td>0.088845</td>\n",
       "      <td>0.094375</td>\n",
       "      <td>0.003012</td>\n",
       "      <td>0.758147</td>\n",
       "    </tr>\n",
       "  </tbody>\n",
       "</table>\n",
       "</div>"
      ],
      "text/plain": [
       "pol_label  extremeright  leastbiased      left  leftcenter     right  \\\n",
       "Gender                                                                 \n",
       "m              0.001858     0.049274  0.003592    0.089870  0.085738   \n",
       "w              0.000986     0.052096  0.002539    0.088845  0.094375   \n",
       "\n",
       "pol_label  rightcenter   unknown  \n",
       "Gender                            \n",
       "m             0.002323  0.767343  \n",
       "w             0.003012  0.758147  "
      ]
     },
     "execution_count": 144,
     "metadata": {},
     "output_type": "execute_result"
    }
   ],
   "source": [
    "pd.crosstab(df_full.Gender, df_full.pol_label, normalize = 'index')\n",
    "#df_full.columns"
   ]
  },
  {
   "cell_type": "markdown",
   "metadata": {},
   "source": [
    "## Prepare Geography"
   ]
  },
  {
   "cell_type": "code",
   "execution_count": 41,
   "metadata": {},
   "outputs": [
    {
     "name": "stdout",
     "output_type": "stream",
     "text": [
      "(47664284, 23)\n"
     ]
    }
   ],
   "source": [
    "#Same steps as above but keep users with no gender \n",
    "df_clicks = pd.read_pickle(\"df_clicks_clean_7955_7984.pkl\")\n",
    "print(df_clicks.shape)\n",
    "df_dimcontent = pd.read_pickle(\"df_dimcontent.pkl\")\n",
    "df_dimcontent = df_dimcontent.loc[:,['SID_Content','ID_GodotObject', 'ChannelTopRessort', 'ObjectType', 'Channel']]"
   ]
  },
  {
   "cell_type": "code",
   "execution_count": 42,
   "metadata": {},
   "outputs": [
    {
     "data": {
      "text/plain": [
       "(9304992, 23)"
      ]
     },
     "execution_count": 42,
     "metadata": {},
     "output_type": "execute_result"
    }
   ],
   "source": [
    "# Next step, flatten df_clicks file so it only keeps the first click of user on article.\n",
    "df_article_clicks = df_clicks.drop_duplicates(subset=['ID_User', 'SID_Content'], keep = 'first')\n",
    "df_article_clicks.shape"
   ]
  },
  {
   "cell_type": "code",
   "execution_count": 43,
   "metadata": {},
   "outputs": [
    {
     "data": {
      "text/plain": [
       "(9093868, 27)"
      ]
     },
     "execution_count": 43,
     "metadata": {},
     "output_type": "execute_result"
    }
   ],
   "source": [
    "df_full = pd.merge(df_article_clicks, df_dimcontent, how = 'inner', on= 'SID_Content')\n",
    "df_full.shape\n"
   ]
  },
  {
   "cell_type": "code",
   "execution_count": 44,
   "metadata": {},
   "outputs": [],
   "source": [
    "df_geo = pd.read_pickle(\"df_geo.pkl\")\n",
    "df_full = pd.merge(df_full, df_geo, how = 'inner', on = 'SID_Geo')"
   ]
  },
  {
   "cell_type": "code",
   "execution_count": 45,
   "metadata": {},
   "outputs": [
    {
     "data": {
      "text/plain": [
       "(858926, 4)"
      ]
     },
     "execution_count": 45,
     "metadata": {},
     "output_type": "execute_result"
    }
   ],
   "source": [
    "df_user = pd.read_pickle(\"df_user.pkl\")\n",
    "df_user.shape"
   ]
  },
  {
   "cell_type": "code",
   "execution_count": 46,
   "metadata": {},
   "outputs": [
    {
     "data": {
      "text/plain": [
       "(9093837, 42)"
      ]
     },
     "execution_count": 46,
     "metadata": {},
     "output_type": "execute_result"
    }
   ],
   "source": [
    "df_full = pd.merge(df_full, df_user, how = 'inner', on = 'ID_User')\n",
    "df_full.shape"
   ]
  },
  {
   "cell_type": "code",
   "execution_count": 47,
   "metadata": {},
   "outputs": [],
   "source": [
    "political_lean = pd.read_pickle('political_lean_final.pkl')"
   ]
  },
  {
   "cell_type": "code",
   "execution_count": 48,
   "metadata": {},
   "outputs": [],
   "source": [
    "df_full.ID_GodotObject = df_full.ID_GodotObject.astype(str)\n",
    "political_lean.document_id = political_lean.document_id.astype(str)"
   ]
  },
  {
   "cell_type": "code",
   "execution_count": 49,
   "metadata": {},
   "outputs": [
    {
     "data": {
      "text/plain": [
       "(9093863, 45)"
      ]
     },
     "execution_count": 49,
     "metadata": {},
     "output_type": "execute_result"
    }
   ],
   "source": [
    "df_full = pd.merge(df_full, political_lean, how = 'left', left_on='ID_GodotObject', right_on='document_id')\n",
    "df_full.shape"
   ]
  },
  {
   "cell_type": "code",
   "execution_count": 50,
   "metadata": {},
   "outputs": [],
   "source": [
    "df_user_location = df_full.loc[df_full.GeoAdmin1 != 'N/A',]"
   ]
  },
  {
   "cell_type": "code",
   "execution_count": 51,
   "metadata": {},
   "outputs": [],
   "source": [
    "df_user_location = df_user_location.groupby(['ID_User'])['GeoLocation'].agg(\n",
    "    lambda x: pd.Series.mode(x)[0]).to_frame()"
   ]
  },
  {
   "cell_type": "code",
   "execution_count": 52,
   "metadata": {},
   "outputs": [],
   "source": [
    "df_user_location['ID_User'] = df_user_location.index\n",
    "df_user_location.columns = ['User_Location','ID_User']\n",
    "df_user_location = df_user_location.reset_index(drop=True)\n",
    "df_user_location['User_Location'] = df_user_location['User_Location'].astype(\"string\")"
   ]
  },
  {
   "cell_type": "code",
   "execution_count": 53,
   "metadata": {},
   "outputs": [],
   "source": [
    "df_user_location['geo'] = 0\n",
    "df_user_location.loc[df_user_location.User_Location.isin(['Wien','Salzburg','Linz','Graz','Innsbruck']),'geo'] = 1\n",
    "df_user_location.to_pickle('df_user_location.pkl')"
   ]
  },
  {
   "cell_type": "code",
   "execution_count": 54,
   "metadata": {},
   "outputs": [],
   "source": [
    "df_full = pd.merge(df_full, df_user_location, how = 'inner', on='ID_User')"
   ]
  },
  {
   "cell_type": "code",
   "execution_count": 55,
   "metadata": {},
   "outputs": [
    {
     "data": {
      "text/html": [
       "<style type=\"text/css\">\n",
       "</style>\n",
       "<table id=\"T_3650e\">\n",
       "  <thead>\n",
       "    <tr>\n",
       "      <th class=\"blank level0\" >&nbsp;</th>\n",
       "      <th id=\"T_3650e_level0_col0\" class=\"col_heading level0 col0\" >count</th>\n",
       "    </tr>\n",
       "  </thead>\n",
       "  <tbody>\n",
       "    <tr>\n",
       "      <th id=\"T_3650e_level0_row0\" class=\"row_heading level0 row0\" >Wien</th>\n",
       "      <td id=\"T_3650e_row0_col0\" class=\"data row0 col0\" >51,592</td>\n",
       "    </tr>\n",
       "    <tr>\n",
       "      <th id=\"T_3650e_level0_row1\" class=\"row_heading level0 row1\" >Salzburg</th>\n",
       "      <td id=\"T_3650e_row1_col0\" class=\"data row1 col0\" >4,725</td>\n",
       "    </tr>\n",
       "    <tr>\n",
       "      <th id=\"T_3650e_level0_row2\" class=\"row_heading level0 row2\" >Dornbirn</th>\n",
       "      <td id=\"T_3650e_row2_col0\" class=\"data row2 col0\" >4,235</td>\n",
       "    </tr>\n",
       "    <tr>\n",
       "      <th id=\"T_3650e_level0_row3\" class=\"row_heading level0 row3\" >Linz</th>\n",
       "      <td id=\"T_3650e_row3_col0\" class=\"data row3 col0\" >3,956</td>\n",
       "    </tr>\n",
       "    <tr>\n",
       "      <th id=\"T_3650e_level0_row4\" class=\"row_heading level0 row4\" >Graz</th>\n",
       "      <td id=\"T_3650e_row4_col0\" class=\"data row4 col0\" >3,063</td>\n",
       "    </tr>\n",
       "    <tr>\n",
       "      <th id=\"T_3650e_level0_row5\" class=\"row_heading level0 row5\" >Hard</th>\n",
       "      <td id=\"T_3650e_row5_col0\" class=\"data row5 col0\" >2,664</td>\n",
       "    </tr>\n",
       "    <tr>\n",
       "      <th id=\"T_3650e_level0_row6\" class=\"row_heading level0 row6\" >Lauterach</th>\n",
       "      <td id=\"T_3650e_row6_col0\" class=\"data row6 col0\" >2,292</td>\n",
       "    </tr>\n",
       "    <tr>\n",
       "      <th id=\"T_3650e_level0_row7\" class=\"row_heading level0 row7\" >Lustenau</th>\n",
       "      <td id=\"T_3650e_row7_col0\" class=\"data row7 col0\" >2,260</td>\n",
       "    </tr>\n",
       "    <tr>\n",
       "      <th id=\"T_3650e_level0_row8\" class=\"row_heading level0 row8\" >Innsbruck</th>\n",
       "      <td id=\"T_3650e_row8_col0\" class=\"data row8 col0\" >1,636</td>\n",
       "    </tr>\n",
       "    <tr>\n",
       "      <th id=\"T_3650e_level0_row9\" class=\"row_heading level0 row9\" >Schwarzach</th>\n",
       "      <td id=\"T_3650e_row9_col0\" class=\"data row9 col0\" >1,628</td>\n",
       "    </tr>\n",
       "  </tbody>\n",
       "</table>\n"
      ],
      "text/plain": [
       "<pandas.io.formats.style.Styler at 0x2b2a7d74a00>"
      ]
     },
     "execution_count": 55,
     "metadata": {},
     "output_type": "execute_result"
    }
   ],
   "source": [
    "pd.DataFrame({'count':df_user_location.User_Location.value_counts()[0:10]}).style.format('{:,}')\n"
   ]
  },
  {
   "cell_type": "code",
   "execution_count": 56,
   "metadata": {},
   "outputs": [
    {
     "data": {
      "text/html": [
       "<style type=\"text/css\">\n",
       "</style>\n",
       "<table id=\"T_ed4dd\">\n",
       "  <thead>\n",
       "    <tr>\n",
       "      <th class=\"blank level0\" >&nbsp;</th>\n",
       "      <th id=\"T_ed4dd_level0_col0\" class=\"col_heading level0 col0\" >percentage</th>\n",
       "    </tr>\n",
       "  </thead>\n",
       "  <tbody>\n",
       "    <tr>\n",
       "      <th id=\"T_ed4dd_level0_row0\" class=\"row_heading level0 row0\" >Wien</th>\n",
       "      <td id=\"T_ed4dd_row0_col0\" class=\"data row0 col0\" >0.4158</td>\n",
       "    </tr>\n",
       "    <tr>\n",
       "      <th id=\"T_ed4dd_level0_row1\" class=\"row_heading level0 row1\" >Salzburg</th>\n",
       "      <td id=\"T_ed4dd_row1_col0\" class=\"data row1 col0\" >0.0381</td>\n",
       "    </tr>\n",
       "    <tr>\n",
       "      <th id=\"T_ed4dd_level0_row2\" class=\"row_heading level0 row2\" >Dornbirn</th>\n",
       "      <td id=\"T_ed4dd_row2_col0\" class=\"data row2 col0\" >0.0341</td>\n",
       "    </tr>\n",
       "    <tr>\n",
       "      <th id=\"T_ed4dd_level0_row3\" class=\"row_heading level0 row3\" >Linz</th>\n",
       "      <td id=\"T_ed4dd_row3_col0\" class=\"data row3 col0\" >0.0319</td>\n",
       "    </tr>\n",
       "    <tr>\n",
       "      <th id=\"T_ed4dd_level0_row4\" class=\"row_heading level0 row4\" >Graz</th>\n",
       "      <td id=\"T_ed4dd_row4_col0\" class=\"data row4 col0\" >0.0247</td>\n",
       "    </tr>\n",
       "    <tr>\n",
       "      <th id=\"T_ed4dd_level0_row5\" class=\"row_heading level0 row5\" >Hard</th>\n",
       "      <td id=\"T_ed4dd_row5_col0\" class=\"data row5 col0\" >0.0215</td>\n",
       "    </tr>\n",
       "    <tr>\n",
       "      <th id=\"T_ed4dd_level0_row6\" class=\"row_heading level0 row6\" >Lauterach</th>\n",
       "      <td id=\"T_ed4dd_row6_col0\" class=\"data row6 col0\" >0.0185</td>\n",
       "    </tr>\n",
       "    <tr>\n",
       "      <th id=\"T_ed4dd_level0_row7\" class=\"row_heading level0 row7\" >Lustenau</th>\n",
       "      <td id=\"T_ed4dd_row7_col0\" class=\"data row7 col0\" >0.0182</td>\n",
       "    </tr>\n",
       "    <tr>\n",
       "      <th id=\"T_ed4dd_level0_row8\" class=\"row_heading level0 row8\" >Innsbruck</th>\n",
       "      <td id=\"T_ed4dd_row8_col0\" class=\"data row8 col0\" >0.0132</td>\n",
       "    </tr>\n",
       "    <tr>\n",
       "      <th id=\"T_ed4dd_level0_row9\" class=\"row_heading level0 row9\" >Schwarzach</th>\n",
       "      <td id=\"T_ed4dd_row9_col0\" class=\"data row9 col0\" >0.0131</td>\n",
       "    </tr>\n",
       "  </tbody>\n",
       "</table>\n"
      ],
      "text/plain": [
       "<pandas.io.formats.style.Styler at 0x2b297210e20>"
      ]
     },
     "execution_count": 56,
     "metadata": {},
     "output_type": "execute_result"
    }
   ],
   "source": [
    "pd.DataFrame({'percentage':df_user_location.User_Location.value_counts(normalize=True)[0:10]}).style.format('{:,.4f}')"
   ]
  },
  {
   "cell_type": "code",
   "execution_count": 57,
   "metadata": {},
   "outputs": [
    {
     "data": {
      "text/html": [
       "<div>\n",
       "<style scoped>\n",
       "    .dataframe tbody tr th:only-of-type {\n",
       "        vertical-align: middle;\n",
       "    }\n",
       "\n",
       "    .dataframe tbody tr th {\n",
       "        vertical-align: top;\n",
       "    }\n",
       "\n",
       "    .dataframe thead th {\n",
       "        text-align: right;\n",
       "    }\n",
       "</style>\n",
       "<table border=\"1\" class=\"dataframe\">\n",
       "  <thead>\n",
       "    <tr style=\"text-align: right;\">\n",
       "      <th></th>\n",
       "      <th>percentage</th>\n",
       "    </tr>\n",
       "  </thead>\n",
       "  <tbody>\n",
       "    <tr>\n",
       "      <th>Wien</th>\n",
       "      <td>0.41584</td>\n",
       "    </tr>\n",
       "    <tr>\n",
       "      <th>Salzburg</th>\n",
       "      <td>0.038084</td>\n",
       "    </tr>\n",
       "    <tr>\n",
       "      <th>Dornbirn</th>\n",
       "      <td>0.034135</td>\n",
       "    </tr>\n",
       "    <tr>\n",
       "      <th>Linz</th>\n",
       "      <td>0.031886</td>\n",
       "    </tr>\n",
       "    <tr>\n",
       "      <th>Graz</th>\n",
       "      <td>0.024688</td>\n",
       "    </tr>\n",
       "  </tbody>\n",
       "</table>\n",
       "</div>"
      ],
      "text/plain": [
       "          percentage\n",
       "Wien         0.41584\n",
       "Salzburg    0.038084\n",
       "Dornbirn    0.034135\n",
       "Linz        0.031886\n",
       "Graz        0.024688"
      ]
     },
     "execution_count": 57,
     "metadata": {},
     "output_type": "execute_result"
    }
   ],
   "source": [
    "user_location_counts = pd.DataFrame({'percentage':df_user_location.User_Location.value_counts(normalize=True)[0:10]})\n",
    "user_location_counts.head()"
   ]
  },
  {
   "cell_type": "code",
   "execution_count": 58,
   "metadata": {},
   "outputs": [],
   "source": [
    "df_full['geo'] = 0\n",
    "df_full.loc[df_full.User_Location.isin(['Wien','Salzburg','Linz','Graz','Innsbruck']),'geo'] = 1"
   ]
  },
  {
   "cell_type": "code",
   "execution_count": 59,
   "metadata": {},
   "outputs": [
    {
     "data": {
      "text/plain": [
       "1    4666109\n",
       "0    3930033\n",
       "Name: geo, dtype: int64"
      ]
     },
     "execution_count": 59,
     "metadata": {},
     "output_type": "execute_result"
    }
   ],
   "source": [
    "df_full.geo.value_counts()"
   ]
  },
  {
   "cell_type": "code",
   "execution_count": 60,
   "metadata": {},
   "outputs": [
    {
     "data": {
      "text/plain": [
       "0.5236847832219688"
      ]
     },
     "execution_count": 60,
     "metadata": {},
     "output_type": "execute_result"
    }
   ],
   "source": [
    "user_location_counts.loc[user_location_counts.index.isin(['Wien','Salzburg','Linz','Graz','Innsbruck']),'percentage'].sum()"
   ]
  },
  {
   "cell_type": "code",
   "execution_count": 61,
   "metadata": {},
   "outputs": [],
   "source": [
    "# how many days are the users active?\n",
    "df_by_user = df_full.groupby('ID_User')\n",
    "user_days_active = df_by_user.ID_Day.nunique()\n",
    "user_articles_read = df_by_user.SID_Content.nunique()\n",
    "user_days_active_df = pd.DataFrame({'ID_User':user_days_active.index, 'Days_Active': user_days_active.values, 'Article_Count':user_articles_read.values})\n",
    "user_days_active_df = pd.merge(user_days_active_df, df_user_location, on = 'ID_User')\n",
    "user_days_active_df.head()\n",
    "user_days_active_df['Articles_per_day'] = user_days_active_df.Article_Count / user_days_active_df.Days_Active"
   ]
  },
  {
   "cell_type": "code",
   "execution_count": null,
   "metadata": {},
   "outputs": [],
   "source": []
  },
  {
   "cell_type": "code",
   "execution_count": 62,
   "metadata": {},
   "outputs": [
    {
     "name": "stdout",
     "output_type": "stream",
     "text": [
      "Number of users by geo\n",
      "1    64972\n",
      "0    59095\n",
      "Name: geo, dtype: int64\n",
      "1    0.523685\n",
      "0    0.476315\n",
      "Name: geo, dtype: float64\n",
      "Number of active days by geo\n",
      "geo\n",
      "0    14.400305\n",
      "1    15.096088\n",
      "Name: Days_Active, dtype: float64\n",
      "Number of articles read by geo\n",
      "geo\n",
      "0    66.503461\n",
      "1    71.817013\n",
      "Name: Article_Count, dtype: float64\n",
      "Number of articles read per day by geo\n",
      "geo\n",
      "0    3.691002\n",
      "1    3.833623\n",
      "Name: Articles_per_day, dtype: float64\n"
     ]
    }
   ],
   "source": [
    "# Number of users by geo\n",
    "print('Number of users by geo')\n",
    "print(user_days_active_df.geo.value_counts())\n",
    "print(user_days_active_df.geo.value_counts(normalize=True))\n",
    "# Number of active days by geo\n",
    "print('Number of active days by geo')\n",
    "print(user_days_active_df.groupby('geo').Days_Active.mean())\n",
    "# Number of articles read by geo\n",
    "print('Number of articles read by geo')\n",
    "print(user_days_active_df.groupby('geo').Article_Count.mean())\n",
    "# Number of articles read by geo per day\n",
    "print('Number of articles read per day by geo')\n",
    "print(user_days_active_df.groupby('geo').Articles_per_day.mean())"
   ]
  },
  {
   "cell_type": "code",
   "execution_count": 63,
   "metadata": {},
   "outputs": [
    {
     "data": {
      "text/html": [
       "<style type=\"text/css\">\n",
       "</style>\n",
       "<table id=\"T_8e26d\">\n",
       "  <thead>\n",
       "    <tr>\n",
       "      <th class=\"blank level0\" >&nbsp;</th>\n",
       "      <th id=\"T_8e26d_level0_col0\" class=\"col_heading level0 col0\" >Channel</th>\n",
       "    </tr>\n",
       "  </thead>\n",
       "  <tbody>\n",
       "    <tr>\n",
       "      <th id=\"T_8e26d_level0_row0\" class=\"row_heading level0 row0\" >Panorama</th>\n",
       "      <td id=\"T_8e26d_row0_col0\" class=\"data row0 col0\" >758,853</td>\n",
       "    </tr>\n",
       "    <tr>\n",
       "      <th id=\"T_8e26d_level0_row1\" class=\"row_heading level0 row1\" >Inland</th>\n",
       "      <td id=\"T_8e26d_row1_col0\" class=\"data row1 col0\" >742,388</td>\n",
       "    </tr>\n",
       "    <tr>\n",
       "      <th id=\"T_8e26d_level0_row2\" class=\"row_heading level0 row2\" >Meinung</th>\n",
       "      <td id=\"T_8e26d_row2_col0\" class=\"data row2 col0\" >417,041</td>\n",
       "    </tr>\n",
       "    <tr>\n",
       "      <th id=\"T_8e26d_level0_row3\" class=\"row_heading level0 row3\" >Web</th>\n",
       "      <td id=\"T_8e26d_row3_col0\" class=\"data row3 col0\" >414,933</td>\n",
       "    </tr>\n",
       "    <tr>\n",
       "      <th id=\"T_8e26d_level0_row4\" class=\"row_heading level0 row4\" >Sport</th>\n",
       "      <td id=\"T_8e26d_row4_col0\" class=\"data row4 col0\" >316,454</td>\n",
       "    </tr>\n",
       "    <tr>\n",
       "      <th id=\"T_8e26d_level0_row5\" class=\"row_heading level0 row5\" >International</th>\n",
       "      <td id=\"T_8e26d_row5_col0\" class=\"data row5 col0\" >303,703</td>\n",
       "    </tr>\n",
       "    <tr>\n",
       "      <th id=\"T_8e26d_level0_row6\" class=\"row_heading level0 row6\" >Wirtschaft</th>\n",
       "      <td id=\"T_8e26d_row6_col0\" class=\"data row6 col0\" >270,308</td>\n",
       "    </tr>\n",
       "    <tr>\n",
       "      <th id=\"T_8e26d_level0_row7\" class=\"row_heading level0 row7\" >Etat</th>\n",
       "      <td id=\"T_8e26d_row7_col0\" class=\"data row7 col0\" >191,627</td>\n",
       "    </tr>\n",
       "    <tr>\n",
       "      <th id=\"T_8e26d_level0_row8\" class=\"row_heading level0 row8\" >Lifestyle</th>\n",
       "      <td id=\"T_8e26d_row8_col0\" class=\"data row8 col0\" >179,803</td>\n",
       "    </tr>\n",
       "    <tr>\n",
       "      <th id=\"T_8e26d_level0_row9\" class=\"row_heading level0 row9\" >Kultur</th>\n",
       "      <td id=\"T_8e26d_row9_col0\" class=\"data row9 col0\" >147,144</td>\n",
       "    </tr>\n",
       "  </tbody>\n",
       "</table>\n"
      ],
      "text/plain": [
       "<pandas.io.formats.style.Styler at 0x2b0fa070f10>"
      ]
     },
     "execution_count": 63,
     "metadata": {},
     "output_type": "execute_result"
    }
   ],
   "source": [
    "pd.DataFrame(df_full.loc[df_full.geo == 1, 'Channel'].value_counts()[0:10]).style.format('{:,}')"
   ]
  },
  {
   "cell_type": "code",
   "execution_count": 64,
   "metadata": {},
   "outputs": [
    {
     "data": {
      "text/html": [
       "<style type=\"text/css\">\n",
       "</style>\n",
       "<table id=\"T_65770\">\n",
       "  <thead>\n",
       "    <tr>\n",
       "      <th class=\"blank level0\" >&nbsp;</th>\n",
       "      <th id=\"T_65770_level0_col0\" class=\"col_heading level0 col0\" >Channel</th>\n",
       "    </tr>\n",
       "  </thead>\n",
       "  <tbody>\n",
       "    <tr>\n",
       "      <th id=\"T_65770_level0_row0\" class=\"row_heading level0 row0\" >Panorama</th>\n",
       "      <td id=\"T_65770_row0_col0\" class=\"data row0 col0\" >612,245</td>\n",
       "    </tr>\n",
       "    <tr>\n",
       "      <th id=\"T_65770_level0_row1\" class=\"row_heading level0 row1\" >Inland</th>\n",
       "      <td id=\"T_65770_row1_col0\" class=\"data row1 col0\" >611,828</td>\n",
       "    </tr>\n",
       "    <tr>\n",
       "      <th id=\"T_65770_level0_row2\" class=\"row_heading level0 row2\" >Web</th>\n",
       "      <td id=\"T_65770_row2_col0\" class=\"data row2 col0\" >371,867</td>\n",
       "    </tr>\n",
       "    <tr>\n",
       "      <th id=\"T_65770_level0_row3\" class=\"row_heading level0 row3\" >Meinung</th>\n",
       "      <td id=\"T_65770_row3_col0\" class=\"data row3 col0\" >330,125</td>\n",
       "    </tr>\n",
       "    <tr>\n",
       "      <th id=\"T_65770_level0_row4\" class=\"row_heading level0 row4\" >Sport</th>\n",
       "      <td id=\"T_65770_row4_col0\" class=\"data row4 col0\" >289,702</td>\n",
       "    </tr>\n",
       "    <tr>\n",
       "      <th id=\"T_65770_level0_row5\" class=\"row_heading level0 row5\" >International</th>\n",
       "      <td id=\"T_65770_row5_col0\" class=\"data row5 col0\" >278,602</td>\n",
       "    </tr>\n",
       "    <tr>\n",
       "      <th id=\"T_65770_level0_row6\" class=\"row_heading level0 row6\" >Wirtschaft</th>\n",
       "      <td id=\"T_65770_row6_col0\" class=\"data row6 col0\" >228,246</td>\n",
       "    </tr>\n",
       "    <tr>\n",
       "      <th id=\"T_65770_level0_row7\" class=\"row_heading level0 row7\" >Etat</th>\n",
       "      <td id=\"T_65770_row7_col0\" class=\"data row7 col0\" >155,672</td>\n",
       "    </tr>\n",
       "    <tr>\n",
       "      <th id=\"T_65770_level0_row8\" class=\"row_heading level0 row8\" >Lifestyle</th>\n",
       "      <td id=\"T_65770_row8_col0\" class=\"data row8 col0\" >153,748</td>\n",
       "    </tr>\n",
       "    <tr>\n",
       "      <th id=\"T_65770_level0_row9\" class=\"row_heading level0 row9\" >Wissenschaft</th>\n",
       "      <td id=\"T_65770_row9_col0\" class=\"data row9 col0\" >125,112</td>\n",
       "    </tr>\n",
       "  </tbody>\n",
       "</table>\n"
      ],
      "text/plain": [
       "<pandas.io.formats.style.Styler at 0x2b0ca5b5190>"
      ]
     },
     "execution_count": 64,
     "metadata": {},
     "output_type": "execute_result"
    }
   ],
   "source": [
    "pd.DataFrame(df_full.loc[df_full.geo == 0, 'Channel'].value_counts()[0:10]).style.format('{:,}')"
   ]
  },
  {
   "cell_type": "code",
   "execution_count": 65,
   "metadata": {},
   "outputs": [
    {
     "data": {
      "text/html": [
       "<style type=\"text/css\">\n",
       "</style>\n",
       "<table id=\"T_634c1\">\n",
       "  <thead>\n",
       "    <tr>\n",
       "      <th class=\"blank level0\" >&nbsp;</th>\n",
       "      <th id=\"T_634c1_level0_col0\" class=\"col_heading level0 col0\" >ChannelTopRessort</th>\n",
       "    </tr>\n",
       "  </thead>\n",
       "  <tbody>\n",
       "    <tr>\n",
       "      <th id=\"T_634c1_level0_row0\" class=\"row_heading level0 row0\" >(Inland)</th>\n",
       "      <td id=\"T_634c1_row0_col0\" class=\"data row0 col0\" >742,388</td>\n",
       "    </tr>\n",
       "    <tr>\n",
       "      <th id=\"T_634c1_level0_row1\" class=\"row_heading level0 row1\" >(Panorama)</th>\n",
       "      <td id=\"T_634c1_row1_col0\" class=\"data row1 col0\" >461,980</td>\n",
       "    </tr>\n",
       "    <tr>\n",
       "      <th id=\"T_634c1_level0_row2\" class=\"row_heading level0 row2\" >Kommentare</th>\n",
       "      <td id=\"T_634c1_row2_col0\" class=\"data row2 col0\" >201,826</td>\n",
       "    </tr>\n",
       "    <tr>\n",
       "      <th id=\"T_634c1_level0_row3\" class=\"row_heading level0 row3\" >Fußball</th>\n",
       "      <td id=\"T_634c1_row3_col0\" class=\"data row3 col0\" >185,867</td>\n",
       "    </tr>\n",
       "    <tr>\n",
       "      <th id=\"T_634c1_level0_row4\" class=\"row_heading level0 row4\" >Wirtschaftspolitik</th>\n",
       "      <td id=\"T_634c1_row4_col0\" class=\"data row4 col0\" >147,392</td>\n",
       "    </tr>\n",
       "    <tr>\n",
       "      <th id=\"T_634c1_level0_row5\" class=\"row_heading level0 row5\" >Europa</th>\n",
       "      <td id=\"T_634c1_row5_col0\" class=\"data row5 col0\" >146,806</td>\n",
       "    </tr>\n",
       "    <tr>\n",
       "      <th id=\"T_634c1_level0_row6\" class=\"row_heading level0 row6\" >(Diverses)</th>\n",
       "      <td id=\"T_634c1_row6_col0\" class=\"data row6 col0\" >140,854</td>\n",
       "    </tr>\n",
       "    <tr>\n",
       "      <th id=\"T_634c1_level0_row7\" class=\"row_heading level0 row7\" >Österreich-Chronik</th>\n",
       "      <td id=\"T_634c1_row7_col0\" class=\"data row7 col0\" >136,730</td>\n",
       "    </tr>\n",
       "    <tr>\n",
       "      <th id=\"T_634c1_level0_row8\" class=\"row_heading level0 row8\" >Kolumnen</th>\n",
       "      <td id=\"T_634c1_row8_col0\" class=\"data row8 col0\" >132,181</td>\n",
       "    </tr>\n",
       "    <tr>\n",
       "      <th id=\"T_634c1_level0_row9\" class=\"row_heading level0 row9\" >Welt-Chronik</th>\n",
       "      <td id=\"T_634c1_row9_col0\" class=\"data row9 col0\" >110,512</td>\n",
       "    </tr>\n",
       "  </tbody>\n",
       "</table>\n"
      ],
      "text/plain": [
       "<pandas.io.formats.style.Styler at 0x2b08cd7dac0>"
      ]
     },
     "execution_count": 65,
     "metadata": {},
     "output_type": "execute_result"
    }
   ],
   "source": [
    "pd.DataFrame(df_full.loc[df_full.geo == 1, 'ChannelTopRessort'].value_counts()[0:10]).style.format('{:,}')"
   ]
  },
  {
   "cell_type": "code",
   "execution_count": 66,
   "metadata": {},
   "outputs": [
    {
     "data": {
      "text/html": [
       "<style type=\"text/css\">\n",
       "</style>\n",
       "<table id=\"T_615d5\">\n",
       "  <thead>\n",
       "    <tr>\n",
       "      <th class=\"blank level0\" >&nbsp;</th>\n",
       "      <th id=\"T_615d5_level0_col0\" class=\"col_heading level0 col0\" >ChannelTopRessort</th>\n",
       "    </tr>\n",
       "  </thead>\n",
       "  <tbody>\n",
       "    <tr>\n",
       "      <th id=\"T_615d5_level0_row0\" class=\"row_heading level0 row0\" >(Inland)</th>\n",
       "      <td id=\"T_615d5_row0_col0\" class=\"data row0 col0\" >611,828</td>\n",
       "    </tr>\n",
       "    <tr>\n",
       "      <th id=\"T_615d5_level0_row1\" class=\"row_heading level0 row1\" >(Panorama)</th>\n",
       "      <td id=\"T_615d5_row1_col0\" class=\"data row1 col0\" >371,028</td>\n",
       "    </tr>\n",
       "    <tr>\n",
       "      <th id=\"T_615d5_level0_row2\" class=\"row_heading level0 row2\" >Fußball</th>\n",
       "      <td id=\"T_615d5_row2_col0\" class=\"data row2 col0\" >172,253</td>\n",
       "    </tr>\n",
       "    <tr>\n",
       "      <th id=\"T_615d5_level0_row3\" class=\"row_heading level0 row3\" >Kommentare</th>\n",
       "      <td id=\"T_615d5_row3_col0\" class=\"data row3 col0\" >163,253</td>\n",
       "    </tr>\n",
       "    <tr>\n",
       "      <th id=\"T_615d5_level0_row4\" class=\"row_heading level0 row4\" >Europa</th>\n",
       "      <td id=\"T_615d5_row4_col0\" class=\"data row4 col0\" >134,801</td>\n",
       "    </tr>\n",
       "    <tr>\n",
       "      <th id=\"T_615d5_level0_row5\" class=\"row_heading level0 row5\" >Wirtschaftspolitik</th>\n",
       "      <td id=\"T_615d5_row5_col0\" class=\"data row5 col0\" >125,093</td>\n",
       "    </tr>\n",
       "    <tr>\n",
       "      <th id=\"T_615d5_level0_row6\" class=\"row_heading level0 row6\" >(Diverses)</th>\n",
       "      <td id=\"T_615d5_row6_col0\" class=\"data row6 col0\" >116,821</td>\n",
       "    </tr>\n",
       "    <tr>\n",
       "      <th id=\"T_615d5_level0_row7\" class=\"row_heading level0 row7\" >Österreich-Chronik</th>\n",
       "      <td id=\"T_615d5_row7_col0\" class=\"data row7 col0\" >107,683</td>\n",
       "    </tr>\n",
       "    <tr>\n",
       "      <th id=\"T_615d5_level0_row8\" class=\"row_heading level0 row8\" >Kolumnen</th>\n",
       "      <td id=\"T_615d5_row8_col0\" class=\"data row8 col0\" >101,881</td>\n",
       "    </tr>\n",
       "    <tr>\n",
       "      <th id=\"T_615d5_level0_row9\" class=\"row_heading level0 row9\" >Welt-Chronik</th>\n",
       "      <td id=\"T_615d5_row9_col0\" class=\"data row9 col0\" >95,015</td>\n",
       "    </tr>\n",
       "  </tbody>\n",
       "</table>\n"
      ],
      "text/plain": [
       "<pandas.io.formats.style.Styler at 0x2b0fa070580>"
      ]
     },
     "execution_count": 66,
     "metadata": {},
     "output_type": "execute_result"
    }
   ],
   "source": [
    "pd.DataFrame(df_full.loc[df_full.geo == 0, 'ChannelTopRessort'].value_counts()[0:10]).style.format('{:,}')"
   ]
  },
  {
   "cell_type": "code",
   "execution_count": null,
   "metadata": {},
   "outputs": [],
   "source": []
  },
  {
   "cell_type": "code",
   "execution_count": 312,
   "metadata": {},
   "outputs": [
    {
     "data": {
      "text/html": [
       "<style type=\"text/css\">\n",
       "</style>\n",
       "<table id=\"T_855ab\">\n",
       "  <thead>\n",
       "    <tr>\n",
       "      <th class=\"blank level0\" >&nbsp;</th>\n",
       "      <th id=\"T_855ab_level0_col0\" class=\"col_heading level0 col0\" >count</th>\n",
       "      <th id=\"T_855ab_level0_col1\" class=\"col_heading level0 col1\" >percentage</th>\n",
       "    </tr>\n",
       "  </thead>\n",
       "  <tbody>\n",
       "    <tr>\n",
       "      <th id=\"T_855ab_level0_row0\" class=\"row_heading level0 row0\" >Wien</th>\n",
       "      <td id=\"T_855ab_row0_col0\" class=\"data row0 col0\" >3,743,205</td>\n",
       "      <td id=\"T_855ab_row0_col1\" class=\"data row0 col1\" >0.43545174102521805</td>\n",
       "    </tr>\n",
       "    <tr>\n",
       "      <th id=\"T_855ab_level0_row1\" class=\"row_heading level0 row1\" >Salzburg</th>\n",
       "      <td id=\"T_855ab_row1_col0\" class=\"data row1 col0\" >329,107</td>\n",
       "      <td id=\"T_855ab_row1_col1\" class=\"data row1 col1\" >0.03828543083629842</td>\n",
       "    </tr>\n",
       "    <tr>\n",
       "      <th id=\"T_855ab_level0_row2\" class=\"row_heading level0 row2\" >Dornbirn</th>\n",
       "      <td id=\"T_855ab_row2_col0\" class=\"data row2 col0\" >276,994</td>\n",
       "      <td id=\"T_855ab_row2_col1\" class=\"data row2 col1\" >0.032223060065783</td>\n",
       "    </tr>\n",
       "    <tr>\n",
       "      <th id=\"T_855ab_level0_row3\" class=\"row_heading level0 row3\" >Linz</th>\n",
       "      <td id=\"T_855ab_row3_col0\" class=\"data row3 col0\" >275,441</td>\n",
       "      <td id=\"T_855ab_row3_col1\" class=\"data row3 col1\" >0.03204239762442268</td>\n",
       "    </tr>\n",
       "    <tr>\n",
       "      <th id=\"T_855ab_level0_row4\" class=\"row_heading level0 row4\" >Graz</th>\n",
       "      <td id=\"T_855ab_row4_col0\" class=\"data row4 col0\" >209,258</td>\n",
       "      <td id=\"T_855ab_row4_col1\" class=\"data row4 col1\" >0.024343246074808908</td>\n",
       "    </tr>\n",
       "    <tr>\n",
       "      <th id=\"T_855ab_level0_row5\" class=\"row_heading level0 row5\" >Hard</th>\n",
       "      <td id=\"T_855ab_row5_col0\" class=\"data row5 col0\" >180,883</td>\n",
       "      <td id=\"T_855ab_row5_col1\" class=\"data row5 col1\" >0.021042346671332327</td>\n",
       "    </tr>\n",
       "    <tr>\n",
       "      <th id=\"T_855ab_level0_row6\" class=\"row_heading level0 row6\" >Lauterach</th>\n",
       "      <td id=\"T_855ab_row6_col0\" class=\"data row6 col0\" >158,985</td>\n",
       "      <td id=\"T_855ab_row6_col1\" class=\"data row6 col1\" >0.01849492481627223</td>\n",
       "    </tr>\n",
       "    <tr>\n",
       "      <th id=\"T_855ab_level0_row7\" class=\"row_heading level0 row7\" >Lustenau</th>\n",
       "      <td id=\"T_855ab_row7_col0\" class=\"data row7 col0\" >157,579</td>\n",
       "      <td id=\"T_855ab_row7_col1\" class=\"data row7 col1\" >0.018331363069618904</td>\n",
       "    </tr>\n",
       "    <tr>\n",
       "      <th id=\"T_855ab_level0_row8\" class=\"row_heading level0 row8\" >Schwarzach</th>\n",
       "      <td id=\"T_855ab_row8_col0\" class=\"data row8 col0\" >110,749</td>\n",
       "      <td id=\"T_855ab_row8_col1\" class=\"data row8 col1\" >0.012883570327246805</td>\n",
       "    </tr>\n",
       "    <tr>\n",
       "      <th id=\"T_855ab_level0_row9\" class=\"row_heading level0 row9\" >Innsbruck</th>\n",
       "      <td id=\"T_855ab_row9_col0\" class=\"data row9 col0\" >109,098</td>\n",
       "      <td id=\"T_855ab_row9_col1\" class=\"data row9 col1\" >0.012691507422748485</td>\n",
       "    </tr>\n",
       "  </tbody>\n",
       "</table>\n"
      ],
      "text/plain": [
       "<pandas.io.formats.style.Styler at 0x13e231acf70>"
      ]
     },
     "execution_count": 312,
     "metadata": {},
     "output_type": "execute_result"
    }
   ],
   "source": [
    "pd.DataFrame({'count':df_full.User_Location.value_counts()[0:10], 'percentage':df_full.User_Location.value_counts(normalize=True)[0:10]}).style.format('{:,}')"
   ]
  },
  {
   "cell_type": "code",
   "execution_count": 333,
   "metadata": {},
   "outputs": [
    {
     "data": {
      "text/plain": [
       "11.166423538784148"
      ]
     },
     "execution_count": 333,
     "metadata": {},
     "output_type": "execute_result"
    }
   ],
   "source": [
    "calc_entropy(df_full.loc[df_full.Gender=='m',])"
   ]
  },
  {
   "cell_type": "code",
   "execution_count": 325,
   "metadata": {},
   "outputs": [
    {
     "data": {
      "text/plain": [
       "['Wien', 'Salzburg', 'Dornbirn', 'Linz', 'Graz']"
      ]
     },
     "execution_count": 325,
     "metadata": {},
     "output_type": "execute_result"
    }
   ],
   "source": [
    "top5_cities = list(df_full.User_Location.value_counts()[0:5].index)\n",
    "top5_cities"
   ]
  },
  {
   "cell_type": "code",
   "execution_count": 358,
   "metadata": {},
   "outputs": [],
   "source": [
    "top5_pop = ['Wien', 'Salzburg', 'Innsbruck', 'Linz', 'Graz']"
   ]
  },
  {
   "cell_type": "code",
   "execution_count": 359,
   "metadata": {},
   "outputs": [],
   "source": [
    "df_full_top5 = df_full.loc[df_full.User_Location.isin(top5_pop),]"
   ]
  },
  {
   "cell_type": "code",
   "execution_count": 360,
   "metadata": {},
   "outputs": [
    {
     "data": {
      "text/plain": [
       "11.099737327341899"
      ]
     },
     "execution_count": 360,
     "metadata": {},
     "output_type": "execute_result"
    }
   ],
   "source": [
    "calc_entropy(df_full_top5)"
   ]
  },
  {
   "cell_type": "code",
   "execution_count": 361,
   "metadata": {},
   "outputs": [],
   "source": [
    "df_full_other = df_full.loc[~df_full.User_Location.isin(top5_pop),]"
   ]
  },
  {
   "cell_type": "code",
   "execution_count": 362,
   "metadata": {},
   "outputs": [
    {
     "data": {
      "text/plain": [
       "11.127193678976006"
      ]
     },
     "execution_count": 362,
     "metadata": {},
     "output_type": "execute_result"
    }
   ],
   "source": [
    "calc_entropy(df_full_other)"
   ]
  },
  {
   "cell_type": "code",
   "execution_count": 363,
   "metadata": {},
   "outputs": [
    {
     "name": "stdout",
     "output_type": "stream",
     "text": [
      "(4666109, 47) (3930033, 47)\n"
     ]
    }
   ],
   "source": [
    "print(df_full_top5.shape, df_full_other.shape)"
   ]
  },
  {
   "cell_type": "code",
   "execution_count": 70,
   "metadata": {},
   "outputs": [],
   "source": [
    "cities = df_full.User_Location.value_counts()[0:10]\n",
    "#df_full.Gender.value_counts()"
   ]
  },
  {
   "cell_type": "code",
   "execution_count": 71,
   "metadata": {},
   "outputs": [
    {
     "data": {
      "text/plain": [
       "['Wien',\n",
       " 'Salzburg',\n",
       " 'Dornbirn',\n",
       " 'Linz',\n",
       " 'Graz',\n",
       " 'Hard',\n",
       " 'Lauterach',\n",
       " 'Lustenau',\n",
       " 'Schwarzach',\n",
       " 'Innsbruck']"
      ]
     },
     "execution_count": 71,
     "metadata": {},
     "output_type": "execute_result"
    }
   ],
   "source": [
    "cities = list(cities.index)\n",
    "cities"
   ]
  },
  {
   "cell_type": "code",
   "execution_count": 76,
   "metadata": {},
   "outputs": [],
   "source": [
    "\n",
    "top_cities = df_full.loc[df_full.User_Location.isin(cities),]"
   ]
  },
  {
   "cell_type": "code",
   "execution_count": 148,
   "metadata": {},
   "outputs": [
    {
     "data": {
      "text/plain": [
       "NaN             2045442\n",
       "unknown         1112015\n",
       "leftcenter       130250\n",
       "right            126515\n",
       "leastbiased       72207\n",
       "left               4969\n",
       "rightcenter        3535\n",
       "extremeright       2493\n",
       "Name: pol_label, dtype: int64"
      ]
     },
     "execution_count": 148,
     "metadata": {},
     "output_type": "execute_result"
    }
   ],
   "source": [
    "df_full.pol_label.value_counts(dropna=False)"
   ]
  },
  {
   "cell_type": "code",
   "execution_count": 109,
   "metadata": {},
   "outputs": [
    {
     "data": {
      "text/html": [
       "<div>\n",
       "<style scoped>\n",
       "    .dataframe tbody tr th:only-of-type {\n",
       "        vertical-align: middle;\n",
       "    }\n",
       "\n",
       "    .dataframe tbody tr th {\n",
       "        vertical-align: top;\n",
       "    }\n",
       "\n",
       "    .dataframe thead th {\n",
       "        text-align: right;\n",
       "    }\n",
       "</style>\n",
       "<table border=\"1\" class=\"dataframe\">\n",
       "  <thead>\n",
       "    <tr style=\"text-align: right;\">\n",
       "      <th>pol_label</th>\n",
       "      <th>left</th>\n",
       "      <th>leastbiased</th>\n",
       "      <th>right</th>\n",
       "    </tr>\n",
       "    <tr>\n",
       "      <th>User_Location_y</th>\n",
       "      <th></th>\n",
       "      <th></th>\n",
       "      <th></th>\n",
       "    </tr>\n",
       "  </thead>\n",
       "  <tbody>\n",
       "    <tr>\n",
       "      <th>Bayern</th>\n",
       "      <td>3422</td>\n",
       "      <td>1763</td>\n",
       "      <td>2772</td>\n",
       "    </tr>\n",
       "    <tr>\n",
       "      <th>Burgenland</th>\n",
       "      <td>3609</td>\n",
       "      <td>1937</td>\n",
       "      <td>3472</td>\n",
       "    </tr>\n",
       "    <tr>\n",
       "      <th>Kärnten</th>\n",
       "      <td>5191</td>\n",
       "      <td>2779</td>\n",
       "      <td>5225</td>\n",
       "    </tr>\n",
       "    <tr>\n",
       "      <th>Niederösterreich</th>\n",
       "      <td>30577</td>\n",
       "      <td>16155</td>\n",
       "      <td>30446</td>\n",
       "    </tr>\n",
       "    <tr>\n",
       "      <th>Oberösterreich</th>\n",
       "      <td>27766</td>\n",
       "      <td>15065</td>\n",
       "      <td>27393</td>\n",
       "    </tr>\n",
       "    <tr>\n",
       "      <th>Salzburg</th>\n",
       "      <td>17139</td>\n",
       "      <td>9118</td>\n",
       "      <td>16813</td>\n",
       "    </tr>\n",
       "    <tr>\n",
       "      <th>Steiermark</th>\n",
       "      <td>16328</td>\n",
       "      <td>8913</td>\n",
       "      <td>15945</td>\n",
       "    </tr>\n",
       "    <tr>\n",
       "      <th>Tirol</th>\n",
       "      <td>10315</td>\n",
       "      <td>5692</td>\n",
       "      <td>10272</td>\n",
       "    </tr>\n",
       "    <tr>\n",
       "      <th>Vorarlberg</th>\n",
       "      <td>51923</td>\n",
       "      <td>27541</td>\n",
       "      <td>52146</td>\n",
       "    </tr>\n",
       "    <tr>\n",
       "      <th>Wien</th>\n",
       "      <td>146253</td>\n",
       "      <td>77079</td>\n",
       "      <td>147587</td>\n",
       "    </tr>\n",
       "  </tbody>\n",
       "</table>\n",
       "</div>"
      ],
      "text/plain": [
       "pol_label           left  leastbiased   right\n",
       "User_Location_y                              \n",
       "Bayern              3422         1763    2772\n",
       "Burgenland          3609         1937    3472\n",
       "Kärnten             5191         2779    5225\n",
       "Niederösterreich   30577        16155   30446\n",
       "Oberösterreich     27766        15065   27393\n",
       "Salzburg           17139         9118   16813\n",
       "Steiermark         16328         8913   15945\n",
       "Tirol              10315         5692   10272\n",
       "Vorarlberg         51923        27541   52146\n",
       "Wien              146253        77079  147587"
      ]
     },
     "execution_count": 109,
     "metadata": {},
     "output_type": "execute_result"
    }
   ],
   "source": [
    "top_cities = top_cities.loc[top_cities.pol_label != 'unknown',]\n",
    "top_cities.loc[top_cities.pol_label == 'extremeright', 'pol_label'] = 'right'\n",
    "top_cities.loc[top_cities.pol_label == 'leftcenter', 'pol_label'] = 'left'\n",
    "top_cities.loc[top_cities.pol_label == 'rightcenter', 'pol_label'] = 'right'\n",
    "cross_df = pd.DataFrame(pd.crosstab(top_cities.User_Location_y, top_cities.pol_label))\n",
    "#cross_df = cross_df[['left', 'leftcenter', 'leastbiased', 'rightcenter', 'right']]\n",
    "cross_df = cross_df[['left', 'leastbiased', 'right']]\n",
    "cross_df\n"
   ]
  },
  {
   "cell_type": "code",
   "execution_count": 110,
   "metadata": {},
   "outputs": [
    {
     "data": {
      "image/png": "[encoded data removed]",
      "text/plain": [
       "<Figure size 1000x500 with 1 Axes>"
      ]
     },
     "metadata": {},
     "output_type": "display_data"
    }
   ],
   "source": [
    "import numpy as np\n",
    "import matplotlib.pyplot as plt\n",
    "\n",
    "\n",
    "categories = list(cross_df.index)\n",
    "\n",
    "\n",
    "def survey(results, category_names, row_names):\n",
    "    \"\"\"\n",
    "    Parameters\n",
    "    ----------\n",
    "    results : dict\n",
    "        A mapping from question labels to a list of answers per category.\n",
    "        It is assumed all lists contain the same number of entries and that\n",
    "        it matches the length of *category_names*. The order is assumed\n",
    "        to be from 'Strongly disagree' to 'Strongly aisagree'\n",
    "    category_names : list of str\n",
    "        The category labels.\n",
    "    \"\"\"\n",
    "    \n",
    "    labels = row_names\n",
    "    data = np.array(results.values.tolist())\n",
    "    #print(data)\n",
    "    data_cum = data.cumsum(axis=1)\n",
    "    middle_index = data.shape[1]//2\n",
    "    offsets = data[:, range(middle_index)].sum(axis=1) + data[:, middle_index]/2\n",
    "    \n",
    "    # Color Mapping\n",
    "    category_colors = plt.get_cmap('coolwarm_r')(\n",
    "        np.linspace(0.15, 0.85, data.shape[1]))\n",
    "    \n",
    "    fig, ax = plt.subplots(figsize=(10, 5))\n",
    "    \n",
    "    # Plot Bars\n",
    "    for i, (colname, color) in enumerate(zip(category_names, category_colors)):\n",
    "        widths = data[:, i]\n",
    "        starts = data_cum[:, i] - widths - offsets\n",
    "        rects = ax.barh(labels, widths, left=starts, height=0.5,\n",
    "                        label=colname, color=color)\n",
    "    \n",
    "    # Add Zero Reference Line\n",
    "    ax.axvline(0, linestyle='--', color='black', alpha=.25)\n",
    "    \n",
    "    # X Axis\n",
    "    ax.set_xlim(-200000, 200000)\n",
    "    ax.set_xticks(np.arange(-200000, 200000, 40000))\n",
    "    ax.xaxis.set_major_formatter(lambda x, pos: str(abs(int(x))))\n",
    "    \n",
    "    # Y Axis\n",
    "    ax.invert_yaxis()\n",
    "    \n",
    "    # Remove spines\n",
    "    ax.spines['right'].set_visible(False)\n",
    "    ax.spines['top'].set_visible(False)\n",
    "    ax.spines['left'].set_visible(False)\n",
    "    \n",
    "    # Ledgend\n",
    "    ax.legend(ncol=len(category_names), bbox_to_anchor=(0, 1),\n",
    "              loc='lower left', fontsize='small')\n",
    "    \n",
    "    # Set Background Color\n",
    "    fig.set_facecolor('#FFFFFF')\n",
    "\n",
    "    return fig, ax\n",
    "\n",
    "\n",
    "fig, ax = survey(cross_df, cross_df.columns, categories)\n",
    "\n",
    "plt.show()"
   ]
  },
  {
   "cell_type": "code",
   "execution_count": 77,
   "metadata": {},
   "outputs": [
    {
     "data": {
      "text/html": [
       "<div>\n",
       "<style scoped>\n",
       "    .dataframe tbody tr th:only-of-type {\n",
       "        vertical-align: middle;\n",
       "    }\n",
       "\n",
       "    .dataframe tbody tr th {\n",
       "        vertical-align: top;\n",
       "    }\n",
       "\n",
       "    .dataframe thead th {\n",
       "        text-align: right;\n",
       "    }\n",
       "</style>\n",
       "<table border=\"1\" class=\"dataframe\">\n",
       "  <thead>\n",
       "    <tr style=\"text-align: right;\">\n",
       "      <th>pol_label</th>\n",
       "      <th>left</th>\n",
       "      <th>leastbiased</th>\n",
       "      <th>right</th>\n",
       "    </tr>\n",
       "    <tr>\n",
       "      <th>User_Location</th>\n",
       "      <th></th>\n",
       "      <th></th>\n",
       "      <th></th>\n",
       "    </tr>\n",
       "  </thead>\n",
       "  <tbody>\n",
       "    <tr>\n",
       "      <th>Dornbirn</th>\n",
       "      <td>406</td>\n",
       "      <td>5749</td>\n",
       "      <td>11052</td>\n",
       "    </tr>\n",
       "    <tr>\n",
       "      <th>Graz</th>\n",
       "      <td>300</td>\n",
       "      <td>4398</td>\n",
       "      <td>7562</td>\n",
       "    </tr>\n",
       "    <tr>\n",
       "      <th>Hard</th>\n",
       "      <td>262</td>\n",
       "      <td>3906</td>\n",
       "      <td>7057</td>\n",
       "    </tr>\n",
       "    <tr>\n",
       "      <th>Innsbruck</th>\n",
       "      <td>160</td>\n",
       "      <td>2330</td>\n",
       "      <td>4115</td>\n",
       "    </tr>\n",
       "    <tr>\n",
       "      <th>Lauterach</th>\n",
       "      <td>249</td>\n",
       "      <td>3328</td>\n",
       "      <td>6282</td>\n",
       "    </tr>\n",
       "    <tr>\n",
       "      <th>Linz</th>\n",
       "      <td>434</td>\n",
       "      <td>5906</td>\n",
       "      <td>10509</td>\n",
       "    </tr>\n",
       "    <tr>\n",
       "      <th>Lustenau</th>\n",
       "      <td>249</td>\n",
       "      <td>3416</td>\n",
       "      <td>6133</td>\n",
       "    </tr>\n",
       "    <tr>\n",
       "      <th>Salzburg</th>\n",
       "      <td>477</td>\n",
       "      <td>6908</td>\n",
       "      <td>12360</td>\n",
       "    </tr>\n",
       "    <tr>\n",
       "      <th>Schwarzach</th>\n",
       "      <td>154</td>\n",
       "      <td>2423</td>\n",
       "      <td>4319</td>\n",
       "    </tr>\n",
       "    <tr>\n",
       "      <th>Wien</th>\n",
       "      <td>5610</td>\n",
       "      <td>78514</td>\n",
       "      <td>146331</td>\n",
       "    </tr>\n",
       "  </tbody>\n",
       "</table>\n",
       "</div>"
      ],
      "text/plain": [
       "pol_label      left  leastbiased   right\n",
       "User_Location                           \n",
       "Dornbirn        406         5749   11052\n",
       "Graz            300         4398    7562\n",
       "Hard            262         3906    7057\n",
       "Innsbruck       160         2330    4115\n",
       "Lauterach       249         3328    6282\n",
       "Linz            434         5906   10509\n",
       "Lustenau        249         3416    6133\n",
       "Salzburg        477         6908   12360\n",
       "Schwarzach      154         2423    4319\n",
       "Wien           5610        78514  146331"
      ]
     },
     "execution_count": 77,
     "metadata": {},
     "output_type": "execute_result"
    }
   ],
   "source": [
    "top_cities = top_cities.loc[top_cities.pol_label != 'unknown',]\n",
    "top_cities.loc[top_cities.pol_label == 'extremeright', 'pol_label'] = 'right'\n",
    "#top_cities.loc[top_cities.pol_label == 'leftcenter', 'pol_label'] = 'left'\n",
    "#top_cities.loc[top_cities.pol_label == 'rightcenter', 'pol_label'] = 'right'\n",
    "cross_df = pd.DataFrame(pd.crosstab(top_cities.User_Location, top_cities.pol_label))\n",
    "#cross_df = cross_df[['left', 'leftcenter', 'leastbiased', 'rightcenter', 'right']]\n",
    "cross_df = cross_df[['left', 'leastbiased', 'right']]\n",
    "cross_df\n"
   ]
  },
  {
   "cell_type": "code",
   "execution_count": 78,
   "metadata": {},
   "outputs": [
    {
     "data": {
      "image/png": "[encoded data removed]",
      "text/plain": [
       "<Figure size 1000x500 with 1 Axes>"
      ]
     },
     "metadata": {},
     "output_type": "display_data"
    }
   ],
   "source": [
    "import numpy as np\n",
    "import matplotlib.pyplot as plt\n",
    "\n",
    "\n",
    "categories = list(cross_df.index)\n",
    "\n",
    "\n",
    "def survey(results, category_names, row_names):\n",
    "    \"\"\"\n",
    "    Parameters\n",
    "    ----------\n",
    "    results : dict\n",
    "        A mapping from question labels to a list of answers per category.\n",
    "        It is assumed all lists contain the same number of entries and that\n",
    "        it matches the length of *category_names*. The order is assumed\n",
    "        to be from 'Strongly disagree' to 'Strongly aisagree'\n",
    "    category_names : list of str\n",
    "        The category labels.\n",
    "    \"\"\"\n",
    "    \n",
    "    labels = row_names\n",
    "    data = np.array(results.values.tolist())\n",
    "    #print(data)\n",
    "    data_cum = data.cumsum(axis=1)\n",
    "    middle_index = data.shape[1]//2\n",
    "    offsets = data[:, range(middle_index)].sum(axis=1) + data[:, middle_index]/2\n",
    "    \n",
    "    # Color Mapping\n",
    "    category_colors = plt.get_cmap('coolwarm_r')(\n",
    "        np.linspace(0.15, 0.85, data.shape[1]))\n",
    "    \n",
    "    fig, ax = plt.subplots(figsize=(10, 5))\n",
    "    \n",
    "    # Plot Bars\n",
    "    for i, (colname, color) in enumerate(zip(category_names, category_colors)):\n",
    "        widths = data[:, i]\n",
    "        starts = data_cum[:, i] - widths - offsets\n",
    "        rects = ax.barh(labels, widths, left=starts, height=0.5,\n",
    "                        label=colname, color=color)\n",
    "    \n",
    "    # Add Zero Reference Line\n",
    "    ax.axvline(0, linestyle='--', color='black', alpha=.25)\n",
    "    \n",
    "    # X Axis\n",
    "    ax.set_xlim(-200000, 200000)\n",
    "    ax.set_xticks(np.arange(-200000, 200000, 40000))\n",
    "    ax.xaxis.set_major_formatter(lambda x, pos: str(abs(int(x))))\n",
    "    \n",
    "    # Y Axis\n",
    "    ax.invert_yaxis()\n",
    "    \n",
    "    # Remove spines\n",
    "    ax.spines['right'].set_visible(False)\n",
    "    ax.spines['top'].set_visible(False)\n",
    "    ax.spines['left'].set_visible(False)\n",
    "    \n",
    "    # Ledgend\n",
    "    ax.legend(ncol=len(category_names), bbox_to_anchor=(0, 1),\n",
    "              loc='lower left', fontsize='small')\n",
    "    \n",
    "    # Set Background Color\n",
    "    fig.set_facecolor('#FFFFFF')\n",
    "\n",
    "    return fig, ax\n",
    "\n",
    "\n",
    "fig, ax = survey(cross_df, cross_df.columns, categories)\n",
    "\n",
    "plt.show()"
   ]
  },
  {
   "cell_type": "code",
   "execution_count": null,
   "metadata": {},
   "outputs": [
    {
     "data": {
      "text/html": [
       "<style type=\"text/css\">\n",
       "</style>\n",
       "<table id=\"T_79e91\">\n",
       "  <thead>\n",
       "    <tr>\n",
       "      <th class=\"blank level0\" >&nbsp;</th>\n",
       "      <th id=\"T_79e91_level0_col0\" class=\"col_heading level0 col0\" >model</th>\n",
       "      <th id=\"T_79e91_level0_col1\" class=\"col_heading level0 col1\" >Ent_O</th>\n",
       "      <th id=\"T_79e91_level0_col2\" class=\"col_heading level0 col2\" >Ent_BC</th>\n",
       "      <th id=\"T_79e91_level0_col3\" class=\"col_heading level0 col3\" >Diff Ent</th>\n",
       "      <th id=\"T_79e91_level0_col4\" class=\"col_heading level0 col4\" >Dissim_O</th>\n",
       "      <th id=\"T_79e91_level0_col5\" class=\"col_heading level0 col5\" >Dissim_BC</th>\n",
       "      <th id=\"T_79e91_level0_col6\" class=\"col_heading level0 col6\" >Diff Dissim</th>\n",
       "    </tr>\n",
       "  </thead>\n",
       "  <tbody>\n",
       "    <tr>\n",
       "      <th id=\"T_79e91_level0_row0\" class=\"row_heading level0 row0\" >0</th>\n",
       "      <td id=\"T_79e91_row0_col0\" class=\"data row0 col0\" >FOCF_none</td>\n",
       "      <td id=\"T_79e91_row0_col1\" class=\"data row0 col1\" >0.00620</td>\n",
       "      <td id=\"T_79e91_row0_col2\" class=\"data row0 col2\" >0.00620</td>\n",
       "      <td id=\"T_79e91_row0_col3\" class=\"data row0 col3\" >0.00000</td>\n",
       "      <td id=\"T_79e91_row0_col4\" class=\"data row0 col4\" >0.93430</td>\n",
       "      <td id=\"T_79e91_row0_col5\" class=\"data row0 col5\" >0.93438</td>\n",
       "      <td id=\"T_79e91_row0_col6\" class=\"data row0 col6\" >0.00008</td>\n",
       "    </tr>\n",
       "    <tr>\n",
       "      <th id=\"T_79e91_level0_row1\" class=\"row_heading level0 row1\" >1</th>\n",
       "      <td id=\"T_79e91_row1_col0\" class=\"data row1 col0\" >FOCF_value</td>\n",
       "      <td id=\"T_79e91_row1_col1\" class=\"data row1 col1\" >0.00593</td>\n",
       "      <td id=\"T_79e91_row1_col2\" class=\"data row1 col2\" >0.00611</td>\n",
       "      <td id=\"T_79e91_row1_col3\" class=\"data row1 col3\" >0.00018</td>\n",
       "      <td id=\"T_79e91_row1_col4\" class=\"data row1 col4\" >0.93785</td>\n",
       "      <td id=\"T_79e91_row1_col5\" class=\"data row1 col5\" >0.93911</td>\n",
       "      <td id=\"T_79e91_row1_col6\" class=\"data row1 col6\" >0.00126</td>\n",
       "    </tr>\n",
       "    <tr>\n",
       "      <th id=\"T_79e91_level0_row2\" class=\"row_heading level0 row2\" >2</th>\n",
       "      <td id=\"T_79e91_row2_col0\" class=\"data row2 col0\" >FOCF_absolute</td>\n",
       "      <td id=\"T_79e91_row2_col1\" class=\"data row2 col1\" >0.00610</td>\n",
       "      <td id=\"T_79e91_row2_col2\" class=\"data row2 col2\" >0.00620</td>\n",
       "      <td id=\"T_79e91_row2_col3\" class=\"data row2 col3\" >0.00010</td>\n",
       "      <td id=\"T_79e91_row2_col4\" class=\"data row2 col4\" >0.93421</td>\n",
       "      <td id=\"T_79e91_row2_col5\" class=\"data row2 col5\" >0.93398</td>\n",
       "      <td id=\"T_79e91_row2_col6\" class=\"data row2 col6\" >0.00024</td>\n",
       "    </tr>\n",
       "    <tr>\n",
       "      <th id=\"T_79e91_level0_row3\" class=\"row_heading level0 row3\" >3</th>\n",
       "      <td id=\"T_79e91_row3_col0\" class=\"data row3 col0\" >FOCF_nonparity</td>\n",
       "      <td id=\"T_79e91_row3_col1\" class=\"data row3 col1\" >0.00617</td>\n",
       "      <td id=\"T_79e91_row3_col2\" class=\"data row3 col2\" >0.00621</td>\n",
       "      <td id=\"T_79e91_row3_col3\" class=\"data row3 col3\" >0.00004</td>\n",
       "      <td id=\"T_79e91_row3_col4\" class=\"data row3 col4\" >0.93388</td>\n",
       "      <td id=\"T_79e91_row3_col5\" class=\"data row3 col5\" >0.93453</td>\n",
       "      <td id=\"T_79e91_row3_col6\" class=\"data row3 col6\" >0.00065</td>\n",
       "    </tr>\n",
       "    <tr>\n",
       "      <th id=\"T_79e91_level0_row4\" class=\"row_heading level0 row4\" >4</th>\n",
       "      <td id=\"T_79e91_row4_col0\" class=\"data row4 col0\" >FOCF_under</td>\n",
       "      <td id=\"T_79e91_row4_col1\" class=\"data row4 col1\" >0.00620</td>\n",
       "      <td id=\"T_79e91_row4_col2\" class=\"data row4 col2\" >0.00640</td>\n",
       "      <td id=\"T_79e91_row4_col3\" class=\"data row4 col3\" >0.00020</td>\n",
       "      <td id=\"T_79e91_row4_col4\" class=\"data row4 col4\" >0.93330</td>\n",
       "      <td id=\"T_79e91_row4_col5\" class=\"data row4 col5\" >0.93513</td>\n",
       "      <td id=\"T_79e91_row4_col6\" class=\"data row4 col6\" >0.00183</td>\n",
       "    </tr>\n",
       "    <tr>\n",
       "      <th id=\"T_79e91_level0_row5\" class=\"row_heading level0 row5\" >5</th>\n",
       "      <td id=\"T_79e91_row5_col0\" class=\"data row5 col0\" >FOCF_over</td>\n",
       "      <td id=\"T_79e91_row5_col1\" class=\"data row5 col1\" >0.00617</td>\n",
       "      <td id=\"T_79e91_row5_col2\" class=\"data row5 col2\" >0.00620</td>\n",
       "      <td id=\"T_79e91_row5_col3\" class=\"data row5 col3\" >0.00004</td>\n",
       "      <td id=\"T_79e91_row5_col4\" class=\"data row5 col4\" >0.93430</td>\n",
       "      <td id=\"T_79e91_row5_col5\" class=\"data row5 col5\" >0.93438</td>\n",
       "      <td id=\"T_79e91_row5_col6\" class=\"data row5 col6\" >0.00008</td>\n",
       "    </tr>\n",
       "    <tr>\n",
       "      <th id=\"T_79e91_level0_row6\" class=\"row_heading level0 row6\" >6</th>\n",
       "      <td id=\"T_79e91_row6_col0\" class=\"data row6 col0\" >PFCN_BiasedMF</td>\n",
       "      <td id=\"T_79e91_row6_col1\" class=\"data row6 col1\" >0.00600</td>\n",
       "      <td id=\"T_79e91_row6_col2\" class=\"data row6 col2\" >0.00610</td>\n",
       "      <td id=\"T_79e91_row6_col3\" class=\"data row6 col3\" >0.00010</td>\n",
       "      <td id=\"T_79e91_row6_col4\" class=\"data row6 col4\" >0.94156</td>\n",
       "      <td id=\"T_79e91_row6_col5\" class=\"data row6 col5\" >0.93874</td>\n",
       "      <td id=\"T_79e91_row6_col6\" class=\"data row6 col6\" >0.00282</td>\n",
       "    </tr>\n",
       "    <tr>\n",
       "      <th id=\"T_79e91_level0_row7\" class=\"row_heading level0 row7\" >7</th>\n",
       "      <td id=\"T_79e91_row7_col0\" class=\"data row7 col0\" >PFCN_PMF</td>\n",
       "      <td id=\"T_79e91_row7_col1\" class=\"data row7 col1\" >0.00610</td>\n",
       "      <td id=\"T_79e91_row7_col2\" class=\"data row7 col2\" >0.00600</td>\n",
       "      <td id=\"T_79e91_row7_col3\" class=\"data row7 col3\" >0.00010</td>\n",
       "      <td id=\"T_79e91_row7_col4\" class=\"data row7 col4\" >0.93984</td>\n",
       "      <td id=\"T_79e91_row7_col5\" class=\"data row7 col5\" >0.93819</td>\n",
       "      <td id=\"T_79e91_row7_col6\" class=\"data row7 col6\" >0.00165</td>\n",
       "    </tr>\n",
       "    <tr>\n",
       "      <th id=\"T_79e91_level0_row8\" class=\"row_heading level0 row8\" >8</th>\n",
       "      <td id=\"T_79e91_row8_col0\" class=\"data row8 col0\" >PFCN_MLP</td>\n",
       "      <td id=\"T_79e91_row8_col1\" class=\"data row8 col1\" >0.00620</td>\n",
       "      <td id=\"T_79e91_row8_col2\" class=\"data row8 col2\" >0.00620</td>\n",
       "      <td id=\"T_79e91_row8_col3\" class=\"data row8 col3\" >0.00000</td>\n",
       "      <td id=\"T_79e91_row8_col4\" class=\"data row8 col4\" >0.93902</td>\n",
       "      <td id=\"T_79e91_row8_col5\" class=\"data row8 col5\" >0.94006</td>\n",
       "      <td id=\"T_79e91_row8_col6\" class=\"data row8 col6\" >0.00104</td>\n",
       "    </tr>\n",
       "    <tr>\n",
       "      <th id=\"T_79e91_level0_row9\" class=\"row_heading level0 row9\" >9</th>\n",
       "      <td id=\"T_79e91_row9_col0\" class=\"data row9 col0\" >PFCN_DMF</td>\n",
       "      <td id=\"T_79e91_row9_col1\" class=\"data row9 col1\" >0.00620</td>\n",
       "      <td id=\"T_79e91_row9_col2\" class=\"data row9 col2\" >0.00610</td>\n",
       "      <td id=\"T_79e91_row9_col3\" class=\"data row9 col3\" >0.00010</td>\n",
       "      <td id=\"T_79e91_row9_col4\" class=\"data row9 col4\" >0.94277</td>\n",
       "      <td id=\"T_79e91_row9_col5\" class=\"data row9 col5\" >0.94496</td>\n",
       "      <td id=\"T_79e91_row9_col6\" class=\"data row9 col6\" >0.00219</td>\n",
       "    </tr>\n",
       "  </tbody>\n",
       "</table>\n"
      ],
      "text/plain": [
       "<pandas.io.formats.style.Styler at 0x13dfdcf9340>"
      ]
     },
     "metadata": {},
     "output_type": "display_data"
    }
   ],
   "source": [
    "df_dissim = pd.read_pickle('df_dissim_geo.pkl')\n",
    "geo_acc_divs = geo_acc_div.merge(df_dissim, on='model')\n",
    "geo_acc_divs['Diff Dissim'] = np.abs(geo_acc_divs['Dissim_O'] - geo_acc_divs['Dissim_BC'])\n",
    "geo_acc_divs1 = geo_acc_divs[['model','Ent_O', 'Ent_BC', 'Diff Ent', 'Dissim_O',\n",
    "       'Dissim_BC', 'Diff Dissim']]\n",
    "geo_acc_divs1.style.format('{:,.5f}', subset=['Ent_O', 'Ent_BC', 'Diff Ent', 'Dissim_O',\n",
    "       'Dissim_BC', 'Diff Dissim'])"
   ]
  },
  {
   "cell_type": "code",
   "execution_count": null,
   "metadata": {},
   "outputs": [
    {
     "data": {
      "text/plain": [
       "Index(['model', 'Ent_O', 'Ent_BC', 'Diff Ent', 'Dissim_O', 'Dissim_BC',\n",
       "       'Diff Dissim'],\n",
       "      dtype='object')"
      ]
     },
     "metadata": {},
     "output_type": "display_data"
    }
   ],
   "source": [
    "geo_acc_divs.columns"
   ]
  },
  {
   "cell_type": "markdown",
   "metadata": {},
   "source": [
    "### Pivot to grouping users by political interest"
   ]
  },
  {
   "cell_type": "code",
   "execution_count": 336,
   "metadata": {},
   "outputs": [],
   "source": [
    "df_full['pol_label_num'] = 0\n",
    "df_full.loc[df_full.pol_label.isin(['extremeright','rightcenter','right']),'pol_label_num'] = 1\n",
    "df_full.loc[df_full.pol_label.isin(['leftcenter','left']),'pol_label_num'] = -1"
   ]
  },
  {
   "cell_type": "code",
   "execution_count": 346,
   "metadata": {},
   "outputs": [],
   "source": [
    "df_user_pol = df_full.groupby(['ID_User'])['pol_label_num'].sum().to_frame()\n"
   ]
  },
  {
   "cell_type": "code",
   "execution_count": 347,
   "metadata": {},
   "outputs": [
    {
     "data": {
      "text/html": [
       "<div>\n",
       "<style scoped>\n",
       "    .dataframe tbody tr th:only-of-type {\n",
       "        vertical-align: middle;\n",
       "    }\n",
       "\n",
       "    .dataframe tbody tr th {\n",
       "        vertical-align: top;\n",
       "    }\n",
       "\n",
       "    .dataframe thead th {\n",
       "        text-align: right;\n",
       "    }\n",
       "</style>\n",
       "<table border=\"1\" class=\"dataframe\">\n",
       "  <thead>\n",
       "    <tr style=\"text-align: right;\">\n",
       "      <th></th>\n",
       "      <th>pol_label_usersum</th>\n",
       "      <th>ID_User</th>\n",
       "    </tr>\n",
       "  </thead>\n",
       "  <tbody>\n",
       "    <tr>\n",
       "      <th>0</th>\n",
       "      <td>2</td>\n",
       "      <td>7.0</td>\n",
       "    </tr>\n",
       "    <tr>\n",
       "      <th>1</th>\n",
       "      <td>-2</td>\n",
       "      <td>19.0</td>\n",
       "    </tr>\n",
       "    <tr>\n",
       "      <th>2</th>\n",
       "      <td>0</td>\n",
       "      <td>24.0</td>\n",
       "    </tr>\n",
       "    <tr>\n",
       "      <th>3</th>\n",
       "      <td>0</td>\n",
       "      <td>27.0</td>\n",
       "    </tr>\n",
       "    <tr>\n",
       "      <th>4</th>\n",
       "      <td>-1</td>\n",
       "      <td>37.0</td>\n",
       "    </tr>\n",
       "    <tr>\n",
       "      <th>...</th>\n",
       "      <td>...</td>\n",
       "      <td>...</td>\n",
       "    </tr>\n",
       "    <tr>\n",
       "      <th>124062</th>\n",
       "      <td>0</td>\n",
       "      <td>858888.0</td>\n",
       "    </tr>\n",
       "    <tr>\n",
       "      <th>124063</th>\n",
       "      <td>-5</td>\n",
       "      <td>858890.0</td>\n",
       "    </tr>\n",
       "    <tr>\n",
       "      <th>124064</th>\n",
       "      <td>1</td>\n",
       "      <td>858895.0</td>\n",
       "    </tr>\n",
       "    <tr>\n",
       "      <th>124065</th>\n",
       "      <td>0</td>\n",
       "      <td>858906.0</td>\n",
       "    </tr>\n",
       "    <tr>\n",
       "      <th>124066</th>\n",
       "      <td>4</td>\n",
       "      <td>858914.0</td>\n",
       "    </tr>\n",
       "  </tbody>\n",
       "</table>\n",
       "<p>124067 rows × 2 columns</p>\n",
       "</div>"
      ],
      "text/plain": [
       "        pol_label_usersum   ID_User\n",
       "0                       2       7.0\n",
       "1                      -2      19.0\n",
       "2                       0      24.0\n",
       "3                       0      27.0\n",
       "4                      -1      37.0\n",
       "...                   ...       ...\n",
       "124062                  0  858888.0\n",
       "124063                 -5  858890.0\n",
       "124064                  1  858895.0\n",
       "124065                  0  858906.0\n",
       "124066                  4  858914.0\n",
       "\n",
       "[124067 rows x 2 columns]"
      ]
     },
     "execution_count": 347,
     "metadata": {},
     "output_type": "execute_result"
    }
   ],
   "source": [
    "df_user_pol['ID_User'] = df_user_pol.index\n",
    "df_user_pol.columns = ['pol_label_usersum','ID_User']\n",
    "df_user_pol = df_user_pol.reset_index(drop=True)\n",
    "#df_user_pol['User_Location'] = df_user_pol['User_Location'].astype(\"string\")\n",
    "df_user_pol"
   ]
  },
  {
   "cell_type": "code",
   "execution_count": 171,
   "metadata": {},
   "outputs": [],
   "source": [
    "df_full = pd.merge(df_full, df_user_pol, how = 'left', on = 'ID_User')"
   ]
  },
  {
   "cell_type": "code",
   "execution_count": 348,
   "metadata": {},
   "outputs": [
    {
     "data": {
      "text/plain": [
       "(124067, 3)"
      ]
     },
     "execution_count": 348,
     "metadata": {},
     "output_type": "execute_result"
    }
   ],
   "source": [
    "df_user_pol = pd.merge(df_user_pol, df_user_location, how = 'inner', on = 'ID_User')\n",
    "df_user_pol.shape"
   ]
  },
  {
   "cell_type": "code",
   "execution_count": 349,
   "metadata": {},
   "outputs": [],
   "source": [
    "#df_user_pol['pol_group'] = pd.cut(df_user_pol.pol_label_usersum, bins = [-46,-10,-4,-1,0,3,9,45], \n",
    "#                                    labels = ['-45 -10', '-9 -4', '-3 -1', '0', '1 3', '4 9', '10+'])\n",
    "df_user_pol['pol_group'] = pd.cut(df_user_pol.pol_label_usersum, bins = [-46,-4,-1,0,3,45])\n",
    "df_user_pol_sub = df_user_pol.loc[df_user_pol.User_Location.isin(top5_cities),]"
   ]
  },
  {
   "cell_type": "code",
   "execution_count": 352,
   "metadata": {},
   "outputs": [
    {
     "data": {
      "text/html": [
       "<div>\n",
       "<style scoped>\n",
       "    .dataframe tbody tr th:only-of-type {\n",
       "        vertical-align: middle;\n",
       "    }\n",
       "\n",
       "    .dataframe tbody tr th {\n",
       "        vertical-align: top;\n",
       "    }\n",
       "\n",
       "    .dataframe thead th {\n",
       "        text-align: right;\n",
       "    }\n",
       "</style>\n",
       "<table border=\"1\" class=\"dataframe\">\n",
       "  <thead>\n",
       "    <tr style=\"text-align: right;\">\n",
       "      <th></th>\n",
       "      <th>pol_label_usersum</th>\n",
       "      <th>ID_User</th>\n",
       "      <th>User_Location</th>\n",
       "      <th>pol_group</th>\n",
       "    </tr>\n",
       "  </thead>\n",
       "  <tbody>\n",
       "    <tr>\n",
       "      <th>0</th>\n",
       "      <td>2</td>\n",
       "      <td>7.0</td>\n",
       "      <td>Wien</td>\n",
       "      <td>(0, 3]</td>\n",
       "    </tr>\n",
       "    <tr>\n",
       "      <th>1</th>\n",
       "      <td>-2</td>\n",
       "      <td>19.0</td>\n",
       "      <td>Wien</td>\n",
       "      <td>(-4, -1]</td>\n",
       "    </tr>\n",
       "    <tr>\n",
       "      <th>2</th>\n",
       "      <td>0</td>\n",
       "      <td>24.0</td>\n",
       "      <td>Dornbirn</td>\n",
       "      <td>(-1, 0]</td>\n",
       "    </tr>\n",
       "    <tr>\n",
       "      <th>3</th>\n",
       "      <td>0</td>\n",
       "      <td>27.0</td>\n",
       "      <td>Linz</td>\n",
       "      <td>(-1, 0]</td>\n",
       "    </tr>\n",
       "    <tr>\n",
       "      <th>4</th>\n",
       "      <td>-1</td>\n",
       "      <td>37.0</td>\n",
       "      <td>Pölten</td>\n",
       "      <td>(-4, -1]</td>\n",
       "    </tr>\n",
       "  </tbody>\n",
       "</table>\n",
       "</div>"
      ],
      "text/plain": [
       "   pol_label_usersum  ID_User User_Location pol_group\n",
       "0                  2      7.0          Wien    (0, 3]\n",
       "1                 -2     19.0          Wien  (-4, -1]\n",
       "2                  0     24.0      Dornbirn   (-1, 0]\n",
       "3                  0     27.0          Linz   (-1, 0]\n",
       "4                 -1     37.0        Pölten  (-4, -1]"
      ]
     },
     "execution_count": 352,
     "metadata": {},
     "output_type": "execute_result"
    }
   ],
   "source": [
    "df_user_pol.head()"
   ]
  },
  {
   "cell_type": "code",
   "execution_count": 350,
   "metadata": {},
   "outputs": [
    {
     "data": {
      "text/html": [
       "<div>\n",
       "<style scoped>\n",
       "    .dataframe tbody tr th:only-of-type {\n",
       "        vertical-align: middle;\n",
       "    }\n",
       "\n",
       "    .dataframe tbody tr th {\n",
       "        vertical-align: top;\n",
       "    }\n",
       "\n",
       "    .dataframe thead th {\n",
       "        text-align: right;\n",
       "    }\n",
       "</style>\n",
       "<table border=\"1\" class=\"dataframe\">\n",
       "  <thead>\n",
       "    <tr style=\"text-align: right;\">\n",
       "      <th>pol_group</th>\n",
       "      <th>(-46, -4]</th>\n",
       "      <th>(-4, -1]</th>\n",
       "      <th>(-1, 0]</th>\n",
       "      <th>(0, 3]</th>\n",
       "      <th>(3, 45]</th>\n",
       "    </tr>\n",
       "    <tr>\n",
       "      <th>User_Location</th>\n",
       "      <th></th>\n",
       "      <th></th>\n",
       "      <th></th>\n",
       "      <th></th>\n",
       "      <th></th>\n",
       "    </tr>\n",
       "  </thead>\n",
       "  <tbody>\n",
       "    <tr>\n",
       "      <th>Dornbirn</th>\n",
       "      <td>0.056434</td>\n",
       "      <td>0.241322</td>\n",
       "      <td>0.355608</td>\n",
       "      <td>0.284298</td>\n",
       "      <td>0.062338</td>\n",
       "    </tr>\n",
       "    <tr>\n",
       "      <th>Graz</th>\n",
       "      <td>0.061704</td>\n",
       "      <td>0.268364</td>\n",
       "      <td>0.347698</td>\n",
       "      <td>0.267058</td>\n",
       "      <td>0.055175</td>\n",
       "    </tr>\n",
       "    <tr>\n",
       "      <th>Linz</th>\n",
       "      <td>0.063953</td>\n",
       "      <td>0.266936</td>\n",
       "      <td>0.329879</td>\n",
       "      <td>0.278311</td>\n",
       "      <td>0.060920</td>\n",
       "    </tr>\n",
       "    <tr>\n",
       "      <th>Salzburg</th>\n",
       "      <td>0.065820</td>\n",
       "      <td>0.261376</td>\n",
       "      <td>0.349206</td>\n",
       "      <td>0.263069</td>\n",
       "      <td>0.060529</td>\n",
       "    </tr>\n",
       "    <tr>\n",
       "      <th>Wien</th>\n",
       "      <td>0.066173</td>\n",
       "      <td>0.255815</td>\n",
       "      <td>0.325709</td>\n",
       "      <td>0.284579</td>\n",
       "      <td>0.067724</td>\n",
       "    </tr>\n",
       "  </tbody>\n",
       "</table>\n",
       "</div>"
      ],
      "text/plain": [
       "pol_group      (-46, -4]  (-4, -1]   (-1, 0]    (0, 3]   (3, 45]\n",
       "User_Location                                                   \n",
       "Dornbirn        0.056434  0.241322  0.355608  0.284298  0.062338\n",
       "Graz            0.061704  0.268364  0.347698  0.267058  0.055175\n",
       "Linz            0.063953  0.266936  0.329879  0.278311  0.060920\n",
       "Salzburg        0.065820  0.261376  0.349206  0.263069  0.060529\n",
       "Wien            0.066173  0.255815  0.325709  0.284579  0.067724"
      ]
     },
     "execution_count": 350,
     "metadata": {},
     "output_type": "execute_result"
    }
   ],
   "source": [
    "pd.DataFrame(pd.crosstab(df_user_pol_sub.User_Location,df_user_pol_sub.pol_group, normalize = 'index'))"
   ]
  },
  {
   "cell_type": "code",
   "execution_count": 206,
   "metadata": {},
   "outputs": [],
   "source": [
    "cross_df = pd.DataFrame(pd.crosstab(df_user_pol_sub.User_Location, df_user_pol_sub.pol_group, normalize = 'index'))"
   ]
  },
  {
   "cell_type": "code",
   "execution_count": 353,
   "metadata": {},
   "outputs": [],
   "source": [
    "users_left = df_user_pol.loc[df_user_pol.pol_label_usersum <=-5,'ID_User']\n",
    "users_right = df_user_pol.loc[df_user_pol.pol_label_usersum >=5,'ID_User']"
   ]
  },
  {
   "cell_type": "code",
   "execution_count": 355,
   "metadata": {},
   "outputs": [
    {
     "data": {
      "text/plain": [
       "11.321563000929073"
      ]
     },
     "execution_count": 355,
     "metadata": {},
     "output_type": "execute_result"
    }
   ],
   "source": [
    "calc_entropy(df_full.loc[df_full.ID_User.isin(users_left),])"
   ]
  },
  {
   "cell_type": "code",
   "execution_count": 356,
   "metadata": {},
   "outputs": [
    {
     "data": {
      "text/plain": [
       "10.9243745005776"
      ]
     },
     "execution_count": 356,
     "metadata": {},
     "output_type": "execute_result"
    }
   ],
   "source": [
    "calc_entropy(df_full.loc[df_full.ID_User.isin(users_right),])"
   ]
  },
  {
   "cell_type": "code",
   "execution_count": null,
   "metadata": {},
   "outputs": [],
   "source": [
    "\n",
    "\n",
    "\n",
    "# Load the data into a pandas dataframe\n",
    "df = pd.read_csv('data.csv', names=['user', 'item', 'gender'])\n",
    "\n",
    "# Calculate the total number of views\n",
    "total_views = df.shape[0]\n",
    "\n",
    "# Group the data by item and count the number of views for each item\n",
    "item_counts = df.groupby('item').size()\n",
    "\n",
    "# Calculate the probability of each item\n",
    "item_probs = item_counts / total_views\n",
    "\n",
    "# Calculate the entropy for each item\n",
    "item_entropy = -item_probs * item_probs.apply(math.log2)\n",
    "\n",
    "# Calculate the overall entropy\n",
    "overall_entropy = item_entropy.sum()\n",
    "\n",
    "# Print the results\n",
    "print('Entropy split by item:')\n",
    "print(item_entropy)\n",
    "print('Overall entropy:', overall_entropy)"
   ]
  },
  {
   "cell_type": "code",
   "execution_count": 243,
   "metadata": {},
   "outputs": [],
   "source": [
    "import math\n",
    "from scipy.stats import entropy\n",
    "import torch\n",
    "from collections import Counter"
   ]
  },
  {
   "cell_type": "code",
   "execution_count": 231,
   "metadata": {},
   "outputs": [
    {
     "name": "stdout",
     "output_type": "stream",
     "text": [
      "Overall entropy: 11.164989929081127 / 11.164989929081129 11.164989929081129\n"
     ]
    }
   ],
   "source": [
    "\n",
    "\n",
    "# Calculate the total number of views\n",
    "total_views = df_full.shape[0]\n",
    "\n",
    "# Group the data by item and count the number of views for each item\n",
    "item_counts = df_full.groupby('SID_Content').size()\n",
    "\n",
    "# Calculate the probability of each item\n",
    "item_probs = item_counts / total_views\n",
    "\n",
    "# Calculate the entropy for each item\n",
    "item_entropy = -item_probs * item_probs.apply(math.log2)\n",
    "\n",
    "# Calculate the overall entropy\n",
    "overall_entropy = item_entropy.sum()\n",
    "\n",
    "H = entropy(item_probs, base=2)\n",
    "H2 = -np.sum(item_probs * np.log(item_probs)) / np.log(2)\n",
    "\n",
    "#H = entropy(item_probs, base=2)\n",
    "\n",
    "#H == -np.sum(item_probs * np.log(item_probs)) / np.log(2)\n",
    "# Print the results\n",
    "#print('Entropy split by item:')\n",
    "#print(item_entropy)\n",
    "print('Overall entropy:', overall_entropy, '/', H, H2)\n"
   ]
  },
  {
   "cell_type": "code",
   "execution_count": 247,
   "metadata": {},
   "outputs": [],
   "source": [
    "item_matrix = torch.load(r'C:\\Users\\e12139066\\Documents\\Thesis\\RecBole-FairRec-master\\rec_items\\Feb-21-2023_23-10-11_rec_items_colab.pt')"
   ]
  },
  {
   "cell_type": "code",
   "execution_count": 266,
   "metadata": {},
   "outputs": [
    {
     "data": {
      "text/plain": [
       "0.002163955656884788"
      ]
     },
     "execution_count": 266,
     "metadata": {},
     "output_type": "execute_result"
    }
   ],
   "source": [
    "item_count = dict(Counter(item_matrix.flatten()))\n",
    "total_num = item_matrix.shape[0] * item_matrix.shape[1]\n",
    "result = 0.0\n",
    "for cnt in item_count.values():\n",
    "    p = cnt / total_num\n",
    "    result += -p * np.log(p)\n",
    "result*10 / len(item_count)"
   ]
  },
  {
   "cell_type": "code",
   "execution_count": null,
   "metadata": {},
   "outputs": [],
   "source": []
  },
  {
   "cell_type": "code",
   "execution_count": 253,
   "metadata": {},
   "outputs": [],
   "source": [
    "item_df = pd.DataFrame(item_matrix.flatten())"
   ]
  },
  {
   "cell_type": "code",
   "execution_count": 257,
   "metadata": {},
   "outputs": [],
   "source": [
    "item_df.columns = ['SID_Content']"
   ]
  },
  {
   "cell_type": "code",
   "execution_count": 323,
   "metadata": {},
   "outputs": [],
   "source": [
    "def calc_entropy(df):\n",
    "    # Calculate the total number of views\n",
    "    total_views = df.shape[0]\n",
    "\n",
    "    # Group the data by item and count the number of views for each item\n",
    "    item_counts = df.groupby('SID_Content').size()\n",
    "\n",
    "    # Calculate the probability of each item\n",
    "    item_probs = item_counts / total_views\n",
    "\n",
    "    # Calculate the entropy for each item\n",
    "    item_entropy = -item_probs * item_probs.apply(math.log2)\n",
    "\n",
    "    # Calculate the overall entropy\n",
    "    overall_entropy = item_entropy.sum()\n",
    "    return(overall_entropy)\n",
    "\n",
    "\n"
   ]
  },
  {
   "cell_type": "code",
   "execution_count": 271,
   "metadata": {},
   "outputs": [
    {
     "data": {
      "text/plain": [
       "2794.980716833899"
      ]
     },
     "execution_count": 271,
     "metadata": {},
     "output_type": "execute_result"
    }
   ],
   "source": [
    "6.0196/0.0021537179"
   ]
  },
  {
   "cell_type": "code",
   "execution_count": 272,
   "metadata": {},
   "outputs": [
    {
     "data": {
      "text/plain": [
       "2810.9916194885213"
      ]
     },
     "execution_count": 272,
     "metadata": {},
     "output_type": "execute_result"
    }
   ],
   "source": [
    "#2821 They divide by this for some reason\n"
   ]
  }
 ],
 "metadata": {
  "interpreter": {
   "hash": "51ff47f0dacf2fb2da9303db8ac9b14c37317ddba727b462e1272899e66bda23"
  },
  "kernelspec": {
   "display_name": "Python 3.9.13 ('Blake_Thesis')",
   "language": "python",
   "name": "python3"
  },
  "language_info": {
   "codemirror_mode": {
    "name": "ipython",
    "version": 3
   },
   "file_extension": ".py",
   "mimetype": "text/x-python",
   "name": "python",
   "nbconvert_exporter": "python",
   "pygments_lexer": "ipython3",
   "version": "3.9.13"
  },
  "orig_nbformat": 4
 },
 "nbformat": 4,
 "nbformat_minor": 2
}
