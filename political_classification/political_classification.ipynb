{
 "cells": [
  {
   "cell_type": "code",
   "execution_count": 2,
   "metadata": {},
   "outputs": [],
   "source": [
    "import pandas as pd\n",
    "import numpy as np"
   ]
  },
  {
   "cell_type": "code",
   "execution_count": 5,
   "metadata": {},
   "outputs": [],
   "source": [
    "df_content_art = pd.read_pickle(\"df_content_art.pkl\")"
   ]
  },
  {
   "cell_type": "code",
   "execution_count": 216,
   "metadata": {},
   "outputs": [],
   "source": [
    "political_articles = np.load('political_articles.npy')"
   ]
  },
  {
   "cell_type": "code",
   "execution_count": 217,
   "metadata": {},
   "outputs": [
    {
     "data": {
      "text/plain": [
       "(4260, 3)"
      ]
     },
     "execution_count": 217,
     "metadata": {},
     "output_type": "execute_result"
    }
   ],
   "source": [
    "df_content_art = df_content_art.loc[df_content_art.ID_GodotObject.isin(political_articles),]\n",
    "df_content_art.shape"
   ]
  },
  {
   "cell_type": "code",
   "execution_count": 218,
   "metadata": {},
   "outputs": [],
   "source": [
    "import xml.etree.ElementTree as ET\n",
    "import re"
   ]
  },
  {
   "cell_type": "code",
   "execution_count": 219,
   "metadata": {},
   "outputs": [],
   "source": [
    "special_chars = ['<p>', '</p>', '<b>', '</b>', '</strong>', '<h3>', '</h3>']\n",
    "def extract_features(data_list):\n",
    "    features_list = []\n",
    "    for xml_string in data_list:\n",
    "        root = ET.fromstring(xml_string)\n",
    "        # Find text and combine if multiple\n",
    "        art_text = ''\n",
    "        for text_i in root.iter('text'):\n",
    "            if text_i.text is not None:\n",
    "                art_text = art_text + '' + text_i.text\n",
    "        # Clean text string        \n",
    "        art_text = art_text.replace('\\n', ' ')\n",
    "        for char in special_chars:\n",
    "            art_text = art_text.replace(char, '')\n",
    "        art_text = re.sub(\"^\\w+\\s([-'])\\s\", \"\", art_text)  \n",
    "         \n",
    "        document_id = root.attrib['id']\n",
    "        publishing_date = root.attrib['publishingDate']\n",
    "        title_find = root.find('./title')\n",
    "        if title_find is not None:\n",
    "            title = title_find.text\n",
    "        else:\n",
    "            title = \"\"   \n",
    "        lead_title_find = root.find('./leadTitle')\n",
    "        if lead_title_find is not None:\n",
    "            lead_title = lead_title_find.text\n",
    "        else:\n",
    "            lead_title = \"\"\n",
    "        url = root.attrib['url']\n",
    "        features = {'document_id': document_id, 'publishing_date': publishing_date, 'title': title, 'lead_title': lead_title, 'text': art_text, 'url': url}\n",
    "        features_list.append(features)\n",
    "  \n",
    "    return features_list"
   ]
  },
  {
   "cell_type": "code",
   "execution_count": 88,
   "metadata": {},
   "outputs": [],
   "source": [
    "from deep_translator import GoogleTranslator\n",
    "\n",
    "from transformers import pipeline\n",
    "from transformers import AutoTokenizer, AutoModelForSequenceClassification\n",
    "\n",
    "tokenizer = AutoTokenizer.from_pretrained(\"valurank/distilroberta-mbfc-bias\")\n",
    "\n",
    "model = AutoModelForSequenceClassification.from_pretrained(\"valurank/distilroberta-mbfc-bias\")"
   ]
  },
  {
   "cell_type": "code",
   "execution_count": 2,
   "metadata": {},
   "outputs": [],
   "source": [
    "import pickle\n",
    "from IPython.display import clear_output"
   ]
  },
  {
   "cell_type": "code",
   "execution_count": 220,
   "metadata": {},
   "outputs": [],
   "source": [
    "starting_article = 0\n",
    "#ending_article = 2000\n",
    "\n",
    "#article_text = extract_features(df_content_art['documentXML'][starting_article:ending_article+1])\n",
    "article_text = extract_features(df_content_art['documentXML'][starting_article:])"
   ]
  },
  {
   "cell_type": "code",
   "execution_count": 221,
   "metadata": {},
   "outputs": [
    {
     "name": "stdout",
     "output_type": "stream",
     "text": [
      "4001\n"
     ]
    }
   ],
   "source": [
    "\n",
    "political_lean = []\n",
    "article_count = starting_article\n",
    "skipped_articles = []\n",
    "classifier = pipeline(\"sentiment-analysis\", model=model, tokenizer=tokenizer)\n",
    "for dict in article_text:\n",
    "    print(article_count)\n",
    "    text = dict['text'][:1850]\n",
    "    if len(re.findall('http://', text)) > 3:\n",
    "        skipped_articles.append(article_count)\n",
    "        print(skipped_articles)\n",
    "        continue\n",
    "    text = text.rsplit(' ', 1)[0] \n",
    "    translated = GoogleTranslator(source='de', target='en').translate(text)\n",
    "    try:\n",
    "        pred_class = classifier(translated)\n",
    "        pol_label = pred_class[0]['label']\n",
    "        pol_score = pred_class[0]['score']\n",
    "        class_dict = {'document_id' : dict['document_id'], 'pol_label' : pol_label, 'pol_score' : pol_score}\n",
    "        political_lean.append(class_dict)\n",
    "    except:\n",
    "        continue    \n",
    "    clear_output(wait=True) \n",
    "    article_count += 1\n",
    "    if article_count % 100 == 0:\n",
    "        with open(\"political_lean.bin\", \"wb\") as output:\n",
    "            pickle.dump(political_lean, output)\n"
   ]
  },
  {
   "cell_type": "code",
   "execution_count": 222,
   "metadata": {},
   "outputs": [
    {
     "data": {
      "text/plain": [
       "4002"
      ]
     },
     "execution_count": 222,
     "metadata": {},
     "output_type": "execute_result"
    }
   ],
   "source": [
    "len(political_lean)\n"
   ]
  },
  {
   "cell_type": "code",
   "execution_count": 223,
   "metadata": {},
   "outputs": [],
   "source": [
    "political_lean_df = pd.DataFrame(political_lean)\n",
    "#political_lean_df.pol_label.value_counts()\n",
    "political_lean_df\n",
    "political_lean_df.to_pickle('political_lean_df_large.pkl')"
   ]
  },
  {
   "cell_type": "code",
   "execution_count": 3,
   "metadata": {},
   "outputs": [],
   "source": [
    "# Import dfs with pol_label\n",
    "political_lean_df_0_81 = pd.read_pickle('political_lean_df_0_81.pkl') \n",
    "political_lean_df_81_219 = pd.read_pickle('political_lean_df_81_219.pkl')\n",
    "political_lean_df_225_235 = pd.read_pickle('political_lean_df_225_235.pkl')\n",
    "political_lean_df_235_245 = pd.read_pickle('political_lean_df_235_245.pkl')\n",
    "political_lean_df_245_1000 = pd.read_pickle('political_lean_df_245_1000.pkl')\n",
    "political_lean_df_1000_2000 = pd.read_pickle('political_lean_df_1000_2000.pkl')\n",
    "political_lean_df_2000_3120 = pd.read_pickle('political_lean_df_2000_3120.pkl')\n",
    "political_lean_df_large = pd.read_pickle('political_lean_df_large.pkl')\n",
    "\n",
    "political_lean = pd.concat([political_lean_df_0_81, political_lean_df_81_219, political_lean_df_225_235, \n",
    "                            political_lean_df_235_245, political_lean_df_245_1000, political_lean_df_1000_2000, \n",
    "                            political_lean_df_2000_3120, political_lean_df_large])\n"
   ]
  },
  {
   "cell_type": "code",
   "execution_count": 5,
   "metadata": {},
   "outputs": [],
   "source": [
    "political_lean.to_pickle('political_lean_final.pkl')"
   ]
  },
  {
   "cell_type": "code",
   "execution_count": 4,
   "metadata": {},
   "outputs": [],
   "source": [
    "df_dimcontent = pd.read_pickle(\"df_dimcontent.pkl\")\n",
    "df_dimcontent = df_dimcontent.loc[:,['SID_Content','ID_GodotObject', 'ChannelTopRessort', 'ObjectType']]"
   ]
  },
  {
   "cell_type": "code",
   "execution_count": 5,
   "metadata": {},
   "outputs": [],
   "source": [
    "df_dimcontent.ID_GodotObject = df_dimcontent.ID_GodotObject.astype(str)\n",
    "political_lean.document_id = political_lean.document_id.astype(str)"
   ]
  },
  {
   "cell_type": "code",
   "execution_count": 9,
   "metadata": {},
   "outputs": [
    {
     "name": "stdout",
     "output_type": "stream",
     "text": [
      "(1558554, 4) (7111, 3)\n"
     ]
    }
   ],
   "source": [
    "print(df_dimcontent.shape, political_lean.shape)\n"
   ]
  },
  {
   "cell_type": "code",
   "execution_count": 6,
   "metadata": {},
   "outputs": [
    {
     "data": {
      "text/plain": [
       "(7111, 7)"
      ]
     },
     "execution_count": 6,
     "metadata": {},
     "output_type": "execute_result"
    }
   ],
   "source": [
    "df_full = pd.merge(political_lean, df_dimcontent, how = 'inner', left_on='document_id', right_on='ID_GodotObject')\n",
    "df_full.shape"
   ]
  },
  {
   "cell_type": "code",
   "execution_count": 7,
   "metadata": {},
   "outputs": [
    {
     "data": {
      "text/html": [
       "<div>\n",
       "<style scoped>\n",
       "    .dataframe tbody tr th:only-of-type {\n",
       "        vertical-align: middle;\n",
       "    }\n",
       "\n",
       "    .dataframe tbody tr th {\n",
       "        vertical-align: top;\n",
       "    }\n",
       "\n",
       "    .dataframe thead th {\n",
       "        text-align: right;\n",
       "    }\n",
       "</style>\n",
       "<table border=\"1\" class=\"dataframe\">\n",
       "  <thead>\n",
       "    <tr style=\"text-align: right;\">\n",
       "      <th>pol_label</th>\n",
       "      <th>left</th>\n",
       "      <th>leftcenter</th>\n",
       "      <th>leastbiased</th>\n",
       "      <th>rightcenter</th>\n",
       "      <th>right</th>\n",
       "      <th>unknown</th>\n",
       "      <th>All</th>\n",
       "    </tr>\n",
       "    <tr>\n",
       "      <th>ChannelTopRessort</th>\n",
       "      <th></th>\n",
       "      <th></th>\n",
       "      <th></th>\n",
       "      <th></th>\n",
       "      <th></th>\n",
       "      <th></th>\n",
       "      <th></th>\n",
       "    </tr>\n",
       "  </thead>\n",
       "  <tbody>\n",
       "    <tr>\n",
       "      <th>(Diverses)</th>\n",
       "      <td>0</td>\n",
       "      <td>29</td>\n",
       "      <td>116</td>\n",
       "      <td>14</td>\n",
       "      <td>124</td>\n",
       "      <td>161</td>\n",
       "      <td>444</td>\n",
       "    </tr>\n",
       "    <tr>\n",
       "      <th>(Inland)</th>\n",
       "      <td>0</td>\n",
       "      <td>139</td>\n",
       "      <td>26</td>\n",
       "      <td>0</td>\n",
       "      <td>171</td>\n",
       "      <td>1789</td>\n",
       "      <td>2125</td>\n",
       "    </tr>\n",
       "    <tr>\n",
       "      <th>(International)</th>\n",
       "      <td>1</td>\n",
       "      <td>28</td>\n",
       "      <td>3</td>\n",
       "      <td>0</td>\n",
       "      <td>25</td>\n",
       "      <td>158</td>\n",
       "      <td>215</td>\n",
       "    </tr>\n",
       "    <tr>\n",
       "      <th>(Panorama)</th>\n",
       "      <td>1</td>\n",
       "      <td>45</td>\n",
       "      <td>19</td>\n",
       "      <td>0</td>\n",
       "      <td>62</td>\n",
       "      <td>713</td>\n",
       "      <td>840</td>\n",
       "    </tr>\n",
       "    <tr>\n",
       "      <th>Europa</th>\n",
       "      <td>1</td>\n",
       "      <td>87</td>\n",
       "      <td>24</td>\n",
       "      <td>1</td>\n",
       "      <td>25</td>\n",
       "      <td>631</td>\n",
       "      <td>769</td>\n",
       "    </tr>\n",
       "    <tr>\n",
       "      <th>Kolumnen</th>\n",
       "      <td>0</td>\n",
       "      <td>26</td>\n",
       "      <td>0</td>\n",
       "      <td>0</td>\n",
       "      <td>26</td>\n",
       "      <td>295</td>\n",
       "      <td>347</td>\n",
       "    </tr>\n",
       "    <tr>\n",
       "      <th>Kommentare</th>\n",
       "      <td>3</td>\n",
       "      <td>69</td>\n",
       "      <td>8</td>\n",
       "      <td>2</td>\n",
       "      <td>18</td>\n",
       "      <td>481</td>\n",
       "      <td>581</td>\n",
       "    </tr>\n",
       "    <tr>\n",
       "      <th>Welt-Chronik</th>\n",
       "      <td>0</td>\n",
       "      <td>28</td>\n",
       "      <td>28</td>\n",
       "      <td>1</td>\n",
       "      <td>12</td>\n",
       "      <td>226</td>\n",
       "      <td>295</td>\n",
       "    </tr>\n",
       "    <tr>\n",
       "      <th>Wirtschaftspolitik</th>\n",
       "      <td>1</td>\n",
       "      <td>96</td>\n",
       "      <td>39</td>\n",
       "      <td>2</td>\n",
       "      <td>55</td>\n",
       "      <td>571</td>\n",
       "      <td>764</td>\n",
       "    </tr>\n",
       "    <tr>\n",
       "      <th>Österreich-Chronik</th>\n",
       "      <td>1</td>\n",
       "      <td>68</td>\n",
       "      <td>43</td>\n",
       "      <td>0</td>\n",
       "      <td>52</td>\n",
       "      <td>567</td>\n",
       "      <td>731</td>\n",
       "    </tr>\n",
       "    <tr>\n",
       "      <th>All</th>\n",
       "      <td>8</td>\n",
       "      <td>615</td>\n",
       "      <td>306</td>\n",
       "      <td>20</td>\n",
       "      <td>570</td>\n",
       "      <td>5592</td>\n",
       "      <td>7111</td>\n",
       "    </tr>\n",
       "  </tbody>\n",
       "</table>\n",
       "</div>"
      ],
      "text/plain": [
       "pol_label           left  leftcenter  leastbiased  rightcenter  right  \\\n",
       "ChannelTopRessort                                                       \n",
       "(Diverses)             0          29          116           14    124   \n",
       "(Inland)               0         139           26            0    171   \n",
       "(International)        1          28            3            0     25   \n",
       "(Panorama)             1          45           19            0     62   \n",
       "Europa                 1          87           24            1     25   \n",
       "Kolumnen               0          26            0            0     26   \n",
       "Kommentare             3          69            8            2     18   \n",
       "Welt-Chronik           0          28           28            1     12   \n",
       "Wirtschaftspolitik     1          96           39            2     55   \n",
       "Österreich-Chronik     1          68           43            0     52   \n",
       "All                    8         615          306           20    570   \n",
       "\n",
       "pol_label           unknown   All  \n",
       "ChannelTopRessort                  \n",
       "(Diverses)              161   444  \n",
       "(Inland)               1789  2125  \n",
       "(International)         158   215  \n",
       "(Panorama)              713   840  \n",
       "Europa                  631   769  \n",
       "Kolumnen                295   347  \n",
       "Kommentare              481   581  \n",
       "Welt-Chronik            226   295  \n",
       "Wirtschaftspolitik      571   764  \n",
       "Österreich-Chronik      567   731  \n",
       "All                    5592  7111  "
      ]
     },
     "execution_count": 7,
     "metadata": {},
     "output_type": "execute_result"
    }
   ],
   "source": [
    "df_full_labeled = df_full\n",
    "df_full_labeled.loc[df_full_labeled.pol_label == 'extremeright', 'pol_label'] = 'right'\n",
    "categories = pd.DataFrame(pd.crosstab(df_full.ChannelTopRessort, df_full.pol_label, margins = True))\n",
    "categories[['left', 'leftcenter', 'leastbiased', 'rightcenter', 'right', 'unknown', 'All']] \n"
   ]
  },
  {
   "cell_type": "code",
   "execution_count": 8,
   "metadata": {},
   "outputs": [
    {
     "data": {
      "text/html": [
       "<div>\n",
       "<style scoped>\n",
       "    .dataframe tbody tr th:only-of-type {\n",
       "        vertical-align: middle;\n",
       "    }\n",
       "\n",
       "    .dataframe tbody tr th {\n",
       "        vertical-align: top;\n",
       "    }\n",
       "\n",
       "    .dataframe thead th {\n",
       "        text-align: right;\n",
       "    }\n",
       "</style>\n",
       "<table border=\"1\" class=\"dataframe\">\n",
       "  <thead>\n",
       "    <tr style=\"text-align: right;\">\n",
       "      <th>pol_label</th>\n",
       "      <th>left</th>\n",
       "      <th>leftcenter</th>\n",
       "      <th>leastbiased</th>\n",
       "      <th>rightcenter</th>\n",
       "      <th>right</th>\n",
       "    </tr>\n",
       "    <tr>\n",
       "      <th>ChannelTopRessort</th>\n",
       "      <th></th>\n",
       "      <th></th>\n",
       "      <th></th>\n",
       "      <th></th>\n",
       "      <th></th>\n",
       "    </tr>\n",
       "  </thead>\n",
       "  <tbody>\n",
       "    <tr>\n",
       "      <th>(Diverses)</th>\n",
       "      <td>0</td>\n",
       "      <td>29</td>\n",
       "      <td>116</td>\n",
       "      <td>14</td>\n",
       "      <td>124</td>\n",
       "    </tr>\n",
       "    <tr>\n",
       "      <th>(Inland)</th>\n",
       "      <td>0</td>\n",
       "      <td>139</td>\n",
       "      <td>26</td>\n",
       "      <td>0</td>\n",
       "      <td>171</td>\n",
       "    </tr>\n",
       "    <tr>\n",
       "      <th>(International)</th>\n",
       "      <td>1</td>\n",
       "      <td>28</td>\n",
       "      <td>3</td>\n",
       "      <td>0</td>\n",
       "      <td>25</td>\n",
       "    </tr>\n",
       "    <tr>\n",
       "      <th>(Panorama)</th>\n",
       "      <td>1</td>\n",
       "      <td>45</td>\n",
       "      <td>19</td>\n",
       "      <td>0</td>\n",
       "      <td>62</td>\n",
       "    </tr>\n",
       "    <tr>\n",
       "      <th>Europa</th>\n",
       "      <td>1</td>\n",
       "      <td>87</td>\n",
       "      <td>24</td>\n",
       "      <td>1</td>\n",
       "      <td>25</td>\n",
       "    </tr>\n",
       "    <tr>\n",
       "      <th>Kolumnen</th>\n",
       "      <td>0</td>\n",
       "      <td>26</td>\n",
       "      <td>0</td>\n",
       "      <td>0</td>\n",
       "      <td>26</td>\n",
       "    </tr>\n",
       "    <tr>\n",
       "      <th>Kommentare</th>\n",
       "      <td>3</td>\n",
       "      <td>69</td>\n",
       "      <td>8</td>\n",
       "      <td>2</td>\n",
       "      <td>18</td>\n",
       "    </tr>\n",
       "    <tr>\n",
       "      <th>Welt-Chronik</th>\n",
       "      <td>0</td>\n",
       "      <td>28</td>\n",
       "      <td>28</td>\n",
       "      <td>1</td>\n",
       "      <td>12</td>\n",
       "    </tr>\n",
       "    <tr>\n",
       "      <th>Wirtschaftspolitik</th>\n",
       "      <td>1</td>\n",
       "      <td>96</td>\n",
       "      <td>39</td>\n",
       "      <td>2</td>\n",
       "      <td>55</td>\n",
       "    </tr>\n",
       "    <tr>\n",
       "      <th>Österreich-Chronik</th>\n",
       "      <td>1</td>\n",
       "      <td>68</td>\n",
       "      <td>43</td>\n",
       "      <td>0</td>\n",
       "      <td>52</td>\n",
       "    </tr>\n",
       "  </tbody>\n",
       "</table>\n",
       "</div>"
      ],
      "text/plain": [
       "pol_label           left  leftcenter  leastbiased  rightcenter  right\n",
       "ChannelTopRessort                                                    \n",
       "(Diverses)             0          29          116           14    124\n",
       "(Inland)               0         139           26            0    171\n",
       "(International)        1          28            3            0     25\n",
       "(Panorama)             1          45           19            0     62\n",
       "Europa                 1          87           24            1     25\n",
       "Kolumnen               0          26            0            0     26\n",
       "Kommentare             3          69            8            2     18\n",
       "Welt-Chronik           0          28           28            1     12\n",
       "Wirtschaftspolitik     1          96           39            2     55\n",
       "Österreich-Chronik     1          68           43            0     52"
      ]
     },
     "execution_count": 8,
     "metadata": {},
     "output_type": "execute_result"
    }
   ],
   "source": [
    "df_full_labeled = df_full.loc[df_full.pol_label != 'unknown',]\n",
    "df_full_labeled.loc[df_full_labeled.pol_label == 'extremeright', 'pol_label'] = 'right'\n",
    "cross_df = pd.DataFrame(pd.crosstab(df_full_labeled.ChannelTopRessort, df_full_labeled.pol_label))\n",
    "cross_df = cross_df[['left', 'leftcenter', 'leastbiased', 'rightcenter', 'right']]\n",
    "cross_df\n",
    "#cross_df_values = cross_df.values.tolist()\n",
    "#cross_df.index\n",
    "#cross_df.columns\n",
    "#cross_df[['left', 'leftcenter', 'leastbiased', 'rightcenter', 'right', 'extremeright', 'unknown']]"
   ]
  },
  {
   "cell_type": "code",
   "execution_count": null,
   "metadata": {},
   "outputs": [],
   "source": []
  },
  {
   "cell_type": "code",
   "execution_count": 9,
   "metadata": {},
   "outputs": [
    {
     "data": {
      "text/html": [
       "<div>\n",
       "<style scoped>\n",
       "    .dataframe tbody tr th:only-of-type {\n",
       "        vertical-align: middle;\n",
       "    }\n",
       "\n",
       "    .dataframe tbody tr th {\n",
       "        vertical-align: top;\n",
       "    }\n",
       "\n",
       "    .dataframe thead th {\n",
       "        text-align: right;\n",
       "    }\n",
       "</style>\n",
       "<table border=\"1\" class=\"dataframe\">\n",
       "  <thead>\n",
       "    <tr style=\"text-align: right;\">\n",
       "      <th>pol_label</th>\n",
       "      <th>leastbiased</th>\n",
       "      <th>left</th>\n",
       "      <th>leftcenter</th>\n",
       "      <th>right</th>\n",
       "      <th>rightcenter</th>\n",
       "      <th>unknown</th>\n",
       "    </tr>\n",
       "    <tr>\n",
       "      <th>ChannelTopRessort</th>\n",
       "      <th></th>\n",
       "      <th></th>\n",
       "      <th></th>\n",
       "      <th></th>\n",
       "      <th></th>\n",
       "      <th></th>\n",
       "    </tr>\n",
       "  </thead>\n",
       "  <tbody>\n",
       "    <tr>\n",
       "      <th>(Diverses)</th>\n",
       "      <td>0.261261</td>\n",
       "      <td>0.000000</td>\n",
       "      <td>0.065315</td>\n",
       "      <td>0.279279</td>\n",
       "      <td>0.031532</td>\n",
       "      <td>0.362613</td>\n",
       "    </tr>\n",
       "    <tr>\n",
       "      <th>(Inland)</th>\n",
       "      <td>0.012235</td>\n",
       "      <td>0.000000</td>\n",
       "      <td>0.065412</td>\n",
       "      <td>0.080471</td>\n",
       "      <td>0.000000</td>\n",
       "      <td>0.841882</td>\n",
       "    </tr>\n",
       "    <tr>\n",
       "      <th>(International)</th>\n",
       "      <td>0.013953</td>\n",
       "      <td>0.004651</td>\n",
       "      <td>0.130233</td>\n",
       "      <td>0.116279</td>\n",
       "      <td>0.000000</td>\n",
       "      <td>0.734884</td>\n",
       "    </tr>\n",
       "    <tr>\n",
       "      <th>(Panorama)</th>\n",
       "      <td>0.022619</td>\n",
       "      <td>0.001190</td>\n",
       "      <td>0.053571</td>\n",
       "      <td>0.073810</td>\n",
       "      <td>0.000000</td>\n",
       "      <td>0.848810</td>\n",
       "    </tr>\n",
       "    <tr>\n",
       "      <th>Europa</th>\n",
       "      <td>0.031209</td>\n",
       "      <td>0.001300</td>\n",
       "      <td>0.113134</td>\n",
       "      <td>0.032510</td>\n",
       "      <td>0.001300</td>\n",
       "      <td>0.820546</td>\n",
       "    </tr>\n",
       "    <tr>\n",
       "      <th>Kolumnen</th>\n",
       "      <td>0.000000</td>\n",
       "      <td>0.000000</td>\n",
       "      <td>0.074928</td>\n",
       "      <td>0.074928</td>\n",
       "      <td>0.000000</td>\n",
       "      <td>0.850144</td>\n",
       "    </tr>\n",
       "    <tr>\n",
       "      <th>Kommentare</th>\n",
       "      <td>0.013769</td>\n",
       "      <td>0.005164</td>\n",
       "      <td>0.118761</td>\n",
       "      <td>0.030981</td>\n",
       "      <td>0.003442</td>\n",
       "      <td>0.827883</td>\n",
       "    </tr>\n",
       "    <tr>\n",
       "      <th>Welt-Chronik</th>\n",
       "      <td>0.094915</td>\n",
       "      <td>0.000000</td>\n",
       "      <td>0.094915</td>\n",
       "      <td>0.040678</td>\n",
       "      <td>0.003390</td>\n",
       "      <td>0.766102</td>\n",
       "    </tr>\n",
       "    <tr>\n",
       "      <th>Wirtschaftspolitik</th>\n",
       "      <td>0.051047</td>\n",
       "      <td>0.001309</td>\n",
       "      <td>0.125654</td>\n",
       "      <td>0.071990</td>\n",
       "      <td>0.002618</td>\n",
       "      <td>0.747382</td>\n",
       "    </tr>\n",
       "    <tr>\n",
       "      <th>Österreich-Chronik</th>\n",
       "      <td>0.058824</td>\n",
       "      <td>0.001368</td>\n",
       "      <td>0.093023</td>\n",
       "      <td>0.071135</td>\n",
       "      <td>0.000000</td>\n",
       "      <td>0.775650</td>\n",
       "    </tr>\n",
       "    <tr>\n",
       "      <th>All</th>\n",
       "      <td>0.043032</td>\n",
       "      <td>0.001125</td>\n",
       "      <td>0.086486</td>\n",
       "      <td>0.080158</td>\n",
       "      <td>0.002813</td>\n",
       "      <td>0.786387</td>\n",
       "    </tr>\n",
       "  </tbody>\n",
       "</table>\n",
       "</div>"
      ],
      "text/plain": [
       "pol_label           leastbiased      left  leftcenter     right  rightcenter  \\\n",
       "ChannelTopRessort                                                              \n",
       "(Diverses)             0.261261  0.000000    0.065315  0.279279     0.031532   \n",
       "(Inland)               0.012235  0.000000    0.065412  0.080471     0.000000   \n",
       "(International)        0.013953  0.004651    0.130233  0.116279     0.000000   \n",
       "(Panorama)             0.022619  0.001190    0.053571  0.073810     0.000000   \n",
       "Europa                 0.031209  0.001300    0.113134  0.032510     0.001300   \n",
       "Kolumnen               0.000000  0.000000    0.074928  0.074928     0.000000   \n",
       "Kommentare             0.013769  0.005164    0.118761  0.030981     0.003442   \n",
       "Welt-Chronik           0.094915  0.000000    0.094915  0.040678     0.003390   \n",
       "Wirtschaftspolitik     0.051047  0.001309    0.125654  0.071990     0.002618   \n",
       "Österreich-Chronik     0.058824  0.001368    0.093023  0.071135     0.000000   \n",
       "All                    0.043032  0.001125    0.086486  0.080158     0.002813   \n",
       "\n",
       "pol_label            unknown  \n",
       "ChannelTopRessort             \n",
       "(Diverses)          0.362613  \n",
       "(Inland)            0.841882  \n",
       "(International)     0.734884  \n",
       "(Panorama)          0.848810  \n",
       "Europa              0.820546  \n",
       "Kolumnen            0.850144  \n",
       "Kommentare          0.827883  \n",
       "Welt-Chronik        0.766102  \n",
       "Wirtschaftspolitik  0.747382  \n",
       "Österreich-Chronik  0.775650  \n",
       "All                 0.786387  "
      ]
     },
     "execution_count": 9,
     "metadata": {},
     "output_type": "execute_result"
    }
   ],
   "source": [
    "pd.crosstab(df_full.ChannelTopRessort, df_full.pol_label, normalize='index', margins=True)"
   ]
  },
  {
   "cell_type": "code",
   "execution_count": 10,
   "metadata": {},
   "outputs": [
    {
     "data": {
      "image/png": "[encoded data removed]",
      "text/plain": [
       "<Figure size 1000x500 with 1 Axes>"
      ]
     },
     "metadata": {},
     "output_type": "display_data"
    }
   ],
   "source": [
    "import numpy as np\n",
    "import matplotlib.pyplot as plt\n",
    "\n",
    "\n",
    "categories = ['Diverse',\n",
    "'Inland',\n",
    "'International',\n",
    "'Panorama',\n",
    "'Europe',\n",
    "'Columns',\n",
    "'Commentary',\n",
    "'World Chronicle',\n",
    "'Economic Policy',\n",
    "'Austria Chronicle']\n",
    "\n",
    "\n",
    "def survey(results, category_names, row_names):\n",
    "    \"\"\"\n",
    "    Parameters\n",
    "    ----------\n",
    "    results : dict\n",
    "        A mapping from question labels to a list of answers per category.\n",
    "        It is assumed all lists contain the same number of entries and that\n",
    "        it matches the length of *category_names*. The order is assumed\n",
    "        to be from 'Strongly disagree' to 'Strongly aisagree'\n",
    "    category_names : list of str\n",
    "        The category labels.\n",
    "    \"\"\"\n",
    "    \n",
    "    labels = row_names\n",
    "    data = np.array(results.values.tolist())\n",
    "    #print(data)\n",
    "    data_cum = data.cumsum(axis=1)\n",
    "    middle_index = data.shape[1]//2\n",
    "    offsets = data[:, range(middle_index)].sum(axis=1) + data[:, middle_index]/2\n",
    "    \n",
    "    # Color Mapping\n",
    "    category_colors = plt.get_cmap('coolwarm_r')(\n",
    "        np.linspace(0.15, 0.85, data.shape[1]))\n",
    "    \n",
    "    fig, ax = plt.subplots(figsize=(10, 5))\n",
    "    \n",
    "    # Plot Bars\n",
    "    for i, (colname, color) in enumerate(zip(category_names, category_colors)):\n",
    "        widths = data[:, i]\n",
    "        starts = data_cum[:, i] - widths - offsets\n",
    "        rects = ax.barh(labels, widths, left=starts, height=0.5,\n",
    "                        label=colname, color=color)\n",
    "    \n",
    "    # Add Zero Reference Line\n",
    "    ax.axvline(0, linestyle='--', color='black', alpha=.25)\n",
    "    \n",
    "    # X Axis\n",
    "    ax.set_xlim(-170, 210)\n",
    "    ax.set_xticks(np.arange(-170, 211, 20))\n",
    "    ax.xaxis.set_major_formatter(lambda x, pos: str(abs(int(x))))\n",
    "    \n",
    "    # Y Axis\n",
    "    ax.invert_yaxis()\n",
    "    \n",
    "    # Remove spines\n",
    "    ax.spines['right'].set_visible(False)\n",
    "    ax.spines['top'].set_visible(False)\n",
    "    ax.spines['left'].set_visible(False)\n",
    "    \n",
    "    # Ledgend\n",
    "    ax.legend(ncol=len(category_names), bbox_to_anchor=(0, 1),\n",
    "              loc='lower left', fontsize='small')\n",
    "    \n",
    "    # Set Background Color\n",
    "    fig.set_facecolor('#FFFFFF')\n",
    "\n",
    "    return fig, ax\n",
    "\n",
    "\n",
    "fig, ax = survey(cross_df, cross_df.columns, categories)\n",
    "\n",
    "plt.show()"
   ]
  },
  {
   "cell_type": "code",
   "execution_count": 206,
   "metadata": {},
   "outputs": [
    {
     "data": {
      "text/html": [
       "<div>\n",
       "<style scoped>\n",
       "    .dataframe tbody tr th:only-of-type {\n",
       "        vertical-align: middle;\n",
       "    }\n",
       "\n",
       "    .dataframe tbody tr th {\n",
       "        vertical-align: top;\n",
       "    }\n",
       "\n",
       "    .dataframe thead th {\n",
       "        text-align: right;\n",
       "    }\n",
       "</style>\n",
       "<table border=\"1\" class=\"dataframe\">\n",
       "  <thead>\n",
       "    <tr style=\"text-align: right;\">\n",
       "      <th></th>\n",
       "      <th>document_id</th>\n",
       "      <th>pol_label</th>\n",
       "      <th>pol_score</th>\n",
       "    </tr>\n",
       "  </thead>\n",
       "  <tbody>\n",
       "    <tr>\n",
       "      <th>513</th>\n",
       "      <td>2000123568600</td>\n",
       "      <td>extremeright</td>\n",
       "      <td>0.432725</td>\n",
       "    </tr>\n",
       "  </tbody>\n",
       "</table>\n",
       "</div>"
      ],
      "text/plain": [
       "       document_id     pol_label  pol_score\n",
       "513  2000123568600  extremeright   0.432725"
      ]
     },
     "execution_count": 206,
     "metadata": {},
     "output_type": "execute_result"
    }
   ],
   "source": [
    "political_lean_df.loc[political_lean_df.pol_label == 'extremeright']\n"
   ]
  },
  {
   "cell_type": "code",
   "execution_count": 207,
   "metadata": {},
   "outputs": [
    {
     "name": "stdout",
     "output_type": "stream",
     "text": [
      "1751687    /2000123568600/Suedtirol-stellt-sich-die-Coron...\n",
      "Name: url, dtype: object\n"
     ]
    }
   ],
   "source": [
    "pd.set_option(\"display.max_rows\", None)\n",
    "pd.set_option(\"display.max_columns\", None)\n",
    "print(df_content_art.loc[df_content_art.ID_GodotObject == 2000123568600,].url)"
   ]
  },
  {
   "cell_type": "code",
   "execution_count": 176,
   "metadata": {},
   "outputs": [],
   "source": [
    "pred_class = classifier(translated)"
   ]
  },
  {
   "cell_type": "code",
   "execution_count": 106,
   "metadata": {},
   "outputs": [
    {
     "data": {
      "text/plain": [
       "'Der erste große Kollektivvertrag im Sozialbereich wurde am Dienstag von Caritas und Gewerkschaft unterzeichnet. Für Caritas-Präsident Franz Küberl handelt es sich bei diesem Vertrag um einen \"Meilenstein\" mit Signalwirkung für alle sozialen Organisationen und Einrichtungen. Die wesentlichen Errungenschaften für die 6.500 Mitarbeiter der Caritas-Organisationen sind flachere Gehaltskurven mit höheren Einstiegsgehältern, die 37,5-Stunden Woche und flexiblere Arbeitszeiten.  In über 70 Verhandlungsrunden wurde ein Kollektivvertrag ausgehandelt, der sowohl die Bedürfnisse der betreuten Menschen als auch familienfreundliche Lösungen für die MitarbeiterInnen im Auge habe, erklärte Raimund Badelt, Generalsekretär der Caritas Wien und Chefverhandler der Caritas, anlässlich der feierlichen Vertragsunterzeichnung. Aber auch die Gewerkschaft ist über den neuen Kollektivvertrag erfreut. \"Der vorliegende Vertrag ist ein hervorragendes Beispiel für eine aktiv gelebte Sozialpartnerschaft. Das ist in Zeiten, in denen dieses österreichische Erfolgsmodell von vielen zur Disposition gestellt wird, ein wichtiges Signal\", erklärte Hans Sallmutter, Vorsitzender der Gewerkschaft für Privatangestellte (GPA). Verantwortungsvoll mit Menschen umgehen  Die 37,5-Stunden Woche sei ein gutes Beispiel dafür, dass die Caritas mit den Ressourcen der Menschen verantwortungsvoll umgehe, stellte Sallmutter fest. Überhaupt sieht Sallmutter zwischen der Gewerkschaft und der Caritas in ihren Bemühungen um Menschen große Gemeinsamkeiten.  Die flacheren Gehaltskurven, das heißt höhere Einstiegsgehälter, und damit mehr Geld in Zeiten der Familiengründung, setzen laut Präsident Küberl positive Trends in der modernen Sozialpolitik. Außerdem wäre der Caritas jede Arbeit gleich viel wert: Alle Bereiche der Caritas - in der Behindertenarbeit, in der Ausländerberatung oder für alte Menschen - alle Bereiche seien finanziell gleich gestellt. Weiterbildungsmaßnahmen und Sabbatical von sechs Monaten (nach 4,5 Jahren'"
      ]
     },
     "execution_count": 106,
     "metadata": {},
     "output_type": "execute_result"
    }
   ],
   "source": [
    "with open(\"output.bin\", \"rb\") as data:\n",
    "    political_articles = pickle.load(data)"
   ]
  },
  {
   "cell_type": "code",
   "execution_count": null,
   "metadata": {},
   "outputs": [],
   "source": []
  }
 ],
 "metadata": {
  "interpreter": {
   "hash": "51ff47f0dacf2fb2da9303db8ac9b14c37317ddba727b462e1272899e66bda23"
  },
  "kernelspec": {
   "display_name": "Python 3.9.13 ('Blake_Thesis')",
   "language": "python",
   "name": "python3"
  },
  "language_info": {
   "codemirror_mode": {
    "name": "ipython",
    "version": 3
   },
   "file_extension": ".py",
   "mimetype": "text/x-python",
   "name": "python",
   "nbconvert_exporter": "python",
   "pygments_lexer": "ipython3",
   "version": "3.9.13"
  },
  "orig_nbformat": 4
 },
 "nbformat": 4,
 "nbformat_minor": 2
}
