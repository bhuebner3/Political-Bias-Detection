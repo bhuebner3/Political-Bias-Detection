{
 "cells": [
  {
   "cell_type": "code",
   "execution_count": 6,
   "metadata": {},
   "outputs": [],
   "source": [
    "import sqlalchemy as db\n",
    "import pandas as pd"
   ]
  },
  {
   "cell_type": "code",
   "execution_count": 7,
   "metadata": {},
   "outputs": [],
   "source": [
    "database= 'Standard--TU_Export-25112021'\n",
    "server = 'SI\\MSSQLSERVERSSD'\n",
    "\n",
    "SCHEMA_NAME = \"schema_name\"\n",
    "\n",
    "url = 'mssql+pyodbc://@' + server + '/' + database + '?trusted_connection=yes&driver=ODBC+Driver+17+for+SQL+Server'\n",
    "engine = db.create_engine(url)#, echo=True)\n",
    "\n",
    "connection = engine.connect()\n",
    "metadata = db.MetaData()"
   ]
  },
  {
   "cell_type": "code",
   "execution_count": 8,
   "metadata": {},
   "outputs": [],
   "source": [
    "def make_table(query):\n",
    "    ResultProxy = connection.execute(query)\n",
    "    ResultSet = ResultProxy.fetchall()\n",
    "    df_temp = pd.DataFrame(ResultSet)\n",
    "    df_temp.columns = ResultSet[0].keys()\n",
    "    return(df_temp)"
   ]
  },
  {
   "cell_type": "code",
   "execution_count": null,
   "metadata": {},
   "outputs": [
    {
     "data": {
      "text/plain": [
       "(10958, 24)"
      ]
     },
     "execution_count": 4,
     "metadata": {},
     "output_type": "execute_result"
    }
   ],
   "source": [
    "data_table = db.Table('Calendar', metadata, autoload=True, autoload_with=engine)\n",
    "query = db.select([data_table])\n",
    "\n",
    "df_calendar = make_table(query)\n",
    "df_calendar.shape"
   ]
  },
  {
   "cell_type": "code",
   "execution_count": null,
   "metadata": {},
   "outputs": [],
   "source": [
    "df_calendar.to_pickle(\"df_calendar.pkl\")"
   ]
  },
  {
   "cell_type": "code",
   "execution_count": null,
   "metadata": {},
   "outputs": [
    {
     "data": {
      "text/plain": [
       "(858926, 4)"
      ]
     },
     "execution_count": 9,
     "metadata": {},
     "output_type": "execute_result"
    }
   ],
   "source": [
    "data_table = db.Table('User', metadata, autoload=True, autoload_with=engine)\n",
    "query = db.select([data_table])\n",
    "\n",
    "df_user = make_table(query)\n",
    "df_user.shape"
   ]
  },
  {
   "cell_type": "code",
   "execution_count": null,
   "metadata": {},
   "outputs": [],
   "source": [
    "df_user.to_pickle(\"df_user.pkl\")"
   ]
  },
  {
   "cell_type": "code",
   "execution_count": 9,
   "metadata": {},
   "outputs": [
    {
     "data": {
      "text/plain": [
       "(8540202, 23)"
      ]
     },
     "execution_count": 9,
     "metadata": {},
     "output_type": "execute_result"
    }
   ],
   "source": [
    "data_table = db.Table('FactClicks', metadata, autoload=True, autoload_with=engine)\n",
    "#query = db.select([data_table]).where(data_table.c.ID_Day == 7984).where(data_table.c.TimeOnPageMsec == 0).where(data_table.c.IsBounce == False).where(data_table.c.IsExit == False)\n",
    "query = db.select([data_table]).where(data_table.c.ID_Day == 7984)\n",
    "\n",
    "df_clicks = make_table(query)\n",
    "df_clicks.shape"
   ]
  },
  {
   "cell_type": "code",
   "execution_count": 11,
   "metadata": {},
   "outputs": [
    {
     "data": {
      "text/plain": [
       "False    5654079\n",
       "True     2886123\n",
       "Name: IsUser, dtype: int64"
      ]
     },
     "execution_count": 11,
     "metadata": {},
     "output_type": "execute_result"
    }
   ],
   "source": [
    "pd.crosstab"
   ]
  },
  {
   "cell_type": "code",
   "execution_count": 10,
   "metadata": {},
   "outputs": [],
   "source": [
    "df_clicks.to_pickle(\"df_clicks_7984.pkl\")"
   ]
  },
  {
   "cell_type": "code",
   "execution_count": 5,
   "metadata": {},
   "outputs": [
    {
     "data": {
      "text/plain": [
       "(51858842, 23)"
      ]
     },
     "execution_count": 5,
     "metadata": {},
     "output_type": "execute_result"
    }
   ],
   "source": [
    "data_table = db.Table('FactClicks', metadata, autoload=True, autoload_with=engine)\n",
    "query = db.select([data_table]).where(data_table.c.ID_Day >= 7978)\n",
    "\n",
    "df_clicks = make_table(query)\n",
    "df_clicks.shape"
   ]
  },
  {
   "cell_type": "code",
   "execution_count": null,
   "metadata": {},
   "outputs": [],
   "source": [
    "df_clicks.to_pickle(\"df_clicks_7978_7984.pkl\")"
   ]
  },
  {
   "cell_type": "code",
   "execution_count": 4,
   "metadata": {},
   "outputs": [
    {
     "data": {
      "text/plain": [
       "(47664284, 23)"
      ]
     },
     "execution_count": 4,
     "metadata": {},
     "output_type": "execute_result"
    }
   ],
   "source": [
    "data_table = db.Table('FactClicks', metadata, autoload=True, autoload_with=engine)\n",
    "query = db.select([data_table]).where(data_table.c.ID_Day > 7954).where(data_table.c.TimeOnPageMsec > 0).where(data_table.c.IsUser == True).where(data_table.c.SID_Content != 3366444).where(data_table.c.SID_Content != 1308625)\n",
    "\n",
    "df_clicks = make_table(query)\n",
    "df_clicks.shape"
   ]
  },
  {
   "cell_type": "code",
   "execution_count": 5,
   "metadata": {},
   "outputs": [],
   "source": [
    "df_clicks.to_pickle(\"df_clicks_clean_7955_7984.pkl\")"
   ]
  },
  {
   "cell_type": "code",
   "execution_count": null,
   "metadata": {},
   "outputs": [
    {
     "data": {
      "text/plain": [
       "(151272, 13)"
      ]
     },
     "execution_count": 22,
     "metadata": {},
     "output_type": "execute_result"
    }
   ],
   "source": [
    "data_table = db.Table('DimGeo', metadata, autoload=True, autoload_with=engine)\n",
    "#query = db.select([data_table]).where(data_table.c.SID_Geo == 2761369)\n",
    "query = db.select([data_table])\n",
    "\n",
    "df_geo = make_table(query)\n",
    "df_geo.shape"
   ]
  },
  {
   "cell_type": "code",
   "execution_count": null,
   "metadata": {},
   "outputs": [],
   "source": [
    "df_geo.to_pickle(\"df_geo.pkl\")"
   ]
  },
  {
   "cell_type": "code",
   "execution_count": null,
   "metadata": {},
   "outputs": [
    {
     "data": {
      "text/plain": [
       "(1558554, 17)"
      ]
     },
     "execution_count": 15,
     "metadata": {},
     "output_type": "execute_result"
    }
   ],
   "source": [
    "data_table = db.Table('DimContentDetails', metadata, autoload=True, autoload_with=engine)\n",
    "#query = db.select([data_table]).where(data_table.c.SID_Content == 3366444)\n",
    "query = db.select([data_table])\n",
    "df_dim_content = make_table(query)\n",
    "df_dim_content.shape\n"
   ]
  },
  {
   "cell_type": "code",
   "execution_count": null,
   "metadata": {},
   "outputs": [
    {
     "data": {
      "text/plain": [
       "(1801733, 18)"
      ]
     },
     "execution_count": 4,
     "metadata": {},
     "output_type": "execute_result"
    }
   ],
   "source": [
    "data_table = db.Table('Content', metadata, autoload=True, autoload_with=engine)\n",
    "#query = db.select([data_table]).where(data_table.c.SID_Content == 3366444)\n",
    "query = db.select([data_table])\n",
    "df_content = make_table(query)\n",
    "df_content.shape"
   ]
  },
  {
   "cell_type": "code",
   "execution_count": null,
   "metadata": {},
   "outputs": [],
   "source": [
    "df_content.to_pickle(\"df_content.pkl\")"
   ]
  },
  {
   "cell_type": "code",
   "execution_count": null,
   "metadata": {},
   "outputs": [
    {
     "data": {
      "text/plain": [
       "(1789210, 3)"
      ]
     },
     "execution_count": 6,
     "metadata": {},
     "output_type": "execute_result"
    }
   ],
   "source": [
    "data_table = db.Table('ContentArtikel', metadata, autoload=True, autoload_with=engine)\n",
    "#query = db.select([data_table]).where(data_table.c.SID_Content == 3366444)\n",
    "query = db.select([data_table])\n",
    "df_content_art = make_table(query)\n",
    "df_content_art.shape"
   ]
  },
  {
   "cell_type": "code",
   "execution_count": 1,
   "metadata": {},
   "outputs": [
    {
     "ename": "NameError",
     "evalue": "name 'df_content_art' is not defined",
     "output_type": "error",
     "traceback": [
      "\u001b[1;31m---------------------------------------------------------------------------\u001b[0m",
      "\u001b[1;31mNameError\u001b[0m                                 Traceback (most recent call last)",
      "Cell \u001b[1;32mIn [1], line 1\u001b[0m\n\u001b[1;32m----> 1\u001b[0m \u001b[43mdf_content_art\u001b[49m\u001b[38;5;241m.\u001b[39mto_pickle(\u001b[38;5;124m\"\u001b[39m\u001b[38;5;124mdf_content_art.pkl\u001b[39m\u001b[38;5;124m\"\u001b[39m)\n",
      "\u001b[1;31mNameError\u001b[0m: name 'df_content_art' is not defined"
     ]
    }
   ],
   "source": [
    "df_content_art.to_pickle(\"df_content_art.pkl\")"
   ]
  },
  {
   "cell_type": "code",
   "execution_count": 11,
   "metadata": {},
   "outputs": [],
   "source": [
    "data_table = db.Table('ContentArtikel', metadata, autoload=True, autoload_with=engine)\n",
    "#query = db.select([data_table]).where(data_table.c.SID_Content == 3366444)\n",
    "query = db.select([data_table])\n",
    "ResultProxy = connection.execute(query)\n",
    "ResultSet = ResultProxy.fetchall()"
   ]
  },
  {
   "cell_type": "code",
   "execution_count": null,
   "metadata": {},
   "outputs": [],
   "source": [
    "# First create the German version (original)"
   ]
  },
  {
   "cell_type": "code",
   "execution_count": 12,
   "metadata": {},
   "outputs": [],
   "source": [
    "import xml.etree.ElementTree as ET\n",
    "def extract_features(data_list):\n",
    "    features_list = []\n",
    "    for document_id, xml_string, url in data_list:\n",
    "        root = ET.fromstring(xml_string)\n",
    "        publishing_date = root.attrib['publishingDate']\n",
    "        title_find = root.find('./title')\n",
    "        if title_find is not None:\n",
    "            title = title_find.text\n",
    "        else:\n",
    "            title = \"\"   \n",
    "        lead_title_find = root.find('./leadTitle')\n",
    "        if lead_title_find is not None:\n",
    "            lead_title = lead_title_find.text\n",
    "        else:\n",
    "            lead_title = \"\"\n",
    "        text_find = root.find('./text/page/text')\n",
    "        if text_find is not None:\n",
    "            text = str(text_find.text).replace('\\n', ' ')\n",
    "        else:\n",
    "            text = \"\"\n",
    "        features = {'document_id': document_id, 'publishing_date': publishing_date, 'title': title, 'lead_title': lead_title, 'text': text, 'url': url}\n",
    "        features_list.append(features)\n",
    "  \n",
    "    return features_list\n"
   ]
  },
  {
   "cell_type": "code",
   "execution_count": 13,
   "metadata": {},
   "outputs": [],
   "source": [
    "article_text = extract_features(ResultSet[1500000:])"
   ]
  },
  {
   "cell_type": "code",
   "execution_count": null,
   "metadata": {},
   "outputs": [],
   "source": [
    "import json\n",
    "with open(\"article_text.json\", \"w\") as outfile:\n",
    "    json.dump(article_text, outfile)\n"
   ]
  },
  {
   "cell_type": "code",
   "execution_count": 4,
   "metadata": {},
   "outputs": [
    {
     "data": {
      "text/plain": [
       "(1558554, 17)"
      ]
     },
     "execution_count": 4,
     "metadata": {},
     "output_type": "execute_result"
    }
   ],
   "source": [
    "data_table = db.Table('DimContentDetails', metadata, autoload=True, autoload_with=engine)\n",
    "query = db.select([data_table])\n",
    "df_dimcontent = make_table(query)\n",
    "df_dimcontent.shape"
   ]
  },
  {
   "cell_type": "code",
   "execution_count": 5,
   "metadata": {},
   "outputs": [],
   "source": [
    "df_dimcontent.to_pickle(\"df_dimcontent.pkl\")"
   ]
  },
  {
   "cell_type": "code",
   "execution_count": 15,
   "metadata": {},
   "outputs": [
    {
     "data": {
      "text/plain": [
       "(7063, '<document id=\"7063\" homeRessortId=\"137\" publishingDate=\"1998-12-28T12:50:00Z\" endDate=\"1998-12-28T12:50:00Z\" biObjectId=\"1\" source=\"Redaktion\" author ... (3862 characters truncated) ... ;p&gt;\\n</text></page></text><infobox xmlns:xsd=\"http://www.w3.org/2001/XMLSchema\" xmlns:xsi=\"http://www.w3.org/2001/XMLSchema-instance\"/></document>', '/7063/Die-Freuden-der-Premiere---Meldung-ist-nur-geparkt')"
      ]
     },
     "execution_count": 15,
     "metadata": {},
     "output_type": "execute_result"
    }
   ],
   "source": [
    "ResultSet[0]"
   ]
  },
  {
   "cell_type": "code",
   "execution_count": null,
   "metadata": {},
   "outputs": [],
   "source": []
  },
  {
   "cell_type": "code",
   "execution_count": null,
   "metadata": {},
   "outputs": [],
   "source": []
  },
  {
   "cell_type": "code",
   "execution_count": null,
   "metadata": {},
   "outputs": [],
   "source": []
  },
  {
   "cell_type": "code",
   "execution_count": null,
   "metadata": {},
   "outputs": [],
   "source": []
  },
  {
   "cell_type": "code",
   "execution_count": null,
   "metadata": {},
   "outputs": [],
   "source": []
  }
 ],
 "metadata": {
  "interpreter": {
   "hash": "51ff47f0dacf2fb2da9303db8ac9b14c37317ddba727b462e1272899e66bda23"
  },
  "kernelspec": {
   "display_name": "Python 3.9.13 ('Blake_Thesis')",
   "language": "python",
   "name": "python3"
  },
  "language_info": {
   "codemirror_mode": {
    "name": "ipython",
    "version": 3
   },
   "file_extension": ".py",
   "mimetype": "text/x-python",
   "name": "python",
   "nbconvert_exporter": "python",
   "pygments_lexer": "ipython3",
   "version": "3.9.13"
  },
  "orig_nbformat": 4
 },
 "nbformat": 4,
 "nbformat_minor": 2
}
