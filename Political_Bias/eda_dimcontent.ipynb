{
 "cells": [
  {
   "cell_type": "code",
   "execution_count": 1,
   "metadata": {},
   "outputs": [],
   "source": [
    "import pandas as pd"
   ]
  },
  {
   "cell_type": "code",
   "execution_count": 2,
   "metadata": {},
   "outputs": [],
   "source": [
    "df_dimcontent = pd.read_pickle(\"df_dimcontent.pkl\")"
   ]
  },
  {
   "cell_type": "code",
   "execution_count": 3,
   "metadata": {},
   "outputs": [
    {
     "data": {
      "text/html": [
       "<div>\n",
       "<style scoped>\n",
       "    .dataframe tbody tr th:only-of-type {\n",
       "        vertical-align: middle;\n",
       "    }\n",
       "\n",
       "    .dataframe tbody tr th {\n",
       "        vertical-align: top;\n",
       "    }\n",
       "\n",
       "    .dataframe thead th {\n",
       "        text-align: right;\n",
       "    }\n",
       "</style>\n",
       "<table border=\"1\" class=\"dataframe\">\n",
       "  <thead>\n",
       "    <tr style=\"text-align: right;\">\n",
       "      <th></th>\n",
       "      <th>SID_Content</th>\n",
       "      <th>ID_GodotObject</th>\n",
       "      <th>ObjectType</th>\n",
       "      <th>IsRessort</th>\n",
       "      <th>RessortName</th>\n",
       "      <th>cp</th>\n",
       "      <th>Channel</th>\n",
       "      <th>ChannelTopRessort</th>\n",
       "      <th>Produkt</th>\n",
       "      <th>Description</th>\n",
       "      <th>Source</th>\n",
       "      <th>SourceCategory</th>\n",
       "      <th>ID_Day</th>\n",
       "      <th>ID_Time</th>\n",
       "      <th>template</th>\n",
       "      <th>RessortType</th>\n",
       "      <th>Status</th>\n",
       "    </tr>\n",
       "  </thead>\n",
       "  <tbody>\n",
       "    <tr>\n",
       "      <th>0</th>\n",
       "      <td>48</td>\n",
       "      <td>1932</td>\n",
       "      <td>Ressort</td>\n",
       "      <td>True</td>\n",
       "      <td>Newsroom</td>\n",
       "      <td>Newsroom</td>\n",
       "      <td>N/A</td>\n",
       "      <td>None</td>\n",
       "      <td>Redaktion</td>\n",
       "      <td>/r1932 Newsroom</td>\n",
       "      <td>N/A</td>\n",
       "      <td>N/A</td>\n",
       "      <td>NaN</td>\n",
       "      <td>NaN</td>\n",
       "      <td>None</td>\n",
       "      <td>Ressort</td>\n",
       "      <td>Online</td>\n",
       "    </tr>\n",
       "    <tr>\n",
       "      <th>1</th>\n",
       "      <td>410</td>\n",
       "      <td>2915388</td>\n",
       "      <td>Artikel</td>\n",
       "      <td>False</td>\n",
       "      <td>Abtreibung</td>\n",
       "      <td>dieStandard/Geschlechterpolitik/Abtreibung</td>\n",
       "      <td>dieStandard</td>\n",
       "      <td>Geschlechterpolitik</td>\n",
       "      <td>Redaktion</td>\n",
       "      <td>/2915388 Abbrüche in Deutschland rückgängig</td>\n",
       "      <td>Redaktion</td>\n",
       "      <td>Online only</td>\n",
       "      <td>2762.0</td>\n",
       "      <td>846.0</td>\n",
       "      <td>None</td>\n",
       "      <td>N/A</td>\n",
       "      <td>Online</td>\n",
       "    </tr>\n",
       "    <tr>\n",
       "      <th>2</th>\n",
       "      <td>411</td>\n",
       "      <td>2915480</td>\n",
       "      <td>Artikel</td>\n",
       "      <td>False</td>\n",
       "      <td>Spurensuche</td>\n",
       "      <td>dieStandard/diealltag/Spurensuche</td>\n",
       "      <td>dieStandard</td>\n",
       "      <td>Alltag</td>\n",
       "      <td>Redaktion</td>\n",
       "      <td>/2915480 &lt;b&gt;Ausstellung:&lt;/b&gt; 100.000 Jahre Sex</td>\n",
       "      <td>Redaktion</td>\n",
       "      <td>Online only</td>\n",
       "      <td>2725.0</td>\n",
       "      <td>763.0</td>\n",
       "      <td>None</td>\n",
       "      <td>N/A</td>\n",
       "      <td>Online</td>\n",
       "    </tr>\n",
       "    <tr>\n",
       "      <th>3</th>\n",
       "      <td>412</td>\n",
       "      <td>2915586</td>\n",
       "      <td>Artikel</td>\n",
       "      <td>False</td>\n",
       "      <td>Forschung &amp; Geschlecht</td>\n",
       "      <td>dieStandard/diewissenschaft</td>\n",
       "      <td>dieStandard</td>\n",
       "      <td>(dieStandard)</td>\n",
       "      <td>Redaktion</td>\n",
       "      <td>/2915586 Neues Medikament gegen Osteoporose</td>\n",
       "      <td>APA</td>\n",
       "      <td>Agentur</td>\n",
       "      <td>2742.0</td>\n",
       "      <td>1136.0</td>\n",
       "      <td>None</td>\n",
       "      <td>N/A</td>\n",
       "      <td>Online</td>\n",
       "    </tr>\n",
       "    <tr>\n",
       "      <th>4</th>\n",
       "      <td>413</td>\n",
       "      <td>2915664</td>\n",
       "      <td>Artikel</td>\n",
       "      <td>False</td>\n",
       "      <td>Identities</td>\n",
       "      <td>dieStandard/diealltag/diekultur/Identities</td>\n",
       "      <td>dieStandard</td>\n",
       "      <td>Alltag</td>\n",
       "      <td>Redaktion</td>\n",
       "      <td>/2915664 Lustvolles Altern</td>\n",
       "      <td>AutorIn</td>\n",
       "      <td>Online only</td>\n",
       "      <td>2721.0</td>\n",
       "      <td>420.0</td>\n",
       "      <td>None</td>\n",
       "      <td>N/A</td>\n",
       "      <td>Online</td>\n",
       "    </tr>\n",
       "  </tbody>\n",
       "</table>\n",
       "</div>"
      ],
      "text/plain": [
       "   SID_Content  ID_GodotObject ObjectType  IsRessort             RessortName  \\\n",
       "0           48            1932    Ressort       True                Newsroom   \n",
       "1          410         2915388    Artikel      False              Abtreibung   \n",
       "2          411         2915480    Artikel      False             Spurensuche   \n",
       "3          412         2915586    Artikel      False  Forschung & Geschlecht   \n",
       "4          413         2915664    Artikel      False              Identities   \n",
       "\n",
       "                                           cp      Channel  \\\n",
       "0                                    Newsroom          N/A   \n",
       "1  dieStandard/Geschlechterpolitik/Abtreibung  dieStandard   \n",
       "2           dieStandard/diealltag/Spurensuche  dieStandard   \n",
       "3                 dieStandard/diewissenschaft  dieStandard   \n",
       "4  dieStandard/diealltag/diekultur/Identities  dieStandard   \n",
       "\n",
       "     ChannelTopRessort    Produkt  \\\n",
       "0                 None  Redaktion   \n",
       "1  Geschlechterpolitik  Redaktion   \n",
       "2               Alltag  Redaktion   \n",
       "3        (dieStandard)  Redaktion   \n",
       "4               Alltag  Redaktion   \n",
       "\n",
       "                                      Description     Source SourceCategory  \\\n",
       "0                                 /r1932 Newsroom        N/A            N/A   \n",
       "1     /2915388 Abbrüche in Deutschland rückgängig  Redaktion    Online only   \n",
       "2  /2915480 <b>Ausstellung:</b> 100.000 Jahre Sex  Redaktion    Online only   \n",
       "3     /2915586 Neues Medikament gegen Osteoporose        APA        Agentur   \n",
       "4                      /2915664 Lustvolles Altern    AutorIn    Online only   \n",
       "\n",
       "   ID_Day  ID_Time template RessortType  Status  \n",
       "0     NaN      NaN     None     Ressort  Online  \n",
       "1  2762.0    846.0     None         N/A  Online  \n",
       "2  2725.0    763.0     None         N/A  Online  \n",
       "3  2742.0   1136.0     None         N/A  Online  \n",
       "4  2721.0    420.0     None         N/A  Online  "
      ]
     },
     "execution_count": 3,
     "metadata": {},
     "output_type": "execute_result"
    }
   ],
   "source": [
    "df_dimcontent.head()"
   ]
  },
  {
   "cell_type": "code",
   "execution_count": 11,
   "metadata": {},
   "outputs": [
    {
     "name": "stdout",
     "output_type": "stream",
     "text": [
      "139\n",
      "(Inland)                   89889\n",
      "Europa                     68444\n",
      "Unternehmen                66096\n",
      "Fußball                    65930\n",
      "Finanzen & Börse           64293\n",
      "Österreich-Chronik         56460\n",
      "Innovationen               49890\n",
      "Wirtschaftspolitik         41823\n",
      "Nahost                     36828\n",
      "Wien                       35796\n",
      "(Wirtschaft)               32891\n",
      "Netzpolitik                32163\n",
      "(International)            29806\n",
      "(Panorama)                 29649\n",
      "Telekom                    28315\n",
      "TV                         25841\n",
      "Mehr Sport                 25343\n",
      "IT-Business                24276\n",
      "Nord- und Lateinamerika    23232\n",
      "Welt-Chronik               23094\n",
      "Musik                      23042\n",
      "Werbung                    21562\n",
      "Film                       21003\n",
      "Geschlechterpolitik        20991\n",
      "Asien-Pazifik              20710\n",
      "Natur                      20413\n",
      "Literatur                  20350\n",
      "Bühne                      20339\n",
      "Umwelt                     19805\n",
      "TV-Programm                19588\n",
      "Bildende Kunst             19416\n",
      "Games                      18044\n",
      "Kommentare                 17013\n",
      "(Meinung)                  16704\n",
      "Medien                     15915\n",
      "Afrika                     15517\n",
      "Zeit                       15432\n",
      "Mensch                     15164\n",
      "Gesellschaft               14896\n",
      "Rätsel & Sudoku            14139\n",
      "(Etat)                     12823\n",
      "Alltag                     12425\n",
      "(Wissenschaft)             12207\n",
      "ORF                        11855\n",
      "Essen & Trinken            11541\n",
      "(Lifestyle)                 9906\n",
      "Welt                        9688\n",
      "Krankheit                   9409\n",
      "(AutoMobil)                 9320\n",
      "(Kultur)                    9307\n",
      "Name: ChannelTopRessort, dtype: int64\n"
     ]
    }
   ],
   "source": [
    "print(df_dimcontent.ChannelTopRessort.nunique())\n",
    "print(df_dimcontent.ChannelTopRessort.value_counts()[:50])"
   ]
  },
  {
   "cell_type": "code",
   "execution_count": 13,
   "metadata": {},
   "outputs": [
    {
     "data": {
      "text/plain": [
       "Artikel                             1474154\n",
       "DiaShow                               39893\n",
       "Other                                 10162\n",
       "Spiel                                  9109\n",
       "Ressort                                8466\n",
       "LiveBericht                            4993\n",
       "Übersichtsseite                        3152\n",
       "Raetsel                                2054\n",
       "Blog                                   1991\n",
       "Chronologie                            1792\n",
       "Quiz                                   1372\n",
       "(unbekannt)                             665\n",
       "EmailForm                               475\n",
       "Channel                                  54\n",
       "Abo                                      28\n",
       "Rubriken_Immobilien                      23\n",
       "Unternehmen                              21\n",
       "Nichtredaktionell                        18\n",
       "UGC_Registrierung                        15\n",
       "UGC_Userprofile                          14\n",
       "Rubriken_Immobilien_Suchergebnis         11\n",
       "Rubriken_Karriere                        10\n",
       "Service_Kursinfo                         10\n",
       "AboService                                8\n",
       "UGC                                       8\n",
       "Service_Wetter                            6\n",
       "Diashow                                   6\n",
       "Service_Kino                              5\n",
       "Karriere_Artikel                          4\n",
       "Rubriken_AutoMobil                        4\n",
       "Umfrage                                   3\n",
       "Immobilien_Artikel                        2\n",
       "Rubriken_Karriere_Suchergebnis            2\n",
       "Rubriken_Immobilien_Inserat               2\n",
       "Rubriken_Immobilien_Detailsuche           2\n",
       "Unternehmen_Formulare                     2\n",
       "Rubriken_Immobilien_Homepage              1\n",
       "Service_Suche                             1\n",
       "Rubriken_AutoMobil_Suchergebnis           1\n",
       "Sales_Homepage                            1\n",
       "Rubriken_Karriere_Homepage                1\n",
       "Service_Archiv                            1\n",
       "About_Homepage                            1\n",
       "Abo_Homepage                              1\n",
       "SiteLink                                  1\n",
       "Rubriken_AutoMobil_Inserat                1\n",
       "Service_Preisvergleich                    1\n",
       "EmbedHTML                                 1\n",
       "UGC_MeinUserprofil                        1\n",
       "Rubriken_Karriere_Inserat                 1\n",
       "Service_Sport                             1\n",
       "Link                                      1\n",
       "Seite1                                    1\n",
       "Rubriken_Immobilien_Immopreise            1\n",
       "Name: ObjectType, dtype: int64"
      ]
     },
     "execution_count": 13,
     "metadata": {},
     "output_type": "execute_result"
    }
   ],
   "source": [
    "df_dimcontent.ObjectType.value_counts()"
   ]
  },
  {
   "cell_type": "code",
   "execution_count": 4,
   "metadata": {},
   "outputs": [
    {
     "data": {
      "text/plain": [
       "Wirtschaft               205103\n",
       "International            194537\n",
       "Panorama                 179692\n",
       "Web                      164971\n",
       "Sport                    132940\n",
       "Kultur                   119337\n",
       "Etat                     118362\n",
       "Wissenschaft              91320\n",
       "Inland                    89889\n",
       "Meinung                   48374\n",
       "Lifestyle                 46061\n",
       "dieStandard               44484\n",
       "Gesundheit                26076\n",
       "Bildung                   22085\n",
       "Reisen                    16772\n",
       "Karriere                  13356\n",
       "Immobilien                10380\n",
       "AutoMobil                  9320\n",
       "Diverses                   7904\n",
       "User                       5109\n",
       "Familie                    3514\n",
       "Recht                      2629\n",
       "Zukunft                    1660\n",
       "Testchannel2               1093\n",
       "Sales                       985\n",
       "IntraOnline                 597\n",
       "Diskurs                     485\n",
       "Abo                         417\n",
       "Archiv                      362\n",
       "Wissenundgesellschaft       194\n",
       "Livingroom                  132\n",
       "none                        108\n",
       "Seite1                       82\n",
       "N/A                          79\n",
       "UserGeneratedContent         38\n",
       "WebShop                      17\n",
       "Unternehmen                  16\n",
       "Podcast                      13\n",
       "Kursinfo                     10\n",
       "derStandardDE                 9\n",
       "Impressum                     8\n",
       "daStandard                    8\n",
       "Deutschland                   8\n",
       "Wetter                        6\n",
       "Kino                          5\n",
       "Shop                          4\n",
       "Preisvergleich                1\n",
       "Sporttabellen                 1\n",
       "Newsletter                    1\n",
       "Name: Channel, dtype: int64"
      ]
     },
     "execution_count": 4,
     "metadata": {},
     "output_type": "execute_result"
    }
   ],
   "source": [
    "df_dimcontent.Channel.value_counts()"
   ]
  },
  {
   "cell_type": "code",
   "execution_count": 5,
   "metadata": {},
   "outputs": [
    {
     "data": {
      "text/plain": [
       "Österreich                                  42081\n",
       "IT-Business                                 26444\n",
       "Unternehmen                                 25011\n",
       "Netzpolitik                                 21945\n",
       "TV-Programm: Switchlist                     19523\n",
       "                                            ...  \n",
       "Chronologie Heer & Zivildienst                  1\n",
       "Chronologie Foodblog: 365vegan                  1\n",
       "Chronologie Games-Kolumne: Berufsspieler        1\n",
       "Chronologie Astronomie                          1\n",
       "\"Toni Erdmann\"                                  1\n",
       "Name: RessortName, Length: 9950, dtype: int64"
      ]
     },
     "execution_count": 5,
     "metadata": {},
     "output_type": "execute_result"
    }
   ],
   "source": [
    "df_dimcontent.RessortName.value_counts()"
   ]
  },
  {
   "cell_type": "code",
   "execution_count": 6,
   "metadata": {},
   "outputs": [
    {
     "data": {
      "text/plain": [
       "APA                  735827\n",
       "Zeitung              392320\n",
       "Redaktion            254968\n",
       "AutorIn               70058\n",
       "Aussendung            28798\n",
       "Admin                 25232\n",
       "Reuters               17653\n",
       "N/A                   13674\n",
       "UGC                   11786\n",
       "sid                    6605\n",
       "Unknown                1428\n",
       "WallStreetJournal       205\n",
       "Name: Source, dtype: int64"
      ]
     },
     "execution_count": 6,
     "metadata": {},
     "output_type": "execute_result"
    }
   ],
   "source": [
    "df_dimcontent.Source.value_counts()"
   ]
  },
  {
   "cell_type": "code",
   "execution_count": 7,
   "metadata": {},
   "outputs": [
    {
     "data": {
      "text/plain": [
       "7983.0"
      ]
     },
     "execution_count": 7,
     "metadata": {},
     "output_type": "execute_result"
    }
   ],
   "source": [
    "df_dimcontent.ID_Day.max()"
   ]
  },
  {
   "cell_type": "code",
   "execution_count": 9,
   "metadata": {},
   "outputs": [],
   "source": [
    "df_content = pd.read_pickle(\"df_content.pkl\")"
   ]
  },
  {
   "cell_type": "code",
   "execution_count": 10,
   "metadata": {},
   "outputs": [],
   "source": [
    "df_merged = pd.merge(df_dimcontent, df_content, on = 'ID_GodotObject')"
   ]
  },
  {
   "cell_type": "code",
   "execution_count": 17,
   "metadata": {},
   "outputs": [],
   "source": [
    "df_merged['same_channel'] = df_merged.ChannelTopRessort_x == df_merged.ChannelTopRessort_y"
   ]
  },
  {
   "cell_type": "code",
   "execution_count": 20,
   "metadata": {},
   "outputs": [
    {
     "data": {
      "text/plain": [
       "True     0.855278\n",
       "False    0.144722\n",
       "Name: same_channel, dtype: float64"
      ]
     },
     "execution_count": 20,
     "metadata": {},
     "output_type": "execute_result"
    }
   ],
   "source": [
    "df_merged.same_channel.value_counts(normalize = True)"
   ]
  },
  {
   "cell_type": "code",
   "execution_count": 21,
   "metadata": {},
   "outputs": [],
   "source": [
    "df_merged['channels'] = df_merged.ChannelTopRessort_x + df_merged.ChannelTopRessort_y"
   ]
  },
  {
   "cell_type": "code",
   "execution_count": 26,
   "metadata": {},
   "outputs": [
    {
     "data": {
      "text/plain": [
       "Wirtschaftspolitik(Wirtschaft)        40319\n",
       "TV(Etat)                              25225\n",
       "Geschlechterpolitik(dieStandard)      20397\n",
       "TV-Programm(Etat)                     19310\n",
       "WerbungWerbung & PR                   18453\n",
       "MedienPrint                           15530\n",
       "(International)EU                      9908\n",
       "Gesund bleiben(Gesundheit)             8537\n",
       "Uni(Bildung)                           7241\n",
       "Reisen aktuell(Reisen)                 6456\n",
       "Kommentare der anderen(Meinung)        4844\n",
       "(dieStandard)Wissenschaft              4731\n",
       "InternetOnline                         4494\n",
       "Arbeitswelten(dieStandard)             4131\n",
       "(International)(Panorama)              3478\n",
       "Europa Reisen(Reisen)                  3060\n",
       "WerbungWerbepreise                     2808\n",
       "Urlaub in Österreich(Reisen)           2413\n",
       "Therapie & Medikamente(Gesundheit)     2349\n",
       "(Recht)(Wirtschaft)                    2052\n",
       "Fernreisen(Reisen)                     1840\n",
       "DebatteMeinung                         1534\n",
       "(Gesundheit)Vorsorge                   1221\n",
       "Familie & Gesundheit(Gesundheit)       1143\n",
       "Userkommentare(User)                    897\n",
       "Mitreden(User)                          827\n",
       "(Zukunft)(Familie)                      577\n",
       "Userkommentare(Meinung)                 573\n",
       "(Gesundheit)Service                     534\n",
       "Reiseblogs(Reisen)                      519\n",
       "Medien-Blogs(Etat)                      399\n",
       "Welt-ChronikGesellschaft                291\n",
       "(Lifestyle)DE                           272\n",
       "(Diskurs)DE                             232\n",
       "Quiz: Mitmachen(User)                   229\n",
       "(International)DE                       205\n",
       "(Immobilien)Gewerbeimmobilien           199\n",
       "ZoomZeit                                185\n",
       "(Sport)DE                               164\n",
       "Off-Topic(User)                         160\n",
       "(Panorama)DE                            138\n",
       "(Kultur)DE                              114\n",
       "(Web)DE                                  90\n",
       "(Gesundheit)DE                           88\n",
       "(Inland)DE                               86\n",
       "(Etat)DE                                 85\n",
       "(Immobilien)DE                           60\n",
       "(Lifestyle)(User)                        58\n",
       "Zoom(Wissenschaft)                       38\n",
       "(Karriere)DE                             38\n",
       "(dieStandard)DE                          34\n",
       "(Wirtschaft)DE                           31\n",
       "(N/A)DE                                  24\n",
       "(Bildung)Userblogs                       19\n",
       "(Sales)(IntraOnline)                     18\n",
       "(Diverses)(Wirtschaft)                   16\n",
       "Forum+(User)                             12\n",
       "Debatten(Meinung)                        10\n",
       "(Recht)Userblogs                         10\n",
       "(Familie)(User)                           7\n",
       "(Bildung)(Karriere)                       7\n",
       "ZoomRaum                                  6\n",
       "(User)(International)                     3\n",
       "(Wissenschaft)Technik                     2\n",
       "(Podcast)DE                               2\n",
       "(Recht)(dieStandard)                      1\n",
       "Schulferien(Reisen)                       1\n",
       "Redaktionsblogs(Meinung)                  1\n",
       "Name: channels, dtype: int64"
      ]
     },
     "execution_count": 26,
     "metadata": {},
     "output_type": "execute_result"
    }
   ],
   "source": [
    "pd.set_option(\"display.max_rows\", None)\n",
    "pd.set_option(\"display.max_columns\", None)\n",
    "df_merged.loc[df_merged.same_channel == False,'channels'].value_counts()[0:100]"
   ]
  },
  {
   "cell_type": "code",
   "execution_count": 12,
   "metadata": {},
   "outputs": [
    {
     "data": {
      "text/html": [
       "<div>\n",
       "<style scoped>\n",
       "    .dataframe tbody tr th:only-of-type {\n",
       "        vertical-align: middle;\n",
       "    }\n",
       "\n",
       "    .dataframe tbody tr th {\n",
       "        vertical-align: top;\n",
       "    }\n",
       "\n",
       "    .dataframe thead th {\n",
       "        text-align: right;\n",
       "    }\n",
       "</style>\n",
       "<table border=\"1\" class=\"dataframe\">\n",
       "  <thead>\n",
       "    <tr style=\"text-align: right;\">\n",
       "      <th></th>\n",
       "      <th>SID_Content</th>\n",
       "      <th>ID_GodotObject</th>\n",
       "      <th>ObjectType</th>\n",
       "      <th>IsRessort</th>\n",
       "      <th>RessortName</th>\n",
       "      <th>cp</th>\n",
       "      <th>Channel</th>\n",
       "      <th>ChannelTopRessort</th>\n",
       "      <th>Produkt</th>\n",
       "      <th>Description</th>\n",
       "      <th>Source</th>\n",
       "      <th>SourceCategory</th>\n",
       "      <th>ID_Day</th>\n",
       "      <th>ID_Time</th>\n",
       "      <th>template</th>\n",
       "      <th>RessortType</th>\n",
       "      <th>Status</th>\n",
       "    </tr>\n",
       "  </thead>\n",
       "  <tbody>\n",
       "    <tr>\n",
       "      <th>220816</th>\n",
       "      <td>439932</td>\n",
       "      <td>1932879</td>\n",
       "      <td>Artikel</td>\n",
       "      <td>False</td>\n",
       "      <td>Italien</td>\n",
       "      <td>Newsroom/International/Europa/italien</td>\n",
       "      <td>International</td>\n",
       "      <td>Europa</td>\n",
       "      <td>Redaktion</td>\n",
       "      <td>/1932879 Ausgewählte Medien im Internet</td>\n",
       "      <td>Redaktion</td>\n",
       "      <td>Online only</td>\n",
       "      <td>1912.0</td>\n",
       "      <td>1322.0</td>\n",
       "      <td>None</td>\n",
       "      <td>N/A</td>\n",
       "      <td>Online</td>\n",
       "    </tr>\n",
       "  </tbody>\n",
       "</table>\n",
       "</div>"
      ],
      "text/plain": [
       "        SID_Content  ID_GodotObject ObjectType  IsRessort RessortName  \\\n",
       "220816       439932         1932879    Artikel      False     Italien   \n",
       "\n",
       "                                           cp        Channel  \\\n",
       "220816  Newsroom/International/Europa/italien  International   \n",
       "\n",
       "       ChannelTopRessort    Produkt                              Description  \\\n",
       "220816            Europa  Redaktion  /1932879 Ausgewählte Medien im Internet   \n",
       "\n",
       "           Source SourceCategory  ID_Day  ID_Time template RessortType  Status  \n",
       "220816  Redaktion    Online only  1912.0   1322.0     None         N/A  Online  "
      ]
     },
     "execution_count": 12,
     "metadata": {},
     "output_type": "execute_result"
    }
   ],
   "source": [
    "df_dimcontent.loc[df_dimcontent.ID_GodotObject == 1932879,]"
   ]
  },
  {
   "cell_type": "code",
   "execution_count": 21,
   "metadata": {},
   "outputs": [
    {
     "data": {
      "text/plain": [
       "DiaShow            207\n",
       "Artikel              3\n",
       "Übersichtsseite      2\n",
       "Ressort              1\n",
       "Name: ObjectType, dtype: int64"
      ]
     },
     "execution_count": 21,
     "metadata": {},
     "output_type": "execute_result"
    }
   ],
   "source": [
    "df_dimcontent.loc[df_dimcontent.RessortName == 'Cartoons',].ObjectType.value_counts()[:20]"
   ]
  },
  {
   "cell_type": "code",
   "execution_count": 3,
   "metadata": {},
   "outputs": [],
   "source": [
    "df_content_art = pd.read_pickle(\"df_content_art.pkl\")"
   ]
  },
  {
   "cell_type": "code",
   "execution_count": 5,
   "metadata": {},
   "outputs": [
    {
     "data": {
      "text/plain": [
       "(1789210, 3)"
      ]
     },
     "execution_count": 5,
     "metadata": {},
     "output_type": "execute_result"
    }
   ],
   "source": [
    "df_content_art.shape"
   ]
  },
  {
   "cell_type": "code",
   "execution_count": 4,
   "metadata": {},
   "outputs": [
    {
     "data": {
      "text/html": [
       "<div>\n",
       "<style scoped>\n",
       "    .dataframe tbody tr th:only-of-type {\n",
       "        vertical-align: middle;\n",
       "    }\n",
       "\n",
       "    .dataframe tbody tr th {\n",
       "        vertical-align: top;\n",
       "    }\n",
       "\n",
       "    .dataframe thead th {\n",
       "        text-align: right;\n",
       "    }\n",
       "</style>\n",
       "<table border=\"1\" class=\"dataframe\">\n",
       "  <thead>\n",
       "    <tr style=\"text-align: right;\">\n",
       "      <th></th>\n",
       "      <th>ID_GodotObject</th>\n",
       "      <th>documentXML</th>\n",
       "      <th>url</th>\n",
       "    </tr>\n",
       "  </thead>\n",
       "  <tbody>\n",
       "    <tr>\n",
       "      <th>0</th>\n",
       "      <td>7063</td>\n",
       "      <td>&lt;document id=\"7063\" homeRessortId=\"137\" publis...</td>\n",
       "      <td>/7063/Die-Freuden-der-Premiere---Meldung-ist-n...</td>\n",
       "    </tr>\n",
       "    <tr>\n",
       "      <th>1</th>\n",
       "      <td>11615</td>\n",
       "      <td>&lt;document id=\"11615\" homeRessortId=\"146\" publi...</td>\n",
       "      <td>/11615/WM-Titelentscheidungen-im-letzten-Saiso...</td>\n",
       "    </tr>\n",
       "    <tr>\n",
       "      <th>2</th>\n",
       "      <td>12473</td>\n",
       "      <td>&lt;document id=\"12473\" homeRessortId=\"375\" publi...</td>\n",
       "      <td>/12473/Yahoo-Inc-kooperiert-mit-chinesischem-U...</td>\n",
       "    </tr>\n",
       "    <tr>\n",
       "      <th>3</th>\n",
       "      <td>12479</td>\n",
       "      <td>&lt;document id=\"12479\" homeRessortId=\"406\" publi...</td>\n",
       "      <td>/12479/Minispion-in-Netscapes-Navigator-eingebaut</td>\n",
       "    </tr>\n",
       "    <tr>\n",
       "      <th>4</th>\n",
       "      <td>13114</td>\n",
       "      <td>&lt;document id=\"13114\" homeRessortId=\"249\" publi...</td>\n",
       "      <td>/13114/Forscher-arbeiten-an-universeller-Inter...</td>\n",
       "    </tr>\n",
       "  </tbody>\n",
       "</table>\n",
       "</div>"
      ],
      "text/plain": [
       "   ID_GodotObject                                        documentXML  \\\n",
       "0            7063  <document id=\"7063\" homeRessortId=\"137\" publis...   \n",
       "1           11615  <document id=\"11615\" homeRessortId=\"146\" publi...   \n",
       "2           12473  <document id=\"12473\" homeRessortId=\"375\" publi...   \n",
       "3           12479  <document id=\"12479\" homeRessortId=\"406\" publi...   \n",
       "4           13114  <document id=\"13114\" homeRessortId=\"249\" publi...   \n",
       "\n",
       "                                                 url  \n",
       "0  /7063/Die-Freuden-der-Premiere---Meldung-ist-n...  \n",
       "1  /11615/WM-Titelentscheidungen-im-letzten-Saiso...  \n",
       "2  /12473/Yahoo-Inc-kooperiert-mit-chinesischem-U...  \n",
       "3  /12479/Minispion-in-Netscapes-Navigator-eingebaut  \n",
       "4  /13114/Forscher-arbeiten-an-universeller-Inter...  "
      ]
     },
     "execution_count": 4,
     "metadata": {},
     "output_type": "execute_result"
    }
   ],
   "source": [
    "df_content_art.head()"
   ]
  },
  {
   "cell_type": "code",
   "execution_count": null,
   "metadata": {},
   "outputs": [],
   "source": []
  }
 ],
 "metadata": {
  "interpreter": {
   "hash": "51ff47f0dacf2fb2da9303db8ac9b14c37317ddba727b462e1272899e66bda23"
  },
  "kernelspec": {
   "display_name": "Python 3.9.13 ('Blake_Thesis')",
   "language": "python",
   "name": "python3"
  },
  "language_info": {
   "codemirror_mode": {
    "name": "ipython",
    "version": 3
   },
   "file_extension": ".py",
   "mimetype": "text/x-python",
   "name": "python",
   "nbconvert_exporter": "python",
   "pygments_lexer": "ipython3",
   "version": "3.9.13"
  },
  "orig_nbformat": 4
 },
 "nbformat": 4,
 "nbformat_minor": 2
}
